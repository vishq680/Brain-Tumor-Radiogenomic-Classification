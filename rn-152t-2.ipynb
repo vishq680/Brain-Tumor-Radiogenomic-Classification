{
 "cells": [
  {
   "cell_type": "code",
   "execution_count": 1,
   "id": "6547aae0",
   "metadata": {
    "_cell_guid": "b1076dfc-b9ad-4769-8c92-a6c4dae69d19",
    "_uuid": "8f2839f25d086af736a60e9eeb907d3b93b6e0e5",
    "execution": {
     "iopub.execute_input": "2021-08-31T07:00:24.747114Z",
     "iopub.status.busy": "2021-08-31T07:00:24.746449Z",
     "iopub.status.idle": "2021-08-31T07:00:27.718919Z",
     "shell.execute_reply": "2021-08-31T07:00:27.718259Z",
     "shell.execute_reply.started": "2021-08-30T05:00:27.810659Z"
    },
    "papermill": {
     "duration": 3.004943,
     "end_time": "2021-08-31T07:00:27.719096",
     "exception": false,
     "start_time": "2021-08-31T07:00:24.714153",
     "status": "completed"
    },
    "tags": []
   },
   "outputs": [],
   "source": [
    "import pytorch_lightning as pl\n",
    "import cv2 as cv\n",
    "import pydicom as dicom\n",
    "from pydicom.pixel_data_handlers import apply_voi_lut\n",
    "import pandas as pd\n",
    "import torch\n",
    "import os\n",
    "from collections import defaultdict\n",
    "from torch.utils.data import Dataset,DataLoader\n",
    "from torchvision import transforms, models\n",
    "import torch.nn as nn\n",
    "import torch.nn.functional as F\n",
    "import torch.optim as optim\n",
    "import copy\n",
    "import numpy as np\n",
    "from PIL import Image,ImageOps\n",
    "import matplotlib.pyplot as plt\n",
    "import sys\n",
    "from tqdm.notebook import tqdm, trange\n",
    "import time"
   ]
  },
  {
   "cell_type": "code",
   "execution_count": 2,
   "id": "6e1fbf58",
   "metadata": {
    "execution": {
     "iopub.execute_input": "2021-08-31T07:00:27.798838Z",
     "iopub.status.busy": "2021-08-31T07:00:27.798132Z",
     "iopub.status.idle": "2021-08-31T07:00:27.801221Z",
     "shell.execute_reply": "2021-08-31T07:00:27.801849Z",
     "shell.execute_reply.started": "2021-08-30T05:00:30.70551Z"
    },
    "papermill": {
     "duration": 0.064096,
     "end_time": "2021-08-31T07:00:27.802023",
     "exception": false,
     "start_time": "2021-08-31T07:00:27.737927",
     "status": "completed"
    },
    "tags": []
   },
   "outputs": [
    {
     "name": "stdout",
     "output_type": "stream",
     "text": [
      "cuda:0\n"
     ]
    }
   ],
   "source": [
    "device = torch.device(\"cuda:0\" if torch.cuda.is_available() else \"cpu\")\n",
    "# device = torch.device(\"cpu\")\n",
    "print(device)"
   ]
  },
  {
   "cell_type": "code",
   "execution_count": 3,
   "id": "616f44b4",
   "metadata": {
    "execution": {
     "iopub.execute_input": "2021-08-31T07:00:27.843951Z",
     "iopub.status.busy": "2021-08-31T07:00:27.843265Z",
     "iopub.status.idle": "2021-08-31T07:00:27.845626Z",
     "shell.execute_reply": "2021-08-31T07:00:27.846079Z",
     "shell.execute_reply.started": "2021-08-30T05:00:33.559189Z"
    },
    "papermill": {
     "duration": 0.024985,
     "end_time": "2021-08-31T07:00:27.846195",
     "exception": false,
     "start_time": "2021-08-31T07:00:27.821210",
     "status": "completed"
    },
    "tags": []
   },
   "outputs": [],
   "source": [
    "train_dir = \"../input/rsna-miccai-brain-tumor-radiogenomic-classification/train\"\n",
    "train_labels_dir = \"../input/rsna-miccai-brain-tumor-radiogenomic-classification/train_labels.csv\"\n",
    "test_dir = \"../input/rsna-miccai-brain-tumor-radiogenomic-classification/test\"\n",
    "png_train = \"./png/train\"\n",
    "png_test = \"./png/test\"\n",
    "batch_size = 4"
   ]
  },
  {
   "cell_type": "code",
   "execution_count": 4,
   "id": "30fbb907",
   "metadata": {
    "execution": {
     "iopub.execute_input": "2021-08-31T07:00:27.887943Z",
     "iopub.status.busy": "2021-08-31T07:00:27.887253Z",
     "iopub.status.idle": "2021-08-31T07:00:27.890030Z",
     "shell.execute_reply": "2021-08-31T07:00:27.889551Z",
     "shell.execute_reply.started": "2021-08-30T05:00:33.858765Z"
    },
    "papermill": {
     "duration": 0.025376,
     "end_time": "2021-08-31T07:00:27.890132",
     "exception": false,
     "start_time": "2021-08-31T07:00:27.864756",
     "status": "completed"
    },
    "tags": []
   },
   "outputs": [],
   "source": [
    "def ensure_dir(file_path):\n",
    "    directory = os.path.dirname(file_path)\n",
    "    if not os.path.exists(directory):\n",
    "        os.makedirs(directory)"
   ]
  },
  {
   "cell_type": "code",
   "execution_count": 5,
   "id": "793efe75",
   "metadata": {
    "execution": {
     "iopub.execute_input": "2021-08-31T07:00:27.937030Z",
     "iopub.status.busy": "2021-08-31T07:00:27.936202Z",
     "iopub.status.idle": "2021-08-31T07:00:27.938438Z",
     "shell.execute_reply": "2021-08-31T07:00:27.938856Z",
     "shell.execute_reply.started": "2021-08-30T05:00:34.427847Z"
    },
    "papermill": {
     "duration": 0.030112,
     "end_time": "2021-08-31T07:00:27.938982",
     "exception": false,
     "start_time": "2021-08-31T07:00:27.908870",
     "status": "completed"
    },
    "tags": []
   },
   "outputs": [],
   "source": [
    "def dicom2png(path,v):\n",
    "    dcm_file = dicom.read_file(path)\n",
    "#     print(np.mean(dcm_file.pixel_array)!=0)\n",
    "    data = apply_voi_lut(dcm_file.pixel_array, dcm_file)\n",
    "    if np.max(data) - np.min(data) != 0:\n",
    "        if dcm_file.PhotometricInterpretation == \"MONOCHROME1\":\n",
    "            data = np.amax(data) - data\n",
    "        data = data - np.min(data)\n",
    "        data = data / np.max(data)\n",
    "        data = (data * 255).astype(np.uint8)\n",
    "        im = Image.fromarray(data)\n",
    "        to_dir = os.path.abspath(png_train)\n",
    "        head,tail = os.path.split(path)\n",
    "        file_name = tail\n",
    "        ls = []\n",
    "        head,tail = os.path.split(head)\n",
    "        ls.append(tail)\n",
    "        head,tail = os.path.split(head)\n",
    "        ls.append(tail)\n",
    "#         print(tail)\n",
    "        ls.reverse()\n",
    "        for loc in ls:\n",
    "            to_dir = os.path.join(to_dir,loc)\n",
    "        to_dir = os.path.abspath(png_train)\n",
    "        to_dir = os.path.join(to_dir,v)\n",
    "        os.makedirs(to_dir, exist_ok = True)\n",
    "        file_name = os.path.splitext(file_name)[0]\n",
    "        file_name += '.png'\n",
    "        to_dir = os.path.join(to_dir,file_name)\n",
    "        im.save(to_dir)"
   ]
  },
  {
   "cell_type": "code",
   "execution_count": 6,
   "id": "ab054b64",
   "metadata": {
    "execution": {
     "iopub.execute_input": "2021-08-31T07:00:27.982753Z",
     "iopub.status.busy": "2021-08-31T07:00:27.982219Z",
     "iopub.status.idle": "2021-08-31T07:00:28.014972Z",
     "shell.execute_reply": "2021-08-31T07:00:28.015550Z",
     "shell.execute_reply.started": "2021-08-30T05:00:34.987362Z"
    },
    "papermill": {
     "duration": 0.058085,
     "end_time": "2021-08-31T07:00:28.015740",
     "exception": false,
     "start_time": "2021-08-31T07:00:27.957655",
     "status": "completed"
    },
    "tags": []
   },
   "outputs": [
    {
     "name": "stdout",
     "output_type": "stream",
     "text": [
      "582\n",
      "-----------------------\n",
      "<class 'list'> <class 'list'>\n",
      "582 582\n"
     ]
    }
   ],
   "source": [
    "train_labels=pd.read_csv(train_labels_dir)\n",
    "train_labels['BraTS21ID'] = train_labels['BraTS21ID'].apply(lambda x: str(x).zfill(5))\n",
    "train_labels = train_labels.set_index('BraTS21ID')\n",
    "train_labels = train_labels.drop(index = '00109')\n",
    "train_labels = train_labels.drop(index = '00123')\n",
    "train_labels = train_labels.drop(index = '00709')\n",
    "train_patients = train_labels.index.values.tolist()\n",
    "test_patients = os.listdir(test_dir)\n",
    "print(len(train_labels))\n",
    "# print(train_labels)\n",
    "print('-----------------------')\n",
    "# lab = train_labels.to_numpy()\n",
    "# print(train_patients)\n",
    "lab = train_labels.values.tolist()\n",
    "print(type(lab),type(train_patients))\n",
    "print(len(lab),len(train_patients))\n",
    "# print(lab)\n",
    "# for x,y in train_patients:\n",
    "#     if(x == 00000):\n",
    "#         print(y)"
   ]
  },
  {
   "cell_type": "code",
   "execution_count": 7,
   "id": "a00653a1",
   "metadata": {
    "execution": {
     "iopub.execute_input": "2021-08-31T07:00:28.060353Z",
     "iopub.status.busy": "2021-08-31T07:00:28.059511Z",
     "iopub.status.idle": "2021-08-31T07:17:57.692285Z",
     "shell.execute_reply": "2021-08-31T07:17:57.692773Z",
     "shell.execute_reply.started": "2021-08-30T05:00:35.582819Z"
    },
    "papermill": {
     "duration": 1049.657406,
     "end_time": "2021-08-31T07:17:57.692956",
     "exception": false,
     "start_time": "2021-08-31T07:00:28.035550",
     "status": "completed"
    },
    "tags": []
   },
   "outputs": [
    {
     "data": {
      "application/vnd.jupyter.widget-view+json": {
       "model_id": "622d781aa0704a9bba9cbb4a11f8b06f",
       "version_major": 2,
       "version_minor": 0
      },
      "text/plain": [
       "  0%|          | 0/582 [00:00<?, ?it/s]"
      ]
     },
     "metadata": {},
     "output_type": "display_data"
    },
    {
     "name": "stdout",
     "output_type": "stream",
     "text": [
      "Over\n"
     ]
    }
   ],
   "source": [
    "for patient in tqdm(train_patients):\n",
    "    id = train_patients.index(patient)\n",
    "    v = lab[id]\n",
    "    m=str(v)\n",
    "#     print(v)\n",
    "    path = os.path.join(train_dir, patient,'FLAIR')\n",
    "#     print(path)\n",
    "    for dcm_file in os.listdir(path):\n",
    "        file_path = os.path.join(path,dcm_file)\n",
    "        dicom2png(file_path,m)\n",
    "print(\"Over\")"
   ]
  },
  {
   "cell_type": "code",
   "execution_count": 8,
   "id": "cf35cba6",
   "metadata": {
    "execution": {
     "iopub.execute_input": "2021-08-31T07:17:57.738493Z",
     "iopub.status.busy": "2021-08-31T07:17:57.737996Z",
     "iopub.status.idle": "2021-08-31T07:17:57.740984Z",
     "shell.execute_reply": "2021-08-31T07:17:57.741880Z",
     "shell.execute_reply.started": "2021-08-30T05:18:18.323124Z"
    },
    "papermill": {
     "duration": 0.02777,
     "end_time": "2021-08-31T07:17:57.742015",
     "exception": false,
     "start_time": "2021-08-31T07:17:57.714245",
     "status": "completed"
    },
    "tags": []
   },
   "outputs": [],
   "source": [
    "classes=['1','0']\n",
    "num_classes=2\n",
    "batch_size=4"
   ]
  },
  {
   "cell_type": "code",
   "execution_count": 9,
   "id": "16c627a7",
   "metadata": {
    "execution": {
     "iopub.execute_input": "2021-08-31T07:17:57.788277Z",
     "iopub.status.busy": "2021-08-31T07:17:57.787376Z",
     "iopub.status.idle": "2021-08-31T07:17:57.796294Z",
     "shell.execute_reply": "2021-08-31T07:17:57.795888Z",
     "shell.execute_reply.started": "2021-08-30T05:18:18.329497Z"
    },
    "papermill": {
     "duration": 0.033475,
     "end_time": "2021-08-31T07:17:57.796395",
     "exception": false,
     "start_time": "2021-08-31T07:17:57.762920",
     "status": "completed"
    },
    "tags": []
   },
   "outputs": [],
   "source": [
    "import torchvision\n",
    "from torchvision import transforms\n",
    "\n",
    "dataset = torchvision.datasets.ImageFolder(root=\"./png/train\",transform=transforms.Compose([\n",
    "                                                            transforms.ToTensor(),\n",
    "                                                            transforms.Resize([224,224]),\n",
    "                                                            ]))"
   ]
  },
  {
   "cell_type": "code",
   "execution_count": 10,
   "id": "c37f8ae8",
   "metadata": {
    "execution": {
     "iopub.execute_input": "2021-08-31T07:17:57.842826Z",
     "iopub.status.busy": "2021-08-31T07:17:57.841480Z",
     "iopub.status.idle": "2021-08-31T07:17:57.845102Z",
     "shell.execute_reply": "2021-08-31T07:17:57.845696Z",
     "shell.execute_reply.started": "2021-08-30T05:18:18.344691Z"
    },
    "papermill": {
     "duration": 0.02925,
     "end_time": "2021-08-31T07:17:57.845819",
     "exception": false,
     "start_time": "2021-08-31T07:17:57.816569",
     "status": "completed"
    },
    "tags": []
   },
   "outputs": [
    {
     "name": "stdout",
     "output_type": "stream",
     "text": [
      "999\n"
     ]
    }
   ],
   "source": [
    "print(len(dataset))\n",
    "trainloader=torch.utils.data.DataLoader(dataset,batch_size=batch_size,shuffle=True,generator=torch.Generator().manual_seed(42))"
   ]
  },
  {
   "cell_type": "code",
   "execution_count": 11,
   "id": "e68c70c4",
   "metadata": {
    "execution": {
     "iopub.execute_input": "2021-08-31T07:17:57.893429Z",
     "iopub.status.busy": "2021-08-31T07:17:57.892819Z",
     "iopub.status.idle": "2021-08-31T07:17:57.986146Z",
     "shell.execute_reply": "2021-08-31T07:17:57.985515Z",
     "shell.execute_reply.started": "2021-08-30T05:18:18.352431Z"
    },
    "papermill": {
     "duration": 0.119427,
     "end_time": "2021-08-31T07:17:57.986278",
     "exception": false,
     "start_time": "2021-08-31T07:17:57.866851",
     "status": "completed"
    },
    "tags": []
   },
   "outputs": [],
   "source": [
    "dataiter=iter(trainloader)\n",
    "images,labels=dataiter.next()"
   ]
  },
  {
   "cell_type": "code",
   "execution_count": 12,
   "id": "87aa6209",
   "metadata": {
    "execution": {
     "iopub.execute_input": "2021-08-31T07:17:58.049956Z",
     "iopub.status.busy": "2021-08-31T07:17:58.048045Z",
     "iopub.status.idle": "2021-08-31T07:17:58.050665Z",
     "shell.execute_reply": "2021-08-31T07:17:58.051158Z",
     "shell.execute_reply.started": "2021-08-30T05:24:58.80425Z"
    },
    "papermill": {
     "duration": 0.043395,
     "end_time": "2021-08-31T07:17:58.051295",
     "exception": false,
     "start_time": "2021-08-31T07:17:58.007900",
     "status": "completed"
    },
    "tags": []
   },
   "outputs": [],
   "source": [
    "class RN(nn.Module):\n",
    "    def __init__(self,learning_rate=0.001):\n",
    "        super().__init__()\n",
    "        self.learning_rate = learning_rate\n",
    "        backbone = models.resnet152(pretrained=False)\n",
    "        result = backbone.load_state_dict(torch.load(\"../input/pytorch-pretrained-models/resnet152-b121ed2d.pth\"))\n",
    "        print(result)\n",
    "        num_ftrs=backbone.fc.in_features\n",
    "        layers = list(backbone.children())[:-1]\n",
    "        self.feature_extractor = nn.Sequential(*layers)\n",
    "        fc=[]\n",
    "        fc.extend([nn.Linear(in_features=num_ftrs,out_features=128),\n",
    "           nn.ReLU(),\n",
    "           nn.Dropout(),\n",
    "           nn.Linear(in_features=128,out_features=64),\n",
    "           nn.ReLU(),\n",
    "           nn.Dropout(),\n",
    "           nn.Linear(in_features=64,out_features=1)\n",
    "          ])\n",
    "        self.classifier=nn.Sequential(*fc)\n",
    "        for param in self.feature_extractor.parameters():\n",
    "            param.requires_grad=False\n",
    "    def forward(self, x):\n",
    "        with torch.no_grad():\n",
    "            representations = self.feature_extractor(x).flatten(1)\n",
    "        x=self.classifier(representations)\n",
    "        return x;"
   ]
  },
  {
   "cell_type": "code",
   "execution_count": 13,
   "id": "7827114f",
   "metadata": {
    "execution": {
     "iopub.execute_input": "2021-08-31T07:17:58.110257Z",
     "iopub.status.busy": "2021-08-31T07:17:58.109423Z",
     "iopub.status.idle": "2021-08-31T07:18:07.638079Z",
     "shell.execute_reply": "2021-08-31T07:18:07.637520Z",
     "shell.execute_reply.started": "2021-08-30T05:25:09.805185Z"
    },
    "papermill": {
     "duration": 9.562182,
     "end_time": "2021-08-31T07:18:07.638213",
     "exception": false,
     "start_time": "2021-08-31T07:17:58.076031",
     "status": "completed"
    },
    "tags": []
   },
   "outputs": [
    {
     "name": "stdout",
     "output_type": "stream",
     "text": [
      "<All keys matched successfully>\n"
     ]
    }
   ],
   "source": [
    "rn=RN().to(device)"
   ]
  },
  {
   "cell_type": "code",
   "execution_count": 14,
   "id": "eb59e6bb",
   "metadata": {
    "execution": {
     "iopub.execute_input": "2021-08-31T07:18:07.688481Z",
     "iopub.status.busy": "2021-08-31T07:18:07.687875Z",
     "iopub.status.idle": "2021-08-31T07:18:07.690639Z",
     "shell.execute_reply": "2021-08-31T07:18:07.691137Z",
     "shell.execute_reply.started": "2021-08-30T05:25:23.152121Z"
    },
    "papermill": {
     "duration": 0.032278,
     "end_time": "2021-08-31T07:18:07.691282",
     "exception": false,
     "start_time": "2021-08-31T07:18:07.659004",
     "status": "completed"
    },
    "tags": []
   },
   "outputs": [],
   "source": [
    "def train(net,dataloader,epochs=15):\n",
    "    loss_fn=nn.BCEWithLogitsLoss().to(device)\n",
    "    running_loss = 0.0\n",
    "    opt=optim.Adam(params=net.parameters())\n",
    "    for epoch in range(epochs):\n",
    "        print(f'Running Epoch: {epoch+1}')\n",
    "        for i,data in enumerate(dataloader,0):\n",
    "            inputs,labels=data\n",
    "            inputs,labels=inputs.to(device),labels.to(device)\n",
    "            opt.zero_grad()\n",
    "            outputs=net(inputs)\n",
    "            labels=labels.unsqueeze(-1)\n",
    "            labels = labels.type_as(outputs)\n",
    "    #         print(outputs)\n",
    "            loss=loss_fn(outputs,labels)\n",
    "            loss.backward()\n",
    "            opt.step()\n",
    "            running_loss += loss.item()\n",
    "            if i % 200 == 199:    # print every 2000 mini-batches\n",
    "                print('[%d, %5d] loss: %.3f' %\n",
    "                    (epoch + 1, i + 1, running_loss / 200))\n",
    "                running_loss = 0.0\n",
    "            torch.cuda.empty_cache()\n",
    "            del inputs,labels,outputs\n",
    "    print('Finished Training')"
   ]
  },
  {
   "cell_type": "code",
   "execution_count": 15,
   "id": "fdf665e4",
   "metadata": {
    "execution": {
     "iopub.execute_input": "2021-08-31T07:18:07.742947Z",
     "iopub.status.busy": "2021-08-31T07:18:07.741659Z",
     "iopub.status.idle": "2021-08-31T07:18:07.745889Z",
     "shell.execute_reply": "2021-08-31T07:18:07.745288Z",
     "shell.execute_reply.started": "2021-08-30T05:25:31.108381Z"
    },
    "papermill": {
     "duration": 0.034258,
     "end_time": "2021-08-31T07:18:07.746042",
     "exception": false,
     "start_time": "2021-08-31T07:18:07.711784",
     "status": "completed"
    },
    "tags": []
   },
   "outputs": [
    {
     "name": "stdout",
     "output_type": "stream",
     "text": [
      "torch.Size([128, 2048])\n",
      "torch.Size([128])\n",
      "torch.Size([64, 128])\n",
      "torch.Size([64])\n",
      "torch.Size([1, 64])\n",
      "torch.Size([1])\n"
     ]
    }
   ],
   "source": [
    "for param in rn.parameters():\n",
    "    if param.requires_grad:\n",
    "        print(param.shape)"
   ]
  },
  {
   "cell_type": "code",
   "execution_count": 16,
   "id": "1dd4712a",
   "metadata": {
    "execution": {
     "iopub.execute_input": "2021-08-31T07:18:07.800098Z",
     "iopub.status.busy": "2021-08-31T07:18:07.799316Z",
     "iopub.status.idle": "2021-08-31T07:24:45.888525Z",
     "shell.execute_reply": "2021-08-31T07:24:45.887874Z",
     "shell.execute_reply.started": "2021-08-30T05:25:40.45304Z"
    },
    "papermill": {
     "duration": 398.120462,
     "end_time": "2021-08-31T07:24:45.888703",
     "exception": false,
     "start_time": "2021-08-31T07:18:07.768241",
     "status": "completed"
    },
    "tags": []
   },
   "outputs": [
    {
     "name": "stdout",
     "output_type": "stream",
     "text": [
      "Running Epoch: 1\n",
      "[1,   200] loss: 0.711\n",
      "Running Epoch: 2\n",
      "[2,   200] loss: 0.850\n",
      "Running Epoch: 3\n",
      "[3,   200] loss: 0.810\n",
      "Running Epoch: 4\n",
      "[4,   200] loss: 0.791\n",
      "Running Epoch: 5\n",
      "[5,   200] loss: 0.761\n",
      "Running Epoch: 6\n",
      "[6,   200] loss: 0.726\n",
      "Running Epoch: 7\n",
      "[7,   200] loss: 0.768\n",
      "Running Epoch: 8\n",
      "[8,   200] loss: 0.744\n",
      "Running Epoch: 9\n",
      "[9,   200] loss: 0.701\n",
      "Running Epoch: 10\n",
      "[10,   200] loss: 0.727\n",
      "Running Epoch: 11\n",
      "[11,   200] loss: 0.733\n",
      "Running Epoch: 12\n",
      "[12,   200] loss: 0.752\n",
      "Running Epoch: 13\n",
      "[13,   200] loss: 0.736\n",
      "Running Epoch: 14\n",
      "[14,   200] loss: 0.747\n",
      "Running Epoch: 15\n",
      "[15,   200] loss: 0.723\n",
      "Running Epoch: 16\n",
      "[16,   200] loss: 0.702\n",
      "Running Epoch: 17\n",
      "[17,   200] loss: 0.716\n",
      "Running Epoch: 18\n",
      "[18,   200] loss: 0.693\n",
      "Running Epoch: 19\n",
      "[19,   200] loss: 0.757\n",
      "Running Epoch: 20\n",
      "[20,   200] loss: 0.740\n",
      "Finished Training\n"
     ]
    }
   ],
   "source": [
    "train(rn,trainloader,20)"
   ]
  },
  {
   "cell_type": "code",
   "execution_count": 17,
   "id": "a3237435",
   "metadata": {
    "execution": {
     "iopub.execute_input": "2021-08-31T07:24:45.961449Z",
     "iopub.status.busy": "2021-08-31T07:24:45.960162Z",
     "iopub.status.idle": "2021-08-31T07:24:45.962493Z",
     "shell.execute_reply": "2021-08-31T07:24:45.962921Z",
     "shell.execute_reply.started": "2021-08-30T05:32:22.0413Z"
    },
    "papermill": {
     "duration": 0.042201,
     "end_time": "2021-08-31T07:24:45.963047",
     "exception": false,
     "start_time": "2021-08-31T07:24:45.920846",
     "status": "completed"
    },
    "tags": []
   },
   "outputs": [],
   "source": [
    "def dicom2pngt(path,directory = png_train):\n",
    "    dcm_file = dicom.read_file(path)\n",
    "#     print(np.mean(dcm_file.pixel_array)!=0)\n",
    "    if np.max(dcm_file.pixel_array) - np.min(dcm_file.pixel_array) != 0:\n",
    "        data = apply_voi_lut(dcm_file.pixel_array, dcm_file)\n",
    "        if dcm_file.PhotometricInterpretation == \"MONOCHROME1\":\n",
    "            data = np.amax(data) - data\n",
    "        data = data - np.min(data)\n",
    "        data = data / (np.max(data) - np.min(data))\n",
    "        data = (data * 255).astype(np.uint8)\n",
    "        im = Image.fromarray(data)\n",
    "        to_dir = os.path.abspath(directory)\n",
    "        head,tail = os.path.split(path)\n",
    "        file_name = tail\n",
    "        ls = []\n",
    "        head,tail = os.path.split(head)\n",
    "        ls.append(tail)\n",
    "        head,tail = os.path.split(head)\n",
    "        ls.append(tail)\n",
    "        ls.reverse()\n",
    "        for loc in ls:\n",
    "            to_dir = os.path.join(to_dir,loc)\n",
    "        os.makedirs(to_dir, exist_ok = True)\n",
    "        file_name = os.path.splitext(file_name)[0]\n",
    "        file_name += '.png'\n",
    "        to_dir = os.path.join(to_dir,file_name)\n",
    "        im.save(to_dir)"
   ]
  },
  {
   "cell_type": "code",
   "execution_count": 18,
   "id": "fdfed1ca",
   "metadata": {
    "execution": {
     "iopub.execute_input": "2021-08-31T07:24:46.029911Z",
     "iopub.status.busy": "2021-08-31T07:24:46.029313Z",
     "iopub.status.idle": "2021-08-31T07:24:46.032480Z",
     "shell.execute_reply": "2021-08-31T07:24:46.032864Z",
     "shell.execute_reply.started": "2021-08-30T05:32:22.052738Z"
    },
    "papermill": {
     "duration": 0.039111,
     "end_time": "2021-08-31T07:24:46.032985",
     "exception": false,
     "start_time": "2021-08-31T07:24:45.993874",
     "status": "completed"
    },
    "tags": []
   },
   "outputs": [],
   "source": [
    "def predict(dataloader,model):\n",
    "    y = []\n",
    "    model.eval()\n",
    "    for data in dataloader:\n",
    "        inputs,labels=data\n",
    "        inputs,labels=inputs.to(device),labels.to(device)\n",
    "        outputs=model(inputs)\n",
    "        m = nn.Sigmoid()\n",
    "        outputs=m(outputs)\n",
    "        outputs = outputs.flatten()\n",
    "        for o in outputs:\n",
    "            y.append(o.item())\n",
    "    model.train()\n",
    "    print(len(y))\n",
    "    y_pred = sum(y)/len(y)\n",
    "#     print(y_pred)\n",
    "    return y_pred"
   ]
  },
  {
   "cell_type": "code",
   "execution_count": 19,
   "id": "6ffa9cb4",
   "metadata": {
    "execution": {
     "iopub.execute_input": "2021-08-31T07:24:46.121246Z",
     "iopub.status.busy": "2021-08-31T07:24:46.120334Z",
     "iopub.status.idle": "2021-08-31T07:27:26.200168Z",
     "shell.execute_reply": "2021-08-31T07:27:26.199703Z",
     "shell.execute_reply.started": "2021-08-30T05:32:22.066232Z"
    },
    "papermill": {
     "duration": 160.136849,
     "end_time": "2021-08-31T07:27:26.200300",
     "exception": false,
     "start_time": "2021-08-31T07:24:46.063451",
     "status": "completed"
    },
    "tags": []
   },
   "outputs": [
    {
     "data": {
      "application/vnd.jupyter.widget-view+json": {
       "model_id": "d32393a3f144439189501433e3c9ad5b",
       "version_major": 2,
       "version_minor": 0
      },
      "text/plain": [
       "  0%|          | 0/87 [00:00<?, ?it/s]"
      ]
     },
     "metadata": {},
     "output_type": "display_data"
    }
   ],
   "source": [
    "for patient in tqdm(test_patients):\n",
    "#     print(f'patient: {patient}')\n",
    "    path = os.path.join(test_dir, patient,'FLAIR')\n",
    "    for dcm_file in os.listdir(path):\n",
    "        file_path = os.path.join(path,dcm_file)\n",
    "        dicom2pngt(file_path, directory = png_test)"
   ]
  },
  {
   "cell_type": "code",
   "execution_count": 20,
   "id": "226632a7",
   "metadata": {
    "execution": {
     "iopub.execute_input": "2021-08-31T07:27:26.268087Z",
     "iopub.status.busy": "2021-08-31T07:27:26.267405Z",
     "iopub.status.idle": "2021-08-31T07:29:35.184082Z",
     "shell.execute_reply": "2021-08-31T07:29:35.184809Z",
     "shell.execute_reply.started": "2021-08-30T05:35:14.250441Z"
    },
    "papermill": {
     "duration": 128.952819,
     "end_time": "2021-08-31T07:29:35.185038",
     "exception": false,
     "start_time": "2021-08-31T07:27:26.232219",
     "status": "completed"
    },
    "tags": []
   },
   "outputs": [
    {
     "name": "stdout",
     "output_type": "stream",
     "text": [
      "19\n",
      "70\n",
      "25\n",
      "153\n",
      "151\n",
      "21\n",
      "48\n",
      "142\n",
      "51\n",
      "45\n",
      "47\n",
      "45\n",
      "22\n",
      "28\n",
      "149\n",
      "155\n",
      "46\n",
      "48\n",
      "45\n",
      "164\n",
      "47\n",
      "47\n",
      "132\n",
      "145\n",
      "47\n",
      "27\n",
      "138\n",
      "281\n",
      "27\n",
      "118\n",
      "48\n",
      "153\n",
      "144\n",
      "141\n",
      "45\n",
      "48\n",
      "28\n",
      "24\n",
      "308\n",
      "76\n",
      "142\n",
      "72\n",
      "152\n",
      "23\n",
      "147\n",
      "140\n",
      "180\n",
      "66\n",
      "32\n",
      "148\n",
      "46\n",
      "47\n",
      "48\n",
      "152\n",
      "18\n",
      "47\n",
      "160\n",
      "276\n",
      "50\n",
      "72\n",
      "48\n",
      "56\n",
      "150\n",
      "281\n",
      "140\n",
      "21\n",
      "147\n",
      "25\n",
      "47\n",
      "133\n",
      "30\n",
      "50\n",
      "72\n",
      "49\n",
      "25\n",
      "92\n",
      "47\n",
      "143\n",
      "46\n",
      "156\n",
      "51\n",
      "44\n",
      "145\n",
      "50\n",
      "24\n",
      "291\n",
      "47\n"
     ]
    }
   ],
   "source": [
    "y_pred = defaultdict(dict)\n",
    "for patient in test_patients:\n",
    "    path = os.path.join(png_test, patient)\n",
    "#     print(path)\n",
    "    dataset = torchvision.datasets.ImageFolder(root=path,transform=transforms.Compose([transforms.ToTensor(),transforms.Resize([224,224]),]))\n",
    "    testloader=torch.utils.data.DataLoader(dataset,batch_size=batch_size,shuffle=False)\n",
    "\n",
    "    y_pred[patient] = predict(testloader,rn)\n",
    "    \n"
   ]
  },
  {
   "cell_type": "code",
   "execution_count": 21,
   "id": "d8fc2d55",
   "metadata": {
    "execution": {
     "iopub.execute_input": "2021-08-31T07:29:35.300622Z",
     "iopub.status.busy": "2021-08-31T07:29:35.299862Z",
     "iopub.status.idle": "2021-08-31T07:29:35.308883Z",
     "shell.execute_reply": "2021-08-31T07:29:35.308446Z",
     "shell.execute_reply.started": "2021-08-30T05:37:22.794087Z"
    },
    "papermill": {
     "duration": 0.070157,
     "end_time": "2021-08-31T07:29:35.309030",
     "exception": false,
     "start_time": "2021-08-31T07:29:35.238873",
     "status": "completed"
    },
    "tags": []
   },
   "outputs": [],
   "source": [
    "submission = pd.DataFrame({\"BraTS21ID\":y_pred.keys(),\"MGMT_value\":y_pred.values()})\n",
    "submission.to_csv('submission.csv', index=False)"
   ]
  },
  {
   "cell_type": "code",
   "execution_count": 22,
   "id": "99c55737",
   "metadata": {
    "execution": {
     "iopub.execute_input": "2021-08-31T07:29:35.418085Z",
     "iopub.status.busy": "2021-08-31T07:29:35.417519Z",
     "iopub.status.idle": "2021-08-31T07:29:35.420471Z",
     "shell.execute_reply": "2021-08-31T07:29:35.420977Z",
     "shell.execute_reply.started": "2021-08-30T05:37:22.806536Z"
    },
    "papermill": {
     "duration": 0.05973,
     "end_time": "2021-08-31T07:29:35.421094",
     "exception": false,
     "start_time": "2021-08-31T07:29:35.361364",
     "status": "completed"
    },
    "tags": []
   },
   "outputs": [
    {
     "name": "stdout",
     "output_type": "stream",
     "text": [
      "defaultdict(<class 'dict'>, {'00114': 0.3801164842749897, '00013': 0.46057387505258834, '00821': 0.4431061218669765, '00644': 0.37927771578816805, '00699': 0.5240465933518694, '00125': 0.39588590814682467, '00833': 0.4401722702508171, '00762': 0.394255529197169, '00393': 0.4354679277714561, '00287': 0.37845480723513497, '00434': 0.39740701463628325, '00337': 0.32871841804895285, '00145': 0.43009836734695867, '00307': 0.40670484996267725, '00489': 0.5492253803566798, '00749': 0.5198673623223459, '00163': 0.35983009053313214, '00384': 0.36100025148092146, '00438': 0.3730809463395013, '00047': 0.5241883116342673, '00323': 0.3241077201004992, '00428': 0.4840886304353146, '00462': 0.49504850189568417, '00560': 0.3787227122691171, '00422': 0.4488309586935855, '00825': 0.2985411735709921, '00335': 0.47788363068863965, '00082': 0.5976169231311282, '00458': 0.40414852731757694, '01006': 0.4350852170738123, '00573': 0.3591942572190116, '00647': 0.43478795584120783, '00603': 0.44619046834607917, '00712': 0.5343285471412307, '00181': 0.37654198010762535, '00200': 0.417162186310937, '00129': 0.29483902391787203, '00829': 0.5013570878654718, '00535': 0.3816936406512539, '00721': 0.5008027119022843, '00037': 0.42651900292282374, '00015': 0.443488055951573, '00463': 0.5327090115139359, '00447': 0.407192917916182, '00662': 0.5194371449095863, '00492': 0.5874336661504848, '00702': 0.5091621735792917, '00027': 0.3998234355539987, '00381': 0.4219529158435762, '00681': 0.422801182227763, '00592': 0.4287851574481465, '00208': 0.4173982100600892, '00213': 0.3350284503151973, '00521': 0.5351300934235999, '00585': 0.4995732290877236, '00355': 0.3584689860965343, '00001': 0.5352494044229388, '00091': 0.5046868116959281, '00190': 0.5053801336884498, '00826': 0.28203397454546386, '00229': 0.4263279826263897, '00135': 0.4635666776448488, '00719': 0.5290629124485228, '00553': 0.5839890982968952, '00769': 0.4326796332108123, '00460': 0.40938431889817795, '00503': 0.39717276029440823, '00822': 0.3871298643946648, '00372': 0.39048638599033053, '00779': 0.46248385119707064, '00997': 0.477751545359691, '00333': 0.37997937947511673, '00079': 0.4912278594242202, '00256': 0.37443829529109307, '00450': 0.4111551469417364, '00467': 0.38455085958475654, '00595': 0.281309494646616, '00671': 0.5212671189875036, '00252': 0.2667753777426222, '00153': 0.40983556621731854, '00161': 0.34402115365453795, '00264': 0.4490945498374375, '00474': 0.46312020023329314, '00174': 0.43191651076078413, '00119': 0.35326225925624993, '00080': 0.41272331474675344, '00182': 0.4605123355905426})\n"
     ]
    }
   ],
   "source": [
    "print(y_pred)"
   ]
  },
  {
   "cell_type": "code",
   "execution_count": 23,
   "id": "6aec5f0f",
   "metadata": {
    "execution": {
     "iopub.execute_input": "2021-08-31T07:29:35.535396Z",
     "iopub.status.busy": "2021-08-31T07:29:35.534869Z",
     "iopub.status.idle": "2021-08-31T07:29:35.549651Z",
     "shell.execute_reply": "2021-08-31T07:29:35.549247Z",
     "shell.execute_reply.started": "2021-08-30T05:37:44.336625Z"
    },
    "papermill": {
     "duration": 0.075718,
     "end_time": "2021-08-31T07:29:35.549791",
     "exception": false,
     "start_time": "2021-08-31T07:29:35.474073",
     "status": "completed"
    },
    "tags": []
   },
   "outputs": [
    {
     "data": {
      "text/html": [
       "<div>\n",
       "<style scoped>\n",
       "    .dataframe tbody tr th:only-of-type {\n",
       "        vertical-align: middle;\n",
       "    }\n",
       "\n",
       "    .dataframe tbody tr th {\n",
       "        vertical-align: top;\n",
       "    }\n",
       "\n",
       "    .dataframe thead th {\n",
       "        text-align: right;\n",
       "    }\n",
       "</style>\n",
       "<table border=\"1\" class=\"dataframe\">\n",
       "  <thead>\n",
       "    <tr style=\"text-align: right;\">\n",
       "      <th></th>\n",
       "      <th>BraTS21ID</th>\n",
       "      <th>MGMT_value</th>\n",
       "    </tr>\n",
       "  </thead>\n",
       "  <tbody>\n",
       "    <tr>\n",
       "      <th>0</th>\n",
       "      <td>00114</td>\n",
       "      <td>0.380116</td>\n",
       "    </tr>\n",
       "    <tr>\n",
       "      <th>1</th>\n",
       "      <td>00013</td>\n",
       "      <td>0.460574</td>\n",
       "    </tr>\n",
       "    <tr>\n",
       "      <th>2</th>\n",
       "      <td>00821</td>\n",
       "      <td>0.443106</td>\n",
       "    </tr>\n",
       "    <tr>\n",
       "      <th>3</th>\n",
       "      <td>00644</td>\n",
       "      <td>0.379278</td>\n",
       "    </tr>\n",
       "    <tr>\n",
       "      <th>4</th>\n",
       "      <td>00699</td>\n",
       "      <td>0.524047</td>\n",
       "    </tr>\n",
       "    <tr>\n",
       "      <th>...</th>\n",
       "      <td>...</td>\n",
       "      <td>...</td>\n",
       "    </tr>\n",
       "    <tr>\n",
       "      <th>82</th>\n",
       "      <td>00474</td>\n",
       "      <td>0.463120</td>\n",
       "    </tr>\n",
       "    <tr>\n",
       "      <th>83</th>\n",
       "      <td>00174</td>\n",
       "      <td>0.431917</td>\n",
       "    </tr>\n",
       "    <tr>\n",
       "      <th>84</th>\n",
       "      <td>00119</td>\n",
       "      <td>0.353262</td>\n",
       "    </tr>\n",
       "    <tr>\n",
       "      <th>85</th>\n",
       "      <td>00080</td>\n",
       "      <td>0.412723</td>\n",
       "    </tr>\n",
       "    <tr>\n",
       "      <th>86</th>\n",
       "      <td>00182</td>\n",
       "      <td>0.460512</td>\n",
       "    </tr>\n",
       "  </tbody>\n",
       "</table>\n",
       "<p>87 rows × 2 columns</p>\n",
       "</div>"
      ],
      "text/plain": [
       "   BraTS21ID  MGMT_value\n",
       "0      00114    0.380116\n",
       "1      00013    0.460574\n",
       "2      00821    0.443106\n",
       "3      00644    0.379278\n",
       "4      00699    0.524047\n",
       "..       ...         ...\n",
       "82     00474    0.463120\n",
       "83     00174    0.431917\n",
       "84     00119    0.353262\n",
       "85     00080    0.412723\n",
       "86     00182    0.460512\n",
       "\n",
       "[87 rows x 2 columns]"
      ]
     },
     "execution_count": 23,
     "metadata": {},
     "output_type": "execute_result"
    }
   ],
   "source": [
    "submission"
   ]
  },
  {
   "cell_type": "code",
   "execution_count": 24,
   "id": "9dbbba14",
   "metadata": {
    "execution": {
     "iopub.execute_input": "2021-08-31T07:29:35.661796Z",
     "iopub.status.busy": "2021-08-31T07:29:35.661130Z",
     "iopub.status.idle": "2021-08-31T07:29:35.664012Z",
     "shell.execute_reply": "2021-08-31T07:29:35.663574Z",
     "shell.execute_reply.started": "2021-08-30T05:37:52.905543Z"
    },
    "papermill": {
     "duration": 0.060723,
     "end_time": "2021-08-31T07:29:35.664118",
     "exception": false,
     "start_time": "2021-08-31T07:29:35.603395",
     "status": "completed"
    },
    "tags": []
   },
   "outputs": [],
   "source": [
    "import csv\n",
    "with open(\"submission.csv\", \"w\") as outfile:\n",
    "    writer = csv.writer(outfile)\n",
    "    writer.writerow([\"BraTS21ID\",\"MGMT_value\"])\n",
    "    for key, value in y_pred.items():\n",
    "        writer.writerow([key, value])"
   ]
  },
  {
   "cell_type": "code",
   "execution_count": 25,
   "id": "1c25b06c",
   "metadata": {
    "execution": {
     "iopub.execute_input": "2021-08-31T07:29:35.774117Z",
     "iopub.status.busy": "2021-08-31T07:29:35.773567Z",
     "iopub.status.idle": "2021-08-31T07:29:36.700158Z",
     "shell.execute_reply": "2021-08-31T07:29:36.699590Z",
     "shell.execute_reply.started": "2021-08-30T05:37:58.98861Z"
    },
    "papermill": {
     "duration": 0.983031,
     "end_time": "2021-08-31T07:29:36.700286",
     "exception": false,
     "start_time": "2021-08-31T07:29:35.717255",
     "status": "completed"
    },
    "tags": []
   },
   "outputs": [],
   "source": [
    "!rm -rf ./png"
   ]
  },
  {
   "cell_type": "code",
   "execution_count": 26,
   "id": "e9f1e6d5",
   "metadata": {
    "execution": {
     "iopub.execute_input": "2021-08-31T07:29:36.830093Z",
     "iopub.status.busy": "2021-08-31T07:29:36.812094Z",
     "iopub.status.idle": "2021-08-31T07:29:37.512631Z",
     "shell.execute_reply": "2021-08-31T07:29:37.511852Z",
     "shell.execute_reply.started": "2021-08-30T05:38:06.581344Z"
    },
    "papermill": {
     "duration": 0.758574,
     "end_time": "2021-08-31T07:29:37.512827",
     "exception": false,
     "start_time": "2021-08-31T07:29:36.754253",
     "status": "completed"
    },
    "tags": []
   },
   "outputs": [
    {
     "name": "stdout",
     "output_type": "stream",
     "text": [
      "__notebook__.ipynb  submission.csv\r\n"
     ]
    }
   ],
   "source": [
    "!ls"
   ]
  },
  {
   "cell_type": "code",
   "execution_count": null,
   "id": "aa11147c",
   "metadata": {
    "papermill": {
     "duration": 0.092414,
     "end_time": "2021-08-31T07:29:37.697744",
     "exception": false,
     "start_time": "2021-08-31T07:29:37.605330",
     "status": "completed"
    },
    "tags": []
   },
   "outputs": [],
   "source": []
  }
 ],
 "metadata": {
  "kernelspec": {
   "display_name": "Python 3",
   "language": "python",
   "name": "python3"
  },
  "language_info": {
   "codemirror_mode": {
    "name": "ipython",
    "version": 3
   },
   "file_extension": ".py",
   "mimetype": "text/x-python",
   "name": "python",
   "nbconvert_exporter": "python",
   "pygments_lexer": "ipython3",
   "version": "3.7.10"
  },
  "papermill": {
   "default_parameters": {},
   "duration": 1762.142569,
   "end_time": "2021-08-31T07:29:39.941245",
   "environment_variables": {},
   "exception": null,
   "input_path": "__notebook__.ipynb",
   "output_path": "__notebook__.ipynb",
   "parameters": {},
   "start_time": "2021-08-31T07:00:17.798676",
   "version": "2.3.3"
  },
  "widgets": {
   "application/vnd.jupyter.widget-state+json": {
    "state": {
     "0d61693dee2a4743a2dfc15c11b1d6e1": {
      "model_module": "@jupyter-widgets/controls",
      "model_module_version": "1.5.0",
      "model_name": "ProgressStyleModel",
      "state": {
       "_model_module": "@jupyter-widgets/controls",
       "_model_module_version": "1.5.0",
       "_model_name": "ProgressStyleModel",
       "_view_count": null,
       "_view_module": "@jupyter-widgets/base",
       "_view_module_version": "1.2.0",
       "_view_name": "StyleView",
       "bar_color": null,
       "description_width": ""
      }
     },
     "1820253853f44c4b81b89d064eae4da7": {
      "model_module": "@jupyter-widgets/base",
      "model_module_version": "1.2.0",
      "model_name": "LayoutModel",
      "state": {
       "_model_module": "@jupyter-widgets/base",
       "_model_module_version": "1.2.0",
       "_model_name": "LayoutModel",
       "_view_count": null,
       "_view_module": "@jupyter-widgets/base",
       "_view_module_version": "1.2.0",
       "_view_name": "LayoutView",
       "align_content": null,
       "align_items": null,
       "align_self": null,
       "border": null,
       "bottom": null,
       "display": null,
       "flex": null,
       "flex_flow": null,
       "grid_area": null,
       "grid_auto_columns": null,
       "grid_auto_flow": null,
       "grid_auto_rows": null,
       "grid_column": null,
       "grid_gap": null,
       "grid_row": null,
       "grid_template_areas": null,
       "grid_template_columns": null,
       "grid_template_rows": null,
       "height": null,
       "justify_content": null,
       "justify_items": null,
       "left": null,
       "margin": null,
       "max_height": null,
       "max_width": null,
       "min_height": null,
       "min_width": null,
       "object_fit": null,
       "object_position": null,
       "order": null,
       "overflow": null,
       "overflow_x": null,
       "overflow_y": null,
       "padding": null,
       "right": null,
       "top": null,
       "visibility": null,
       "width": null
      }
     },
     "2135710020184d43aca7212f310feb05": {
      "model_module": "@jupyter-widgets/base",
      "model_module_version": "1.2.0",
      "model_name": "LayoutModel",
      "state": {
       "_model_module": "@jupyter-widgets/base",
       "_model_module_version": "1.2.0",
       "_model_name": "LayoutModel",
       "_view_count": null,
       "_view_module": "@jupyter-widgets/base",
       "_view_module_version": "1.2.0",
       "_view_name": "LayoutView",
       "align_content": null,
       "align_items": null,
       "align_self": null,
       "border": null,
       "bottom": null,
       "display": null,
       "flex": null,
       "flex_flow": null,
       "grid_area": null,
       "grid_auto_columns": null,
       "grid_auto_flow": null,
       "grid_auto_rows": null,
       "grid_column": null,
       "grid_gap": null,
       "grid_row": null,
       "grid_template_areas": null,
       "grid_template_columns": null,
       "grid_template_rows": null,
       "height": null,
       "justify_content": null,
       "justify_items": null,
       "left": null,
       "margin": null,
       "max_height": null,
       "max_width": null,
       "min_height": null,
       "min_width": null,
       "object_fit": null,
       "object_position": null,
       "order": null,
       "overflow": null,
       "overflow_x": null,
       "overflow_y": null,
       "padding": null,
       "right": null,
       "top": null,
       "visibility": null,
       "width": null
      }
     },
     "2df5f46161d74fcd96f15fd9cab84413": {
      "model_module": "@jupyter-widgets/base",
      "model_module_version": "1.2.0",
      "model_name": "LayoutModel",
      "state": {
       "_model_module": "@jupyter-widgets/base",
       "_model_module_version": "1.2.0",
       "_model_name": "LayoutModel",
       "_view_count": null,
       "_view_module": "@jupyter-widgets/base",
       "_view_module_version": "1.2.0",
       "_view_name": "LayoutView",
       "align_content": null,
       "align_items": null,
       "align_self": null,
       "border": null,
       "bottom": null,
       "display": null,
       "flex": null,
       "flex_flow": null,
       "grid_area": null,
       "grid_auto_columns": null,
       "grid_auto_flow": null,
       "grid_auto_rows": null,
       "grid_column": null,
       "grid_gap": null,
       "grid_row": null,
       "grid_template_areas": null,
       "grid_template_columns": null,
       "grid_template_rows": null,
       "height": null,
       "justify_content": null,
       "justify_items": null,
       "left": null,
       "margin": null,
       "max_height": null,
       "max_width": null,
       "min_height": null,
       "min_width": null,
       "object_fit": null,
       "object_position": null,
       "order": null,
       "overflow": null,
       "overflow_x": null,
       "overflow_y": null,
       "padding": null,
       "right": null,
       "top": null,
       "visibility": null,
       "width": null
      }
     },
     "327afe5964c64b3e95051dab8f1b34ce": {
      "model_module": "@jupyter-widgets/controls",
      "model_module_version": "1.5.0",
      "model_name": "DescriptionStyleModel",
      "state": {
       "_model_module": "@jupyter-widgets/controls",
       "_model_module_version": "1.5.0",
       "_model_name": "DescriptionStyleModel",
       "_view_count": null,
       "_view_module": "@jupyter-widgets/base",
       "_view_module_version": "1.2.0",
       "_view_name": "StyleView",
       "description_width": ""
      }
     },
     "34a08c4283544e25a505e3b9b04b2652": {
      "model_module": "@jupyter-widgets/base",
      "model_module_version": "1.2.0",
      "model_name": "LayoutModel",
      "state": {
       "_model_module": "@jupyter-widgets/base",
       "_model_module_version": "1.2.0",
       "_model_name": "LayoutModel",
       "_view_count": null,
       "_view_module": "@jupyter-widgets/base",
       "_view_module_version": "1.2.0",
       "_view_name": "LayoutView",
       "align_content": null,
       "align_items": null,
       "align_self": null,
       "border": null,
       "bottom": null,
       "display": null,
       "flex": null,
       "flex_flow": null,
       "grid_area": null,
       "grid_auto_columns": null,
       "grid_auto_flow": null,
       "grid_auto_rows": null,
       "grid_column": null,
       "grid_gap": null,
       "grid_row": null,
       "grid_template_areas": null,
       "grid_template_columns": null,
       "grid_template_rows": null,
       "height": null,
       "justify_content": null,
       "justify_items": null,
       "left": null,
       "margin": null,
       "max_height": null,
       "max_width": null,
       "min_height": null,
       "min_width": null,
       "object_fit": null,
       "object_position": null,
       "order": null,
       "overflow": null,
       "overflow_x": null,
       "overflow_y": null,
       "padding": null,
       "right": null,
       "top": null,
       "visibility": null,
       "width": null
      }
     },
     "3ef9e22ddf284405998893dede4f74ea": {
      "model_module": "@jupyter-widgets/base",
      "model_module_version": "1.2.0",
      "model_name": "LayoutModel",
      "state": {
       "_model_module": "@jupyter-widgets/base",
       "_model_module_version": "1.2.0",
       "_model_name": "LayoutModel",
       "_view_count": null,
       "_view_module": "@jupyter-widgets/base",
       "_view_module_version": "1.2.0",
       "_view_name": "LayoutView",
       "align_content": null,
       "align_items": null,
       "align_self": null,
       "border": null,
       "bottom": null,
       "display": null,
       "flex": null,
       "flex_flow": null,
       "grid_area": null,
       "grid_auto_columns": null,
       "grid_auto_flow": null,
       "grid_auto_rows": null,
       "grid_column": null,
       "grid_gap": null,
       "grid_row": null,
       "grid_template_areas": null,
       "grid_template_columns": null,
       "grid_template_rows": null,
       "height": null,
       "justify_content": null,
       "justify_items": null,
       "left": null,
       "margin": null,
       "max_height": null,
       "max_width": null,
       "min_height": null,
       "min_width": null,
       "object_fit": null,
       "object_position": null,
       "order": null,
       "overflow": null,
       "overflow_x": null,
       "overflow_y": null,
       "padding": null,
       "right": null,
       "top": null,
       "visibility": null,
       "width": null
      }
     },
     "5fac755651ed40878fc7d41c4bc240b3": {
      "model_module": "@jupyter-widgets/controls",
      "model_module_version": "1.5.0",
      "model_name": "ProgressStyleModel",
      "state": {
       "_model_module": "@jupyter-widgets/controls",
       "_model_module_version": "1.5.0",
       "_model_name": "ProgressStyleModel",
       "_view_count": null,
       "_view_module": "@jupyter-widgets/base",
       "_view_module_version": "1.2.0",
       "_view_name": "StyleView",
       "bar_color": null,
       "description_width": ""
      }
     },
     "622d781aa0704a9bba9cbb4a11f8b06f": {
      "model_module": "@jupyter-widgets/controls",
      "model_module_version": "1.5.0",
      "model_name": "HBoxModel",
      "state": {
       "_dom_classes": [],
       "_model_module": "@jupyter-widgets/controls",
       "_model_module_version": "1.5.0",
       "_model_name": "HBoxModel",
       "_view_count": null,
       "_view_module": "@jupyter-widgets/controls",
       "_view_module_version": "1.5.0",
       "_view_name": "HBoxView",
       "box_style": "",
       "children": [
        "IPY_MODEL_6580f66c6c5e48519bb700e7e3dc4243",
        "IPY_MODEL_c36f7b6d15ff4058bc25b2b27c33e5ac",
        "IPY_MODEL_85dd409ae31e4fd6a290501a7652bc2e"
       ],
       "layout": "IPY_MODEL_cf3395b4f6304fd99494db367d91ec67"
      }
     },
     "6580f66c6c5e48519bb700e7e3dc4243": {
      "model_module": "@jupyter-widgets/controls",
      "model_module_version": "1.5.0",
      "model_name": "HTMLModel",
      "state": {
       "_dom_classes": [],
       "_model_module": "@jupyter-widgets/controls",
       "_model_module_version": "1.5.0",
       "_model_name": "HTMLModel",
       "_view_count": null,
       "_view_module": "@jupyter-widgets/controls",
       "_view_module_version": "1.5.0",
       "_view_name": "HTMLView",
       "description": "",
       "description_tooltip": null,
       "layout": "IPY_MODEL_f5775611a8f94de3a5aae7e575b622fb",
       "placeholder": "​",
       "style": "IPY_MODEL_327afe5964c64b3e95051dab8f1b34ce",
       "value": "100%"
      }
     },
     "7b1ddd84f3d04046bf915cb570f36828": {
      "model_module": "@jupyter-widgets/controls",
      "model_module_version": "1.5.0",
      "model_name": "DescriptionStyleModel",
      "state": {
       "_model_module": "@jupyter-widgets/controls",
       "_model_module_version": "1.5.0",
       "_model_name": "DescriptionStyleModel",
       "_view_count": null,
       "_view_module": "@jupyter-widgets/base",
       "_view_module_version": "1.2.0",
       "_view_name": "StyleView",
       "description_width": ""
      }
     },
     "7c1f6087f43446188399df6f1d9a9298": {
      "model_module": "@jupyter-widgets/controls",
      "model_module_version": "1.5.0",
      "model_name": "DescriptionStyleModel",
      "state": {
       "_model_module": "@jupyter-widgets/controls",
       "_model_module_version": "1.5.0",
       "_model_name": "DescriptionStyleModel",
       "_view_count": null,
       "_view_module": "@jupyter-widgets/base",
       "_view_module_version": "1.2.0",
       "_view_name": "StyleView",
       "description_width": ""
      }
     },
     "85dd409ae31e4fd6a290501a7652bc2e": {
      "model_module": "@jupyter-widgets/controls",
      "model_module_version": "1.5.0",
      "model_name": "HTMLModel",
      "state": {
       "_dom_classes": [],
       "_model_module": "@jupyter-widgets/controls",
       "_model_module_version": "1.5.0",
       "_model_name": "HTMLModel",
       "_view_count": null,
       "_view_module": "@jupyter-widgets/controls",
       "_view_module_version": "1.5.0",
       "_view_name": "HTMLView",
       "description": "",
       "description_tooltip": null,
       "layout": "IPY_MODEL_1820253853f44c4b81b89d064eae4da7",
       "placeholder": "​",
       "style": "IPY_MODEL_7b1ddd84f3d04046bf915cb570f36828",
       "value": " 582/582 [17:29&lt;00:00,  2.32it/s]"
      }
     },
     "94c151801a124184bfef6ce18c060c42": {
      "model_module": "@jupyter-widgets/controls",
      "model_module_version": "1.5.0",
      "model_name": "FloatProgressModel",
      "state": {
       "_dom_classes": [],
       "_model_module": "@jupyter-widgets/controls",
       "_model_module_version": "1.5.0",
       "_model_name": "FloatProgressModel",
       "_view_count": null,
       "_view_module": "@jupyter-widgets/controls",
       "_view_module_version": "1.5.0",
       "_view_name": "ProgressView",
       "bar_style": "success",
       "description": "",
       "description_tooltip": null,
       "layout": "IPY_MODEL_34a08c4283544e25a505e3b9b04b2652",
       "max": 87.0,
       "min": 0.0,
       "orientation": "horizontal",
       "style": "IPY_MODEL_0d61693dee2a4743a2dfc15c11b1d6e1",
       "value": 87.0
      }
     },
     "9834484c41f24c90a6caaf5743819f08": {
      "model_module": "@jupyter-widgets/base",
      "model_module_version": "1.2.0",
      "model_name": "LayoutModel",
      "state": {
       "_model_module": "@jupyter-widgets/base",
       "_model_module_version": "1.2.0",
       "_model_name": "LayoutModel",
       "_view_count": null,
       "_view_module": "@jupyter-widgets/base",
       "_view_module_version": "1.2.0",
       "_view_name": "LayoutView",
       "align_content": null,
       "align_items": null,
       "align_self": null,
       "border": null,
       "bottom": null,
       "display": null,
       "flex": null,
       "flex_flow": null,
       "grid_area": null,
       "grid_auto_columns": null,
       "grid_auto_flow": null,
       "grid_auto_rows": null,
       "grid_column": null,
       "grid_gap": null,
       "grid_row": null,
       "grid_template_areas": null,
       "grid_template_columns": null,
       "grid_template_rows": null,
       "height": null,
       "justify_content": null,
       "justify_items": null,
       "left": null,
       "margin": null,
       "max_height": null,
       "max_width": null,
       "min_height": null,
       "min_width": null,
       "object_fit": null,
       "object_position": null,
       "order": null,
       "overflow": null,
       "overflow_x": null,
       "overflow_y": null,
       "padding": null,
       "right": null,
       "top": null,
       "visibility": null,
       "width": null
      }
     },
     "9ba40a4436714d41bed024396919e45d": {
      "model_module": "@jupyter-widgets/controls",
      "model_module_version": "1.5.0",
      "model_name": "HTMLModel",
      "state": {
       "_dom_classes": [],
       "_model_module": "@jupyter-widgets/controls",
       "_model_module_version": "1.5.0",
       "_model_name": "HTMLModel",
       "_view_count": null,
       "_view_module": "@jupyter-widgets/controls",
       "_view_module_version": "1.5.0",
       "_view_name": "HTMLView",
       "description": "",
       "description_tooltip": null,
       "layout": "IPY_MODEL_2df5f46161d74fcd96f15fd9cab84413",
       "placeholder": "​",
       "style": "IPY_MODEL_ed7f6692b2684abc9cfe0afcb974ee90",
       "value": "100%"
      }
     },
     "c36f7b6d15ff4058bc25b2b27c33e5ac": {
      "model_module": "@jupyter-widgets/controls",
      "model_module_version": "1.5.0",
      "model_name": "FloatProgressModel",
      "state": {
       "_dom_classes": [],
       "_model_module": "@jupyter-widgets/controls",
       "_model_module_version": "1.5.0",
       "_model_name": "FloatProgressModel",
       "_view_count": null,
       "_view_module": "@jupyter-widgets/controls",
       "_view_module_version": "1.5.0",
       "_view_name": "ProgressView",
       "bar_style": "success",
       "description": "",
       "description_tooltip": null,
       "layout": "IPY_MODEL_3ef9e22ddf284405998893dede4f74ea",
       "max": 582.0,
       "min": 0.0,
       "orientation": "horizontal",
       "style": "IPY_MODEL_5fac755651ed40878fc7d41c4bc240b3",
       "value": 582.0
      }
     },
     "cf3395b4f6304fd99494db367d91ec67": {
      "model_module": "@jupyter-widgets/base",
      "model_module_version": "1.2.0",
      "model_name": "LayoutModel",
      "state": {
       "_model_module": "@jupyter-widgets/base",
       "_model_module_version": "1.2.0",
       "_model_name": "LayoutModel",
       "_view_count": null,
       "_view_module": "@jupyter-widgets/base",
       "_view_module_version": "1.2.0",
       "_view_name": "LayoutView",
       "align_content": null,
       "align_items": null,
       "align_self": null,
       "border": null,
       "bottom": null,
       "display": null,
       "flex": null,
       "flex_flow": null,
       "grid_area": null,
       "grid_auto_columns": null,
       "grid_auto_flow": null,
       "grid_auto_rows": null,
       "grid_column": null,
       "grid_gap": null,
       "grid_row": null,
       "grid_template_areas": null,
       "grid_template_columns": null,
       "grid_template_rows": null,
       "height": null,
       "justify_content": null,
       "justify_items": null,
       "left": null,
       "margin": null,
       "max_height": null,
       "max_width": null,
       "min_height": null,
       "min_width": null,
       "object_fit": null,
       "object_position": null,
       "order": null,
       "overflow": null,
       "overflow_x": null,
       "overflow_y": null,
       "padding": null,
       "right": null,
       "top": null,
       "visibility": null,
       "width": null
      }
     },
     "d32393a3f144439189501433e3c9ad5b": {
      "model_module": "@jupyter-widgets/controls",
      "model_module_version": "1.5.0",
      "model_name": "HBoxModel",
      "state": {
       "_dom_classes": [],
       "_model_module": "@jupyter-widgets/controls",
       "_model_module_version": "1.5.0",
       "_model_name": "HBoxModel",
       "_view_count": null,
       "_view_module": "@jupyter-widgets/controls",
       "_view_module_version": "1.5.0",
       "_view_name": "HBoxView",
       "box_style": "",
       "children": [
        "IPY_MODEL_9ba40a4436714d41bed024396919e45d",
        "IPY_MODEL_94c151801a124184bfef6ce18c060c42",
        "IPY_MODEL_d425b5c50f964e5c8096801606c3b777"
       ],
       "layout": "IPY_MODEL_9834484c41f24c90a6caaf5743819f08"
      }
     },
     "d425b5c50f964e5c8096801606c3b777": {
      "model_module": "@jupyter-widgets/controls",
      "model_module_version": "1.5.0",
      "model_name": "HTMLModel",
      "state": {
       "_dom_classes": [],
       "_model_module": "@jupyter-widgets/controls",
       "_model_module_version": "1.5.0",
       "_model_name": "HTMLModel",
       "_view_count": null,
       "_view_module": "@jupyter-widgets/controls",
       "_view_module_version": "1.5.0",
       "_view_name": "HTMLView",
       "description": "",
       "description_tooltip": null,
       "layout": "IPY_MODEL_2135710020184d43aca7212f310feb05",
       "placeholder": "​",
       "style": "IPY_MODEL_7c1f6087f43446188399df6f1d9a9298",
       "value": " 87/87 [02:40&lt;00:00,  2.03s/it]"
      }
     },
     "ed7f6692b2684abc9cfe0afcb974ee90": {
      "model_module": "@jupyter-widgets/controls",
      "model_module_version": "1.5.0",
      "model_name": "DescriptionStyleModel",
      "state": {
       "_model_module": "@jupyter-widgets/controls",
       "_model_module_version": "1.5.0",
       "_model_name": "DescriptionStyleModel",
       "_view_count": null,
       "_view_module": "@jupyter-widgets/base",
       "_view_module_version": "1.2.0",
       "_view_name": "StyleView",
       "description_width": ""
      }
     },
     "f5775611a8f94de3a5aae7e575b622fb": {
      "model_module": "@jupyter-widgets/base",
      "model_module_version": "1.2.0",
      "model_name": "LayoutModel",
      "state": {
       "_model_module": "@jupyter-widgets/base",
       "_model_module_version": "1.2.0",
       "_model_name": "LayoutModel",
       "_view_count": null,
       "_view_module": "@jupyter-widgets/base",
       "_view_module_version": "1.2.0",
       "_view_name": "LayoutView",
       "align_content": null,
       "align_items": null,
       "align_self": null,
       "border": null,
       "bottom": null,
       "display": null,
       "flex": null,
       "flex_flow": null,
       "grid_area": null,
       "grid_auto_columns": null,
       "grid_auto_flow": null,
       "grid_auto_rows": null,
       "grid_column": null,
       "grid_gap": null,
       "grid_row": null,
       "grid_template_areas": null,
       "grid_template_columns": null,
       "grid_template_rows": null,
       "height": null,
       "justify_content": null,
       "justify_items": null,
       "left": null,
       "margin": null,
       "max_height": null,
       "max_width": null,
       "min_height": null,
       "min_width": null,
       "object_fit": null,
       "object_position": null,
       "order": null,
       "overflow": null,
       "overflow_x": null,
       "overflow_y": null,
       "padding": null,
       "right": null,
       "top": null,
       "visibility": null,
       "width": null
      }
     }
    },
    "version_major": 2,
    "version_minor": 0
   }
  }
 },
 "nbformat": 4,
 "nbformat_minor": 5
}
