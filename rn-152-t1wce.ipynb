{
 "cells": [
  {
   "cell_type": "code",
   "execution_count": 1,
   "id": "6aa473ff",
   "metadata": {
    "_cell_guid": "b1076dfc-b9ad-4769-8c92-a6c4dae69d19",
    "_uuid": "8f2839f25d086af736a60e9eeb907d3b93b6e0e5",
    "execution": {
     "iopub.execute_input": "2021-09-01T16:52:48.471907Z",
     "iopub.status.busy": "2021-09-01T16:52:48.471228Z",
     "iopub.status.idle": "2021-09-01T16:52:51.436626Z",
     "shell.execute_reply": "2021-09-01T16:52:51.436062Z",
     "shell.execute_reply.started": "2021-08-30T05:00:27.810659Z"
    },
    "papermill": {
     "duration": 2.997158,
     "end_time": "2021-09-01T16:52:51.436811",
     "exception": false,
     "start_time": "2021-09-01T16:52:48.439653",
     "status": "completed"
    },
    "tags": []
   },
   "outputs": [],
   "source": [
    "import pytorch_lightning as pl\n",
    "import cv2 as cv\n",
    "import pydicom as dicom\n",
    "from pydicom.pixel_data_handlers import apply_voi_lut\n",
    "import pandas as pd\n",
    "import torch\n",
    "import os\n",
    "from collections import defaultdict\n",
    "from torch.utils.data import Dataset,DataLoader\n",
    "from torchvision import transforms, models\n",
    "import torch.nn as nn\n",
    "import torch.nn.functional as F\n",
    "import torch.optim as optim\n",
    "import copy\n",
    "import numpy as np\n",
    "from PIL import Image,ImageOps\n",
    "import matplotlib.pyplot as plt\n",
    "import sys\n",
    "from tqdm.notebook import tqdm, trange\n",
    "import time"
   ]
  },
  {
   "cell_type": "code",
   "execution_count": 2,
   "id": "9aedd32b",
   "metadata": {
    "execution": {
     "iopub.execute_input": "2021-09-01T16:52:51.518652Z",
     "iopub.status.busy": "2021-09-01T16:52:51.517911Z",
     "iopub.status.idle": "2021-09-01T16:52:51.520950Z",
     "shell.execute_reply": "2021-09-01T16:52:51.521536Z",
     "shell.execute_reply.started": "2021-08-30T05:00:30.70551Z"
    },
    "papermill": {
     "duration": 0.066035,
     "end_time": "2021-09-01T16:52:51.521726",
     "exception": false,
     "start_time": "2021-09-01T16:52:51.455691",
     "status": "completed"
    },
    "tags": []
   },
   "outputs": [
    {
     "name": "stdout",
     "output_type": "stream",
     "text": [
      "cuda:0\n"
     ]
    }
   ],
   "source": [
    "device = torch.device(\"cuda:0\" if torch.cuda.is_available() else \"cpu\")\n",
    "# device = torch.device(\"cpu\")\n",
    "print(device)"
   ]
  },
  {
   "cell_type": "code",
   "execution_count": 3,
   "id": "0a00ff12",
   "metadata": {
    "execution": {
     "iopub.execute_input": "2021-09-01T16:52:51.564335Z",
     "iopub.status.busy": "2021-09-01T16:52:51.563698Z",
     "iopub.status.idle": "2021-09-01T16:52:51.566438Z",
     "shell.execute_reply": "2021-09-01T16:52:51.565941Z",
     "shell.execute_reply.started": "2021-08-30T05:00:33.559189Z"
    },
    "papermill": {
     "duration": 0.024813,
     "end_time": "2021-09-01T16:52:51.566546",
     "exception": false,
     "start_time": "2021-09-01T16:52:51.541733",
     "status": "completed"
    },
    "tags": []
   },
   "outputs": [],
   "source": [
    "train_dir = \"../input/rsna-miccai-brain-tumor-radiogenomic-classification/train\"\n",
    "train_labels_dir = \"../input/rsna-miccai-brain-tumor-radiogenomic-classification/train_labels.csv\"\n",
    "test_dir = \"../input/rsna-miccai-brain-tumor-radiogenomic-classification/test\"\n",
    "png_train = \"./png/train\"\n",
    "png_test = \"./png/test\"\n",
    "batch_size = 4"
   ]
  },
  {
   "cell_type": "code",
   "execution_count": 4,
   "id": "d5956195",
   "metadata": {
    "execution": {
     "iopub.execute_input": "2021-09-01T16:52:51.608452Z",
     "iopub.status.busy": "2021-09-01T16:52:51.607846Z",
     "iopub.status.idle": "2021-09-01T16:52:51.610677Z",
     "shell.execute_reply": "2021-09-01T16:52:51.610232Z",
     "shell.execute_reply.started": "2021-08-30T05:00:33.858765Z"
    },
    "papermill": {
     "duration": 0.025039,
     "end_time": "2021-09-01T16:52:51.610785",
     "exception": false,
     "start_time": "2021-09-01T16:52:51.585746",
     "status": "completed"
    },
    "tags": []
   },
   "outputs": [],
   "source": [
    "def ensure_dir(file_path):\n",
    "    directory = os.path.dirname(file_path)\n",
    "    if not os.path.exists(directory):\n",
    "        os.makedirs(directory)"
   ]
  },
  {
   "cell_type": "code",
   "execution_count": 5,
   "id": "1c552033",
   "metadata": {
    "execution": {
     "iopub.execute_input": "2021-09-01T16:52:51.656595Z",
     "iopub.status.busy": "2021-09-01T16:52:51.655912Z",
     "iopub.status.idle": "2021-09-01T16:52:51.658602Z",
     "shell.execute_reply": "2021-09-01T16:52:51.658150Z",
     "shell.execute_reply.started": "2021-08-30T05:00:34.427847Z"
    },
    "papermill": {
     "duration": 0.029532,
     "end_time": "2021-09-01T16:52:51.658717",
     "exception": false,
     "start_time": "2021-09-01T16:52:51.629185",
     "status": "completed"
    },
    "tags": []
   },
   "outputs": [],
   "source": [
    "def dicom2png(path,v):\n",
    "    dcm_file = dicom.read_file(path)\n",
    "#     print(np.mean(dcm_file.pixel_array)!=0)\n",
    "    data = apply_voi_lut(dcm_file.pixel_array, dcm_file)\n",
    "    if np.max(data) - np.min(data) != 0:\n",
    "        if dcm_file.PhotometricInterpretation == \"MONOCHROME1\":\n",
    "            data = np.amax(data) - data\n",
    "        data = data - np.min(data)\n",
    "        data = data / np.max(data)\n",
    "        data = (data * 255).astype(np.uint8)\n",
    "        im = Image.fromarray(data)\n",
    "        to_dir = os.path.abspath(png_train)\n",
    "        head,tail = os.path.split(path)\n",
    "        file_name = tail\n",
    "        ls = []\n",
    "        head,tail = os.path.split(head)\n",
    "        ls.append(tail)\n",
    "        head,tail = os.path.split(head)\n",
    "        ls.append(tail)\n",
    "#         print(tail)\n",
    "        ls.reverse()\n",
    "        for loc in ls:\n",
    "            to_dir = os.path.join(to_dir,loc)\n",
    "        to_dir = os.path.abspath(png_train)\n",
    "        to_dir = os.path.join(to_dir,v)\n",
    "        os.makedirs(to_dir, exist_ok = True)\n",
    "        file_name = os.path.splitext(file_name)[0]\n",
    "        file_name += '.png'\n",
    "        to_dir = os.path.join(to_dir,file_name)\n",
    "        im.save(to_dir)"
   ]
  },
  {
   "cell_type": "code",
   "execution_count": 6,
   "id": "219db3b6",
   "metadata": {
    "execution": {
     "iopub.execute_input": "2021-09-01T16:52:51.701916Z",
     "iopub.status.busy": "2021-09-01T16:52:51.701397Z",
     "iopub.status.idle": "2021-09-01T16:52:51.737117Z",
     "shell.execute_reply": "2021-09-01T16:52:51.737651Z",
     "shell.execute_reply.started": "2021-08-30T05:00:34.987362Z"
    },
    "papermill": {
     "duration": 0.060832,
     "end_time": "2021-09-01T16:52:51.737863",
     "exception": false,
     "start_time": "2021-09-01T16:52:51.677031",
     "status": "completed"
    },
    "tags": []
   },
   "outputs": [
    {
     "name": "stdout",
     "output_type": "stream",
     "text": [
      "582\n",
      "-----------------------\n",
      "<class 'list'> <class 'list'>\n",
      "582 582\n"
     ]
    }
   ],
   "source": [
    "train_labels=pd.read_csv(train_labels_dir)\n",
    "train_labels['BraTS21ID'] = train_labels['BraTS21ID'].apply(lambda x: str(x).zfill(5))\n",
    "train_labels = train_labels.set_index('BraTS21ID')\n",
    "train_labels = train_labels.drop(index = '00109')\n",
    "train_labels = train_labels.drop(index = '00123')\n",
    "train_labels = train_labels.drop(index = '00709')\n",
    "train_patients = train_labels.index.values.tolist()\n",
    "test_patients = os.listdir(test_dir)\n",
    "print(len(train_labels))\n",
    "# print(train_labels)\n",
    "print('-----------------------')\n",
    "# lab = train_labels.to_numpy()\n",
    "# print(train_patients)\n",
    "lab = train_labels.values.tolist()\n",
    "print(type(lab),type(train_patients))\n",
    "print(len(lab),len(train_patients))\n",
    "# print(lab)\n",
    "# for x,y in train_patients:\n",
    "#     if(x == 00000):\n",
    "#         print(y)"
   ]
  },
  {
   "cell_type": "code",
   "execution_count": 7,
   "id": "8a8edeb5",
   "metadata": {
    "execution": {
     "iopub.execute_input": "2021-09-01T16:52:51.781690Z",
     "iopub.status.busy": "2021-09-01T16:52:51.780933Z",
     "iopub.status.idle": "2021-09-01T17:10:22.264203Z",
     "shell.execute_reply": "2021-09-01T17:10:22.264747Z",
     "shell.execute_reply.started": "2021-08-30T05:00:35.582819Z"
    },
    "papermill": {
     "duration": 1050.507366,
     "end_time": "2021-09-01T17:10:22.264957",
     "exception": false,
     "start_time": "2021-09-01T16:52:51.757591",
     "status": "completed"
    },
    "tags": []
   },
   "outputs": [
    {
     "data": {
      "application/vnd.jupyter.widget-view+json": {
       "model_id": "3953f167391049dc95399b119f7379fc",
       "version_major": 2,
       "version_minor": 0
      },
      "text/plain": [
       "  0%|          | 0/582 [00:00<?, ?it/s]"
      ]
     },
     "metadata": {},
     "output_type": "display_data"
    },
    {
     "name": "stdout",
     "output_type": "stream",
     "text": [
      "Over\n"
     ]
    }
   ],
   "source": [
    "for patient in tqdm(train_patients):\n",
    "    id = train_patients.index(patient)\n",
    "    v = lab[id]\n",
    "    m=str(v)\n",
    "#     print(v)\n",
    "    path = os.path.join(train_dir, patient,'T1wCE')\n",
    "#     print(path)\n",
    "    for dcm_file in os.listdir(path):\n",
    "        file_path = os.path.join(path,dcm_file)\n",
    "        dicom2png(file_path,m)\n",
    "print(\"Over\")"
   ]
  },
  {
   "cell_type": "code",
   "execution_count": 8,
   "id": "5c198fd7",
   "metadata": {
    "execution": {
     "iopub.execute_input": "2021-09-01T17:10:22.308629Z",
     "iopub.status.busy": "2021-09-01T17:10:22.308126Z",
     "iopub.status.idle": "2021-09-01T17:10:22.311401Z",
     "shell.execute_reply": "2021-09-01T17:10:22.311839Z",
     "shell.execute_reply.started": "2021-08-30T05:18:18.323124Z"
    },
    "papermill": {
     "duration": 0.026813,
     "end_time": "2021-09-01T17:10:22.311973",
     "exception": false,
     "start_time": "2021-09-01T17:10:22.285160",
     "status": "completed"
    },
    "tags": []
   },
   "outputs": [],
   "source": [
    "classes=['1','0']\n",
    "num_classes=2\n",
    "batch_size=4"
   ]
  },
  {
   "cell_type": "code",
   "execution_count": 9,
   "id": "054e1f49",
   "metadata": {
    "execution": {
     "iopub.execute_input": "2021-09-01T17:10:22.356995Z",
     "iopub.status.busy": "2021-09-01T17:10:22.356235Z",
     "iopub.status.idle": "2021-09-01T17:10:22.363062Z",
     "shell.execute_reply": "2021-09-01T17:10:22.362595Z",
     "shell.execute_reply.started": "2021-08-30T05:18:18.329497Z"
    },
    "papermill": {
     "duration": 0.031139,
     "end_time": "2021-09-01T17:10:22.363171",
     "exception": false,
     "start_time": "2021-09-01T17:10:22.332032",
     "status": "completed"
    },
    "tags": []
   },
   "outputs": [],
   "source": [
    "import torchvision\n",
    "from torchvision import transforms\n",
    "\n",
    "dataset = torchvision.datasets.ImageFolder(root=\"./png/train\",transform=transforms.Compose([\n",
    "                                                            transforms.ToTensor(),\n",
    "                                                            transforms.Resize([224,224]),\n",
    "                                                            ]))"
   ]
  },
  {
   "cell_type": "code",
   "execution_count": 10,
   "id": "32f83918",
   "metadata": {
    "execution": {
     "iopub.execute_input": "2021-09-01T17:10:22.409014Z",
     "iopub.status.busy": "2021-09-01T17:10:22.407424Z",
     "iopub.status.idle": "2021-09-01T17:10:22.411066Z",
     "shell.execute_reply": "2021-09-01T17:10:22.410626Z",
     "shell.execute_reply.started": "2021-08-30T05:18:18.344691Z"
    },
    "papermill": {
     "duration": 0.028309,
     "end_time": "2021-09-01T17:10:22.411171",
     "exception": false,
     "start_time": "2021-09-01T17:10:22.382862",
     "status": "completed"
    },
    "tags": []
   },
   "outputs": [
    {
     "name": "stdout",
     "output_type": "stream",
     "text": [
      "689\n"
     ]
    }
   ],
   "source": [
    "print(len(dataset))\n",
    "trainloader=torch.utils.data.DataLoader(dataset,batch_size=batch_size,shuffle=True,generator=torch.Generator().manual_seed(42))"
   ]
  },
  {
   "cell_type": "code",
   "execution_count": 11,
   "id": "fc9841c9",
   "metadata": {
    "execution": {
     "iopub.execute_input": "2021-09-01T17:10:22.456766Z",
     "iopub.status.busy": "2021-09-01T17:10:22.456142Z",
     "iopub.status.idle": "2021-09-01T17:10:22.536216Z",
     "shell.execute_reply": "2021-09-01T17:10:22.535774Z",
     "shell.execute_reply.started": "2021-08-30T05:18:18.352431Z"
    },
    "papermill": {
     "duration": 0.105461,
     "end_time": "2021-09-01T17:10:22.536339",
     "exception": false,
     "start_time": "2021-09-01T17:10:22.430878",
     "status": "completed"
    },
    "tags": []
   },
   "outputs": [],
   "source": [
    "dataiter=iter(trainloader)\n",
    "images,labels=dataiter.next()"
   ]
  },
  {
   "cell_type": "code",
   "execution_count": 12,
   "id": "91fbbfe1",
   "metadata": {
    "execution": {
     "iopub.execute_input": "2021-09-01T17:10:22.586069Z",
     "iopub.status.busy": "2021-09-01T17:10:22.585376Z",
     "iopub.status.idle": "2021-09-01T17:10:22.588908Z",
     "shell.execute_reply": "2021-09-01T17:10:22.588502Z",
     "shell.execute_reply.started": "2021-08-30T05:24:58.80425Z"
    },
    "papermill": {
     "duration": 0.032781,
     "end_time": "2021-09-01T17:10:22.589026",
     "exception": false,
     "start_time": "2021-09-01T17:10:22.556245",
     "status": "completed"
    },
    "tags": []
   },
   "outputs": [],
   "source": [
    "class RN(nn.Module):\n",
    "    def __init__(self,learning_rate=0.001):\n",
    "        super().__init__()\n",
    "        self.learning_rate = learning_rate\n",
    "        backbone = models.resnet152(pretrained=False)\n",
    "        result = backbone.load_state_dict(torch.load(\"../input/pytorch-pretrained-models/resnet152-b121ed2d.pth\"))\n",
    "        print(result)\n",
    "        num_ftrs=backbone.fc.in_features\n",
    "        layers = list(backbone.children())[:-1]\n",
    "        self.feature_extractor = nn.Sequential(*layers)\n",
    "        fc=[]\n",
    "        fc.extend([nn.Linear(in_features=num_ftrs,out_features=512),\n",
    "           nn.ReLU(),\n",
    "           nn.Dropout(),\n",
    "           nn.Linear(in_features=512,out_features=128),\n",
    "           nn.ReLU(),\n",
    "           nn.Dropout(),\n",
    "           nn.Linear(in_features=128,out_features=1)\n",
    "          ])\n",
    "        self.classifier=nn.Sequential(*fc)\n",
    "        for param in self.feature_extractor.parameters():\n",
    "            param.requires_grad=False\n",
    "    def forward(self, x):\n",
    "        with torch.no_grad():\n",
    "            representations = self.feature_extractor(x).flatten(1)\n",
    "        x=self.classifier(representations)\n",
    "        return x;"
   ]
  },
  {
   "cell_type": "code",
   "execution_count": 13,
   "id": "60c498ef",
   "metadata": {
    "execution": {
     "iopub.execute_input": "2021-09-01T17:10:22.638505Z",
     "iopub.status.busy": "2021-09-01T17:10:22.637770Z",
     "iopub.status.idle": "2021-09-01T17:10:32.314105Z",
     "shell.execute_reply": "2021-09-01T17:10:32.314516Z",
     "shell.execute_reply.started": "2021-08-30T05:25:09.805185Z"
    },
    "papermill": {
     "duration": 9.705762,
     "end_time": "2021-09-01T17:10:32.314704",
     "exception": false,
     "start_time": "2021-09-01T17:10:22.608942",
     "status": "completed"
    },
    "tags": []
   },
   "outputs": [
    {
     "name": "stdout",
     "output_type": "stream",
     "text": [
      "<All keys matched successfully>\n"
     ]
    }
   ],
   "source": [
    "rn=RN().to(device)"
   ]
  },
  {
   "cell_type": "code",
   "execution_count": 14,
   "id": "7353da9c",
   "metadata": {
    "execution": {
     "iopub.execute_input": "2021-09-01T17:10:32.366131Z",
     "iopub.status.busy": "2021-09-01T17:10:32.364739Z",
     "iopub.status.idle": "2021-09-01T17:10:32.367008Z",
     "shell.execute_reply": "2021-09-01T17:10:32.367399Z",
     "shell.execute_reply.started": "2021-08-30T05:25:23.152121Z"
    },
    "papermill": {
     "duration": 0.031499,
     "end_time": "2021-09-01T17:10:32.367533",
     "exception": false,
     "start_time": "2021-09-01T17:10:32.336034",
     "status": "completed"
    },
    "tags": []
   },
   "outputs": [],
   "source": [
    "def train(net,dataloader,epochs=15):\n",
    "    loss_fn=nn.BCEWithLogitsLoss().to(device)\n",
    "    running_loss = 0.0\n",
    "    opt=optim.Adam(params=net.parameters())\n",
    "    for epoch in range(epochs):\n",
    "        print(f'Running Epoch: {epoch+1}')\n",
    "        for i,data in enumerate(dataloader,0):\n",
    "            inputs,labels=data\n",
    "            inputs,labels=inputs.to(device),labels.to(device)\n",
    "            opt.zero_grad()\n",
    "            outputs=net(inputs)\n",
    "            labels=labels.unsqueeze(-1)\n",
    "            labels = labels.type_as(outputs)\n",
    "    #         print(outputs)\n",
    "            loss=loss_fn(outputs,labels)\n",
    "            loss.backward()\n",
    "            opt.step()\n",
    "            running_loss += loss.item()\n",
    "            if i % 200 == 199:    # print every 2000 mini-batches\n",
    "                print('[%d, %5d] loss: %.3f' %\n",
    "                    (epoch + 1, i + 1, running_loss / 200))\n",
    "                running_loss = 0.0\n",
    "            torch.cuda.empty_cache()\n",
    "            del inputs,labels,outputs\n",
    "    print('Finished Training')"
   ]
  },
  {
   "cell_type": "code",
   "execution_count": 15,
   "id": "875bfb1e",
   "metadata": {
    "execution": {
     "iopub.execute_input": "2021-09-01T17:10:32.417725Z",
     "iopub.status.busy": "2021-09-01T17:10:32.415708Z",
     "iopub.status.idle": "2021-09-01T17:10:32.420679Z",
     "shell.execute_reply": "2021-09-01T17:10:32.421076Z",
     "shell.execute_reply.started": "2021-08-30T05:25:31.108381Z"
    },
    "papermill": {
     "duration": 0.03319,
     "end_time": "2021-09-01T17:10:32.421197",
     "exception": false,
     "start_time": "2021-09-01T17:10:32.388007",
     "status": "completed"
    },
    "tags": []
   },
   "outputs": [
    {
     "name": "stdout",
     "output_type": "stream",
     "text": [
      "torch.Size([512, 2048])\n",
      "torch.Size([512])\n",
      "torch.Size([128, 512])\n",
      "torch.Size([128])\n",
      "torch.Size([1, 128])\n",
      "torch.Size([1])\n"
     ]
    }
   ],
   "source": [
    "for param in rn.parameters():\n",
    "    if param.requires_grad:\n",
    "        print(param.shape)"
   ]
  },
  {
   "cell_type": "code",
   "execution_count": 16,
   "id": "b7af6636",
   "metadata": {
    "execution": {
     "iopub.execute_input": "2021-09-01T17:10:32.472989Z",
     "iopub.status.busy": "2021-09-01T17:10:32.472136Z",
     "iopub.status.idle": "2021-09-01T17:14:47.354502Z",
     "shell.execute_reply": "2021-09-01T17:14:47.354894Z",
     "shell.execute_reply.started": "2021-08-30T05:25:40.45304Z"
    },
    "papermill": {
     "duration": 254.913661,
     "end_time": "2021-09-01T17:14:47.355061",
     "exception": false,
     "start_time": "2021-09-01T17:10:32.441400",
     "status": "completed"
    },
    "tags": []
   },
   "outputs": [
    {
     "name": "stdout",
     "output_type": "stream",
     "text": [
      "Running Epoch: 1\n",
      "Running Epoch: 2\n",
      "Running Epoch: 3\n",
      "Running Epoch: 4\n",
      "Running Epoch: 5\n",
      "Running Epoch: 6\n",
      "Running Epoch: 7\n",
      "Running Epoch: 8\n",
      "Running Epoch: 9\n",
      "Running Epoch: 10\n",
      "Running Epoch: 11\n",
      "Running Epoch: 12\n",
      "Running Epoch: 13\n",
      "Running Epoch: 14\n",
      "Running Epoch: 15\n",
      "Running Epoch: 16\n",
      "Running Epoch: 17\n",
      "Running Epoch: 18\n",
      "Running Epoch: 19\n",
      "Running Epoch: 20\n",
      "Finished Training\n"
     ]
    }
   ],
   "source": [
    "train(rn,trainloader,20)"
   ]
  },
  {
   "cell_type": "code",
   "execution_count": 17,
   "id": "3ebca85b",
   "metadata": {
    "execution": {
     "iopub.execute_input": "2021-09-01T17:14:47.416624Z",
     "iopub.status.busy": "2021-09-01T17:14:47.415401Z",
     "iopub.status.idle": "2021-09-01T17:14:47.417734Z",
     "shell.execute_reply": "2021-09-01T17:14:47.418134Z",
     "shell.execute_reply.started": "2021-08-30T05:32:22.0413Z"
    },
    "papermill": {
     "duration": 0.037093,
     "end_time": "2021-09-01T17:14:47.418249",
     "exception": false,
     "start_time": "2021-09-01T17:14:47.381156",
     "status": "completed"
    },
    "tags": []
   },
   "outputs": [],
   "source": [
    "def dicom2pngt(path,directory = png_train):\n",
    "    dcm_file = dicom.read_file(path)\n",
    "#     print(np.mean(dcm_file.pixel_array)!=0)\n",
    "    if np.max(dcm_file.pixel_array) - np.min(dcm_file.pixel_array) != 0:\n",
    "        data = apply_voi_lut(dcm_file.pixel_array, dcm_file)\n",
    "        if dcm_file.PhotometricInterpretation == \"MONOCHROME1\":\n",
    "            data = np.amax(data) - data\n",
    "        data = data - np.min(data)\n",
    "        data = data / (np.max(data) - np.min(data))\n",
    "        data = (data * 255).astype(np.uint8)\n",
    "        im = Image.fromarray(data)\n",
    "        to_dir = os.path.abspath(directory)\n",
    "        head,tail = os.path.split(path)\n",
    "        file_name = tail\n",
    "        ls = []\n",
    "        head,tail = os.path.split(head)\n",
    "        ls.append(tail)\n",
    "        head,tail = os.path.split(head)\n",
    "        ls.append(tail)\n",
    "        ls.reverse()\n",
    "        for loc in ls:\n",
    "            to_dir = os.path.join(to_dir,loc)\n",
    "        os.makedirs(to_dir, exist_ok = True)\n",
    "        file_name = os.path.splitext(file_name)[0]\n",
    "        file_name += '.png'\n",
    "        to_dir = os.path.join(to_dir,file_name)\n",
    "        im.save(to_dir)"
   ]
  },
  {
   "cell_type": "code",
   "execution_count": 18,
   "id": "b32163e1",
   "metadata": {
    "execution": {
     "iopub.execute_input": "2021-09-01T17:14:47.475404Z",
     "iopub.status.busy": "2021-09-01T17:14:47.474903Z",
     "iopub.status.idle": "2021-09-01T17:14:47.478213Z",
     "shell.execute_reply": "2021-09-01T17:14:47.478603Z",
     "shell.execute_reply.started": "2021-08-30T05:32:22.052738Z"
    },
    "papermill": {
     "duration": 0.03498,
     "end_time": "2021-09-01T17:14:47.478732",
     "exception": false,
     "start_time": "2021-09-01T17:14:47.443752",
     "status": "completed"
    },
    "tags": []
   },
   "outputs": [],
   "source": [
    "def predict(dataloader,model):\n",
    "    y = []\n",
    "    model.eval()\n",
    "    for data in dataloader:\n",
    "        inputs,labels=data\n",
    "        inputs,labels=inputs.to(device),labels.to(device)\n",
    "        outputs=model(inputs)\n",
    "        m = nn.Sigmoid()\n",
    "        outputs=m(outputs)\n",
    "        outputs = outputs.flatten()\n",
    "        for o in outputs:\n",
    "            y.append(o.item())\n",
    "    model.train()\n",
    "    print(len(y))\n",
    "    y_pred = sum(y)/len(y)\n",
    "#     print(y_pred)\n",
    "    return y_pred"
   ]
  },
  {
   "cell_type": "code",
   "execution_count": 19,
   "id": "3f9b9b10",
   "metadata": {
    "execution": {
     "iopub.execute_input": "2021-09-01T17:14:47.556100Z",
     "iopub.status.busy": "2021-09-01T17:14:47.555214Z",
     "iopub.status.idle": "2021-09-01T17:17:39.414089Z",
     "shell.execute_reply": "2021-09-01T17:17:39.413623Z",
     "shell.execute_reply.started": "2021-08-30T05:32:22.066232Z"
    },
    "papermill": {
     "duration": 171.909932,
     "end_time": "2021-09-01T17:17:39.414227",
     "exception": false,
     "start_time": "2021-09-01T17:14:47.504295",
     "status": "completed"
    },
    "tags": []
   },
   "outputs": [
    {
     "data": {
      "application/vnd.jupyter.widget-view+json": {
       "model_id": "2c63783064b1448a8121f9426f663e87",
       "version_major": 2,
       "version_minor": 0
      },
      "text/plain": [
       "  0%|          | 0/87 [00:00<?, ?it/s]"
      ]
     },
     "metadata": {},
     "output_type": "display_data"
    },
    {
     "name": "stderr",
     "output_type": "stream",
     "text": [
      "/opt/conda/lib/python3.7/site-packages/ipykernel_launcher.py:9: RuntimeWarning: invalid value encountered in true_divide\n",
      "  if __name__ == '__main__':\n"
     ]
    }
   ],
   "source": [
    "for patient in tqdm(test_patients):\n",
    "#     print(f'patient: {patient}')\n",
    "    path = os.path.join(test_dir, patient,'T1wCE')\n",
    "    for dcm_file in os.listdir(path):\n",
    "        file_path = os.path.join(path,dcm_file)\n",
    "        dicom2pngt(file_path, directory = png_test)"
   ]
  },
  {
   "cell_type": "code",
   "execution_count": 20,
   "id": "7134defd",
   "metadata": {
    "execution": {
     "iopub.execute_input": "2021-09-01T17:17:39.472793Z",
     "iopub.status.busy": "2021-09-01T17:17:39.472045Z",
     "iopub.status.idle": "2021-09-01T17:20:20.320407Z",
     "shell.execute_reply": "2021-09-01T17:20:20.319684Z",
     "shell.execute_reply.started": "2021-08-30T05:35:14.250441Z"
    },
    "papermill": {
     "duration": 160.879652,
     "end_time": "2021-09-01T17:20:20.320591",
     "exception": false,
     "start_time": "2021-09-01T17:17:39.440939",
     "status": "completed"
    },
    "tags": []
   },
   "outputs": [
    {
     "name": "stdout",
     "output_type": "stream",
     "text": [
      "136\n",
      "71\n",
      "25\n",
      "141\n",
      "181\n",
      "21\n",
      "146\n",
      "136\n",
      "149\n",
      "134\n",
      "141\n",
      "137\n",
      "18\n",
      "28\n",
      "147\n",
      "142\n",
      "140\n",
      "147\n",
      "135\n",
      "68\n",
      "144\n",
      "141\n",
      "81\n",
      "140\n",
      "142\n",
      "27\n",
      "141\n",
      "70\n",
      "136\n",
      "118\n",
      "25\n",
      "236\n",
      "141\n",
      "144\n",
      "137\n",
      "144\n",
      "29\n",
      "24\n",
      "91\n",
      "134\n",
      "85\n",
      "266\n",
      "225\n",
      "139\n",
      "146\n",
      "132\n",
      "133\n",
      "220\n",
      "152\n",
      "214\n",
      "91\n",
      "142\n",
      "147\n",
      "234\n",
      "106\n",
      "141\n",
      "71\n",
      "82\n",
      "149\n",
      "72\n",
      "143\n",
      "56\n",
      "228\n",
      "70\n",
      "139\n",
      "21\n",
      "234\n",
      "25\n",
      "150\n",
      "145\n",
      "30\n",
      "149\n",
      "72\n",
      "149\n",
      "25\n",
      "137\n",
      "94\n",
      "144\n",
      "142\n",
      "158\n",
      "153\n",
      "131\n",
      "87\n",
      "150\n",
      "94\n",
      "97\n",
      "28\n"
     ]
    }
   ],
   "source": [
    "y_pred = defaultdict(dict)\n",
    "for patient in test_patients:\n",
    "    path = os.path.join(png_test, patient)\n",
    "#     print(path)\n",
    "    dataset = torchvision.datasets.ImageFolder(root=path,transform=transforms.Compose([transforms.ToTensor(),transforms.Resize([224,224]),]))\n",
    "    testloader=torch.utils.data.DataLoader(dataset,batch_size=batch_size,shuffle=False)\n",
    "\n",
    "    y_pred[patient] = predict(testloader,rn)\n",
    "    \n"
   ]
  },
  {
   "cell_type": "code",
   "execution_count": 21,
   "id": "7ab78b3f",
   "metadata": {
    "execution": {
     "iopub.execute_input": "2021-09-01T17:20:20.426130Z",
     "iopub.status.busy": "2021-09-01T17:20:20.425350Z",
     "iopub.status.idle": "2021-09-01T17:20:20.433490Z",
     "shell.execute_reply": "2021-09-01T17:20:20.433067Z",
     "shell.execute_reply.started": "2021-08-30T05:37:22.794087Z"
    },
    "papermill": {
     "duration": 0.064341,
     "end_time": "2021-09-01T17:20:20.433594",
     "exception": false,
     "start_time": "2021-09-01T17:20:20.369253",
     "status": "completed"
    },
    "tags": []
   },
   "outputs": [],
   "source": [
    "submission = pd.DataFrame({\"BraTS21ID\":y_pred.keys(),\"MGMT_value\":y_pred.values()})\n",
    "submission.to_csv('submission.csv', index=False)"
   ]
  },
  {
   "cell_type": "code",
   "execution_count": 22,
   "id": "4f51c6b3",
   "metadata": {
    "execution": {
     "iopub.execute_input": "2021-09-01T17:20:20.532390Z",
     "iopub.status.busy": "2021-09-01T17:20:20.531833Z",
     "iopub.status.idle": "2021-09-01T17:20:20.535651Z",
     "shell.execute_reply": "2021-09-01T17:20:20.534978Z",
     "shell.execute_reply.started": "2021-08-30T05:37:22.806536Z"
    },
    "papermill": {
     "duration": 0.054654,
     "end_time": "2021-09-01T17:20:20.535803",
     "exception": false,
     "start_time": "2021-09-01T17:20:20.481149",
     "status": "completed"
    },
    "tags": []
   },
   "outputs": [
    {
     "name": "stdout",
     "output_type": "stream",
     "text": [
      "defaultdict(<class 'dict'>, {'00114': 0.4986629283932202, '00013': 0.4445942769378004, '00821': 0.43243923023343084, '00644': 0.4715725039231016, '00699': 0.4747205701816148, '00125': 0.4991575749147506, '00833': 0.4382686979864558, '00762': 0.4783625874449225, '00393': 0.3722098840638095, '00287': 0.49945287473166167, '00434': 0.4070158755631312, '00337': 0.5229650900638017, '00145': 0.699425510234303, '00307': 0.4719329646655491, '00489': 0.45866502010497917, '00749': 0.393646558117069, '00163': 0.4114546297650252, '00384': 0.38430716297557566, '00438': 0.47795448612283775, '00047': 0.47148963524138227, '00323': 0.42518505236754817, '00428': 0.31385695149606846, '00462': 0.5171014550659392, '00560': 0.5302520693412849, '00422': 0.490600690403035, '00825': 0.37491959029877625, '00335': 0.4086667570873355, '00082': 0.47621907251221796, '00458': 0.5314241121249164, '01006': 0.5000325628256393, '00573': 0.44989960819482805, '00647': 0.4687745143043793, '00603': 0.3976932923368951, '00712': 0.4629630545775096, '00181': 0.4228985726180738, '00200': 0.4332350389385182, '00129': 0.5423937943475, '00829': 0.47411381142834824, '00535': 0.5539849811530375, '00721': 0.4776989948838504, '00037': 0.5268826044657651, '00015': 0.49568131462411774, '00463': 0.5223625761270523, '00447': 0.47020232800742706, '00662': 0.47523143489475117, '00492': 0.45220468142493203, '00702': 0.4624949899831213, '00027': 0.5431219127367843, '00381': 0.32181239506768944, '00681': 0.5043747700124144, '00592': 0.4837824957711356, '00208': 0.47128914228417507, '00213': 0.37271882051310573, '00521': 0.48156478609412146, '00585': 0.4826086748321101, '00355': 0.45598560687920725, '00001': 0.5229479631697628, '00091': 0.47029792744575477, '00190': 0.4897839358488985, '00826': 0.44102520821616054, '00229': 0.41237915510481055, '00135': 0.44292007020807694, '00719': 0.5433077062888626, '00553': 0.5193748946700777, '00769': 0.4343603699327373, '00460': 0.48832071182273684, '00503': 0.4388021265403328, '00822': 0.4648307840526104, '00372': 0.3852300627529621, '00779': 0.39311982084964886, '00997': 0.37763462339838344, '00333': 0.4785113683182921, '00079': 0.5507626129935185, '00256': 0.4004157778600718, '00450': 0.459595350921154, '00467': 0.47046471811341545, '00595': 0.4563638869910798, '00671': 0.4294506811226408, '00252': 0.3952396493142759, '00153': 0.3929407111357284, '00161': 0.33296596206529855, '00264': 0.45548874037411374, '00474': 0.5258651999221451, '00174': 0.4279395477473736, '00119': 0.5414826351594417, '00080': 0.48408360495088026, '00182': 0.479085841349193})\n"
     ]
    }
   ],
   "source": [
    "print(y_pred)"
   ]
  },
  {
   "cell_type": "code",
   "execution_count": 23,
   "id": "ff414b1c",
   "metadata": {
    "execution": {
     "iopub.execute_input": "2021-09-01T17:20:20.641743Z",
     "iopub.status.busy": "2021-09-01T17:20:20.640924Z",
     "iopub.status.idle": "2021-09-01T17:20:20.654935Z",
     "shell.execute_reply": "2021-09-01T17:20:20.654389Z",
     "shell.execute_reply.started": "2021-08-30T05:37:44.336625Z"
    },
    "papermill": {
     "duration": 0.069861,
     "end_time": "2021-09-01T17:20:20.655043",
     "exception": false,
     "start_time": "2021-09-01T17:20:20.585182",
     "status": "completed"
    },
    "tags": []
   },
   "outputs": [
    {
     "data": {
      "text/html": [
       "<div>\n",
       "<style scoped>\n",
       "    .dataframe tbody tr th:only-of-type {\n",
       "        vertical-align: middle;\n",
       "    }\n",
       "\n",
       "    .dataframe tbody tr th {\n",
       "        vertical-align: top;\n",
       "    }\n",
       "\n",
       "    .dataframe thead th {\n",
       "        text-align: right;\n",
       "    }\n",
       "</style>\n",
       "<table border=\"1\" class=\"dataframe\">\n",
       "  <thead>\n",
       "    <tr style=\"text-align: right;\">\n",
       "      <th></th>\n",
       "      <th>BraTS21ID</th>\n",
       "      <th>MGMT_value</th>\n",
       "    </tr>\n",
       "  </thead>\n",
       "  <tbody>\n",
       "    <tr>\n",
       "      <th>0</th>\n",
       "      <td>00114</td>\n",
       "      <td>0.498663</td>\n",
       "    </tr>\n",
       "    <tr>\n",
       "      <th>1</th>\n",
       "      <td>00013</td>\n",
       "      <td>0.444594</td>\n",
       "    </tr>\n",
       "    <tr>\n",
       "      <th>2</th>\n",
       "      <td>00821</td>\n",
       "      <td>0.432439</td>\n",
       "    </tr>\n",
       "    <tr>\n",
       "      <th>3</th>\n",
       "      <td>00644</td>\n",
       "      <td>0.471573</td>\n",
       "    </tr>\n",
       "    <tr>\n",
       "      <th>4</th>\n",
       "      <td>00699</td>\n",
       "      <td>0.474721</td>\n",
       "    </tr>\n",
       "    <tr>\n",
       "      <th>...</th>\n",
       "      <td>...</td>\n",
       "      <td>...</td>\n",
       "    </tr>\n",
       "    <tr>\n",
       "      <th>82</th>\n",
       "      <td>00474</td>\n",
       "      <td>0.525865</td>\n",
       "    </tr>\n",
       "    <tr>\n",
       "      <th>83</th>\n",
       "      <td>00174</td>\n",
       "      <td>0.427940</td>\n",
       "    </tr>\n",
       "    <tr>\n",
       "      <th>84</th>\n",
       "      <td>00119</td>\n",
       "      <td>0.541483</td>\n",
       "    </tr>\n",
       "    <tr>\n",
       "      <th>85</th>\n",
       "      <td>00080</td>\n",
       "      <td>0.484084</td>\n",
       "    </tr>\n",
       "    <tr>\n",
       "      <th>86</th>\n",
       "      <td>00182</td>\n",
       "      <td>0.479086</td>\n",
       "    </tr>\n",
       "  </tbody>\n",
       "</table>\n",
       "<p>87 rows × 2 columns</p>\n",
       "</div>"
      ],
      "text/plain": [
       "   BraTS21ID  MGMT_value\n",
       "0      00114    0.498663\n",
       "1      00013    0.444594\n",
       "2      00821    0.432439\n",
       "3      00644    0.471573\n",
       "4      00699    0.474721\n",
       "..       ...         ...\n",
       "82     00474    0.525865\n",
       "83     00174    0.427940\n",
       "84     00119    0.541483\n",
       "85     00080    0.484084\n",
       "86     00182    0.479086\n",
       "\n",
       "[87 rows x 2 columns]"
      ]
     },
     "execution_count": 23,
     "metadata": {},
     "output_type": "execute_result"
    }
   ],
   "source": [
    "submission"
   ]
  },
  {
   "cell_type": "code",
   "execution_count": 24,
   "id": "10215423",
   "metadata": {
    "execution": {
     "iopub.execute_input": "2021-09-01T17:20:20.756428Z",
     "iopub.status.busy": "2021-09-01T17:20:20.755758Z",
     "iopub.status.idle": "2021-09-01T17:20:20.759023Z",
     "shell.execute_reply": "2021-09-01T17:20:20.758580Z",
     "shell.execute_reply.started": "2021-08-30T05:37:52.905543Z"
    },
    "papermill": {
     "duration": 0.055498,
     "end_time": "2021-09-01T17:20:20.759130",
     "exception": false,
     "start_time": "2021-09-01T17:20:20.703632",
     "status": "completed"
    },
    "tags": []
   },
   "outputs": [],
   "source": [
    "import csv\n",
    "with open(\"submission.csv\", \"w\") as outfile:\n",
    "    writer = csv.writer(outfile)\n",
    "    writer.writerow([\"BraTS21ID\",\"MGMT_value\"])\n",
    "    for key, value in y_pred.items():\n",
    "        writer.writerow([key, value])"
   ]
  },
  {
   "cell_type": "code",
   "execution_count": 25,
   "id": "3054c2ae",
   "metadata": {
    "execution": {
     "iopub.execute_input": "2021-09-01T17:20:20.859368Z",
     "iopub.status.busy": "2021-09-01T17:20:20.858879Z",
     "iopub.status.idle": "2021-09-01T17:20:21.802720Z",
     "shell.execute_reply": "2021-09-01T17:20:21.802056Z",
     "shell.execute_reply.started": "2021-08-30T05:37:58.98861Z"
    },
    "papermill": {
     "duration": 0.995285,
     "end_time": "2021-09-01T17:20:21.802852",
     "exception": false,
     "start_time": "2021-09-01T17:20:20.807567",
     "status": "completed"
    },
    "tags": []
   },
   "outputs": [],
   "source": [
    "!rm -rf ./png"
   ]
  },
  {
   "cell_type": "code",
   "execution_count": 26,
   "id": "a9166282",
   "metadata": {
    "execution": {
     "iopub.execute_input": "2021-09-01T17:20:21.921820Z",
     "iopub.status.busy": "2021-09-01T17:20:21.904064Z",
     "iopub.status.idle": "2021-09-01T17:20:22.669765Z",
     "shell.execute_reply": "2021-09-01T17:20:22.669024Z",
     "shell.execute_reply.started": "2021-08-30T05:38:06.581344Z"
    },
    "papermill": {
     "duration": 0.818198,
     "end_time": "2021-09-01T17:20:22.669921",
     "exception": false,
     "start_time": "2021-09-01T17:20:21.851723",
     "status": "completed"
    },
    "tags": []
   },
   "outputs": [
    {
     "name": "stdout",
     "output_type": "stream",
     "text": [
      "__notebook__.ipynb  submission.csv\r\n"
     ]
    }
   ],
   "source": [
    "!ls"
   ]
  },
  {
   "cell_type": "code",
   "execution_count": null,
   "id": "72ee6556",
   "metadata": {
    "papermill": {
     "duration": 0.048998,
     "end_time": "2021-09-01T17:20:22.780150",
     "exception": false,
     "start_time": "2021-09-01T17:20:22.731152",
     "status": "completed"
    },
    "tags": []
   },
   "outputs": [],
   "source": []
  }
 ],
 "metadata": {
  "kernelspec": {
   "display_name": "Python 3",
   "language": "python",
   "name": "python3"
  },
  "language_info": {
   "codemirror_mode": {
    "name": "ipython",
    "version": 3
   },
   "file_extension": ".py",
   "mimetype": "text/x-python",
   "name": "python",
   "nbconvert_exporter": "python",
   "pygments_lexer": "ipython3",
   "version": "3.7.10"
  },
  "papermill": {
   "default_parameters": {},
   "duration": 1663.165359,
   "end_time": "2021-09-01T17:20:25.060934",
   "environment_variables": {},
   "exception": null,
   "input_path": "__notebook__.ipynb",
   "output_path": "__notebook__.ipynb",
   "parameters": {},
   "start_time": "2021-09-01T16:52:41.895575",
   "version": "2.3.3"
  },
  "widgets": {
   "application/vnd.jupyter.widget-state+json": {
    "state": {
     "0015839f1e0f453ba83692e7200dfe00": {
      "model_module": "@jupyter-widgets/base",
      "model_module_version": "1.2.0",
      "model_name": "LayoutModel",
      "state": {
       "_model_module": "@jupyter-widgets/base",
       "_model_module_version": "1.2.0",
       "_model_name": "LayoutModel",
       "_view_count": null,
       "_view_module": "@jupyter-widgets/base",
       "_view_module_version": "1.2.0",
       "_view_name": "LayoutView",
       "align_content": null,
       "align_items": null,
       "align_self": null,
       "border": null,
       "bottom": null,
       "display": null,
       "flex": null,
       "flex_flow": null,
       "grid_area": null,
       "grid_auto_columns": null,
       "grid_auto_flow": null,
       "grid_auto_rows": null,
       "grid_column": null,
       "grid_gap": null,
       "grid_row": null,
       "grid_template_areas": null,
       "grid_template_columns": null,
       "grid_template_rows": null,
       "height": null,
       "justify_content": null,
       "justify_items": null,
       "left": null,
       "margin": null,
       "max_height": null,
       "max_width": null,
       "min_height": null,
       "min_width": null,
       "object_fit": null,
       "object_position": null,
       "order": null,
       "overflow": null,
       "overflow_x": null,
       "overflow_y": null,
       "padding": null,
       "right": null,
       "top": null,
       "visibility": null,
       "width": null
      }
     },
     "09d60838a46c4531a274f4d0452d34f4": {
      "model_module": "@jupyter-widgets/controls",
      "model_module_version": "1.5.0",
      "model_name": "HTMLModel",
      "state": {
       "_dom_classes": [],
       "_model_module": "@jupyter-widgets/controls",
       "_model_module_version": "1.5.0",
       "_model_name": "HTMLModel",
       "_view_count": null,
       "_view_module": "@jupyter-widgets/controls",
       "_view_module_version": "1.5.0",
       "_view_name": "HTMLView",
       "description": "",
       "description_tooltip": null,
       "layout": "IPY_MODEL_0015839f1e0f453ba83692e7200dfe00",
       "placeholder": "​",
       "style": "IPY_MODEL_d876901c54284c10a08fc0cdea56dd53",
       "value": " 582/582 [17:30&lt;00:00,  1.05it/s]"
      }
     },
     "1316f6addf6a441abaa130ad27965692": {
      "model_module": "@jupyter-widgets/base",
      "model_module_version": "1.2.0",
      "model_name": "LayoutModel",
      "state": {
       "_model_module": "@jupyter-widgets/base",
       "_model_module_version": "1.2.0",
       "_model_name": "LayoutModel",
       "_view_count": null,
       "_view_module": "@jupyter-widgets/base",
       "_view_module_version": "1.2.0",
       "_view_name": "LayoutView",
       "align_content": null,
       "align_items": null,
       "align_self": null,
       "border": null,
       "bottom": null,
       "display": null,
       "flex": null,
       "flex_flow": null,
       "grid_area": null,
       "grid_auto_columns": null,
       "grid_auto_flow": null,
       "grid_auto_rows": null,
       "grid_column": null,
       "grid_gap": null,
       "grid_row": null,
       "grid_template_areas": null,
       "grid_template_columns": null,
       "grid_template_rows": null,
       "height": null,
       "justify_content": null,
       "justify_items": null,
       "left": null,
       "margin": null,
       "max_height": null,
       "max_width": null,
       "min_height": null,
       "min_width": null,
       "object_fit": null,
       "object_position": null,
       "order": null,
       "overflow": null,
       "overflow_x": null,
       "overflow_y": null,
       "padding": null,
       "right": null,
       "top": null,
       "visibility": null,
       "width": null
      }
     },
     "18195f9fdf1c48d0a77d43253f2e0116": {
      "model_module": "@jupyter-widgets/controls",
      "model_module_version": "1.5.0",
      "model_name": "HTMLModel",
      "state": {
       "_dom_classes": [],
       "_model_module": "@jupyter-widgets/controls",
       "_model_module_version": "1.5.0",
       "_model_name": "HTMLModel",
       "_view_count": null,
       "_view_module": "@jupyter-widgets/controls",
       "_view_module_version": "1.5.0",
       "_view_name": "HTMLView",
       "description": "",
       "description_tooltip": null,
       "layout": "IPY_MODEL_592ac483e057434596eff5437a5e7d18",
       "placeholder": "​",
       "style": "IPY_MODEL_99d54d7376aa4e7692a5970659d82f55",
       "value": " 87/87 [02:51&lt;00:00,  1.08s/it]"
      }
     },
     "183d5395592d4a1d91f047c931fd7eae": {
      "model_module": "@jupyter-widgets/controls",
      "model_module_version": "1.5.0",
      "model_name": "ProgressStyleModel",
      "state": {
       "_model_module": "@jupyter-widgets/controls",
       "_model_module_version": "1.5.0",
       "_model_name": "ProgressStyleModel",
       "_view_count": null,
       "_view_module": "@jupyter-widgets/base",
       "_view_module_version": "1.2.0",
       "_view_name": "StyleView",
       "bar_color": null,
       "description_width": ""
      }
     },
     "24e137e3ad504d97af2012195b8729d5": {
      "model_module": "@jupyter-widgets/controls",
      "model_module_version": "1.5.0",
      "model_name": "FloatProgressModel",
      "state": {
       "_dom_classes": [],
       "_model_module": "@jupyter-widgets/controls",
       "_model_module_version": "1.5.0",
       "_model_name": "FloatProgressModel",
       "_view_count": null,
       "_view_module": "@jupyter-widgets/controls",
       "_view_module_version": "1.5.0",
       "_view_name": "ProgressView",
       "bar_style": "success",
       "description": "",
       "description_tooltip": null,
       "layout": "IPY_MODEL_3f1c54b88daf40d2826334bb79c4e92d",
       "max": 582.0,
       "min": 0.0,
       "orientation": "horizontal",
       "style": "IPY_MODEL_183d5395592d4a1d91f047c931fd7eae",
       "value": 582.0
      }
     },
     "2c63783064b1448a8121f9426f663e87": {
      "model_module": "@jupyter-widgets/controls",
      "model_module_version": "1.5.0",
      "model_name": "HBoxModel",
      "state": {
       "_dom_classes": [],
       "_model_module": "@jupyter-widgets/controls",
       "_model_module_version": "1.5.0",
       "_model_name": "HBoxModel",
       "_view_count": null,
       "_view_module": "@jupyter-widgets/controls",
       "_view_module_version": "1.5.0",
       "_view_name": "HBoxView",
       "box_style": "",
       "children": [
        "IPY_MODEL_8987b5bf0d384af188a59726c0272d61",
        "IPY_MODEL_4e38609328af400093d0cbfc4d6e1110",
        "IPY_MODEL_18195f9fdf1c48d0a77d43253f2e0116"
       ],
       "layout": "IPY_MODEL_89ee8ac0459f4a2793a2c2ec707060e5"
      }
     },
     "3953f167391049dc95399b119f7379fc": {
      "model_module": "@jupyter-widgets/controls",
      "model_module_version": "1.5.0",
      "model_name": "HBoxModel",
      "state": {
       "_dom_classes": [],
       "_model_module": "@jupyter-widgets/controls",
       "_model_module_version": "1.5.0",
       "_model_name": "HBoxModel",
       "_view_count": null,
       "_view_module": "@jupyter-widgets/controls",
       "_view_module_version": "1.5.0",
       "_view_name": "HBoxView",
       "box_style": "",
       "children": [
        "IPY_MODEL_44a3847040ae48978c24bcaa519fe9d3",
        "IPY_MODEL_24e137e3ad504d97af2012195b8729d5",
        "IPY_MODEL_09d60838a46c4531a274f4d0452d34f4"
       ],
       "layout": "IPY_MODEL_bf8fc64f9b2846d2b1cf10e4dbab7328"
      }
     },
     "3f1c54b88daf40d2826334bb79c4e92d": {
      "model_module": "@jupyter-widgets/base",
      "model_module_version": "1.2.0",
      "model_name": "LayoutModel",
      "state": {
       "_model_module": "@jupyter-widgets/base",
       "_model_module_version": "1.2.0",
       "_model_name": "LayoutModel",
       "_view_count": null,
       "_view_module": "@jupyter-widgets/base",
       "_view_module_version": "1.2.0",
       "_view_name": "LayoutView",
       "align_content": null,
       "align_items": null,
       "align_self": null,
       "border": null,
       "bottom": null,
       "display": null,
       "flex": null,
       "flex_flow": null,
       "grid_area": null,
       "grid_auto_columns": null,
       "grid_auto_flow": null,
       "grid_auto_rows": null,
       "grid_column": null,
       "grid_gap": null,
       "grid_row": null,
       "grid_template_areas": null,
       "grid_template_columns": null,
       "grid_template_rows": null,
       "height": null,
       "justify_content": null,
       "justify_items": null,
       "left": null,
       "margin": null,
       "max_height": null,
       "max_width": null,
       "min_height": null,
       "min_width": null,
       "object_fit": null,
       "object_position": null,
       "order": null,
       "overflow": null,
       "overflow_x": null,
       "overflow_y": null,
       "padding": null,
       "right": null,
       "top": null,
       "visibility": null,
       "width": null
      }
     },
     "44a3847040ae48978c24bcaa519fe9d3": {
      "model_module": "@jupyter-widgets/controls",
      "model_module_version": "1.5.0",
      "model_name": "HTMLModel",
      "state": {
       "_dom_classes": [],
       "_model_module": "@jupyter-widgets/controls",
       "_model_module_version": "1.5.0",
       "_model_name": "HTMLModel",
       "_view_count": null,
       "_view_module": "@jupyter-widgets/controls",
       "_view_module_version": "1.5.0",
       "_view_name": "HTMLView",
       "description": "",
       "description_tooltip": null,
       "layout": "IPY_MODEL_bd9c840117d84e25895f3da306eee4a5",
       "placeholder": "​",
       "style": "IPY_MODEL_53f8a4ec82cc451a945fa1683c1040d1",
       "value": "100%"
      }
     },
     "4e38609328af400093d0cbfc4d6e1110": {
      "model_module": "@jupyter-widgets/controls",
      "model_module_version": "1.5.0",
      "model_name": "FloatProgressModel",
      "state": {
       "_dom_classes": [],
       "_model_module": "@jupyter-widgets/controls",
       "_model_module_version": "1.5.0",
       "_model_name": "FloatProgressModel",
       "_view_count": null,
       "_view_module": "@jupyter-widgets/controls",
       "_view_module_version": "1.5.0",
       "_view_name": "ProgressView",
       "bar_style": "success",
       "description": "",
       "description_tooltip": null,
       "layout": "IPY_MODEL_1316f6addf6a441abaa130ad27965692",
       "max": 87.0,
       "min": 0.0,
       "orientation": "horizontal",
       "style": "IPY_MODEL_6b96ba972221467a884767ffbb857b00",
       "value": 87.0
      }
     },
     "53f8a4ec82cc451a945fa1683c1040d1": {
      "model_module": "@jupyter-widgets/controls",
      "model_module_version": "1.5.0",
      "model_name": "DescriptionStyleModel",
      "state": {
       "_model_module": "@jupyter-widgets/controls",
       "_model_module_version": "1.5.0",
       "_model_name": "DescriptionStyleModel",
       "_view_count": null,
       "_view_module": "@jupyter-widgets/base",
       "_view_module_version": "1.2.0",
       "_view_name": "StyleView",
       "description_width": ""
      }
     },
     "592ac483e057434596eff5437a5e7d18": {
      "model_module": "@jupyter-widgets/base",
      "model_module_version": "1.2.0",
      "model_name": "LayoutModel",
      "state": {
       "_model_module": "@jupyter-widgets/base",
       "_model_module_version": "1.2.0",
       "_model_name": "LayoutModel",
       "_view_count": null,
       "_view_module": "@jupyter-widgets/base",
       "_view_module_version": "1.2.0",
       "_view_name": "LayoutView",
       "align_content": null,
       "align_items": null,
       "align_self": null,
       "border": null,
       "bottom": null,
       "display": null,
       "flex": null,
       "flex_flow": null,
       "grid_area": null,
       "grid_auto_columns": null,
       "grid_auto_flow": null,
       "grid_auto_rows": null,
       "grid_column": null,
       "grid_gap": null,
       "grid_row": null,
       "grid_template_areas": null,
       "grid_template_columns": null,
       "grid_template_rows": null,
       "height": null,
       "justify_content": null,
       "justify_items": null,
       "left": null,
       "margin": null,
       "max_height": null,
       "max_width": null,
       "min_height": null,
       "min_width": null,
       "object_fit": null,
       "object_position": null,
       "order": null,
       "overflow": null,
       "overflow_x": null,
       "overflow_y": null,
       "padding": null,
       "right": null,
       "top": null,
       "visibility": null,
       "width": null
      }
     },
     "6b96ba972221467a884767ffbb857b00": {
      "model_module": "@jupyter-widgets/controls",
      "model_module_version": "1.5.0",
      "model_name": "ProgressStyleModel",
      "state": {
       "_model_module": "@jupyter-widgets/controls",
       "_model_module_version": "1.5.0",
       "_model_name": "ProgressStyleModel",
       "_view_count": null,
       "_view_module": "@jupyter-widgets/base",
       "_view_module_version": "1.2.0",
       "_view_name": "StyleView",
       "bar_color": null,
       "description_width": ""
      }
     },
     "748e3d6cdb994b108b2c999d4282c9bd": {
      "model_module": "@jupyter-widgets/base",
      "model_module_version": "1.2.0",
      "model_name": "LayoutModel",
      "state": {
       "_model_module": "@jupyter-widgets/base",
       "_model_module_version": "1.2.0",
       "_model_name": "LayoutModel",
       "_view_count": null,
       "_view_module": "@jupyter-widgets/base",
       "_view_module_version": "1.2.0",
       "_view_name": "LayoutView",
       "align_content": null,
       "align_items": null,
       "align_self": null,
       "border": null,
       "bottom": null,
       "display": null,
       "flex": null,
       "flex_flow": null,
       "grid_area": null,
       "grid_auto_columns": null,
       "grid_auto_flow": null,
       "grid_auto_rows": null,
       "grid_column": null,
       "grid_gap": null,
       "grid_row": null,
       "grid_template_areas": null,
       "grid_template_columns": null,
       "grid_template_rows": null,
       "height": null,
       "justify_content": null,
       "justify_items": null,
       "left": null,
       "margin": null,
       "max_height": null,
       "max_width": null,
       "min_height": null,
       "min_width": null,
       "object_fit": null,
       "object_position": null,
       "order": null,
       "overflow": null,
       "overflow_x": null,
       "overflow_y": null,
       "padding": null,
       "right": null,
       "top": null,
       "visibility": null,
       "width": null
      }
     },
     "8987b5bf0d384af188a59726c0272d61": {
      "model_module": "@jupyter-widgets/controls",
      "model_module_version": "1.5.0",
      "model_name": "HTMLModel",
      "state": {
       "_dom_classes": [],
       "_model_module": "@jupyter-widgets/controls",
       "_model_module_version": "1.5.0",
       "_model_name": "HTMLModel",
       "_view_count": null,
       "_view_module": "@jupyter-widgets/controls",
       "_view_module_version": "1.5.0",
       "_view_name": "HTMLView",
       "description": "",
       "description_tooltip": null,
       "layout": "IPY_MODEL_748e3d6cdb994b108b2c999d4282c9bd",
       "placeholder": "​",
       "style": "IPY_MODEL_e0f5f8134ab640fe8e42e30f001e7249",
       "value": "100%"
      }
     },
     "89ee8ac0459f4a2793a2c2ec707060e5": {
      "model_module": "@jupyter-widgets/base",
      "model_module_version": "1.2.0",
      "model_name": "LayoutModel",
      "state": {
       "_model_module": "@jupyter-widgets/base",
       "_model_module_version": "1.2.0",
       "_model_name": "LayoutModel",
       "_view_count": null,
       "_view_module": "@jupyter-widgets/base",
       "_view_module_version": "1.2.0",
       "_view_name": "LayoutView",
       "align_content": null,
       "align_items": null,
       "align_self": null,
       "border": null,
       "bottom": null,
       "display": null,
       "flex": null,
       "flex_flow": null,
       "grid_area": null,
       "grid_auto_columns": null,
       "grid_auto_flow": null,
       "grid_auto_rows": null,
       "grid_column": null,
       "grid_gap": null,
       "grid_row": null,
       "grid_template_areas": null,
       "grid_template_columns": null,
       "grid_template_rows": null,
       "height": null,
       "justify_content": null,
       "justify_items": null,
       "left": null,
       "margin": null,
       "max_height": null,
       "max_width": null,
       "min_height": null,
       "min_width": null,
       "object_fit": null,
       "object_position": null,
       "order": null,
       "overflow": null,
       "overflow_x": null,
       "overflow_y": null,
       "padding": null,
       "right": null,
       "top": null,
       "visibility": null,
       "width": null
      }
     },
     "99d54d7376aa4e7692a5970659d82f55": {
      "model_module": "@jupyter-widgets/controls",
      "model_module_version": "1.5.0",
      "model_name": "DescriptionStyleModel",
      "state": {
       "_model_module": "@jupyter-widgets/controls",
       "_model_module_version": "1.5.0",
       "_model_name": "DescriptionStyleModel",
       "_view_count": null,
       "_view_module": "@jupyter-widgets/base",
       "_view_module_version": "1.2.0",
       "_view_name": "StyleView",
       "description_width": ""
      }
     },
     "bd9c840117d84e25895f3da306eee4a5": {
      "model_module": "@jupyter-widgets/base",
      "model_module_version": "1.2.0",
      "model_name": "LayoutModel",
      "state": {
       "_model_module": "@jupyter-widgets/base",
       "_model_module_version": "1.2.0",
       "_model_name": "LayoutModel",
       "_view_count": null,
       "_view_module": "@jupyter-widgets/base",
       "_view_module_version": "1.2.0",
       "_view_name": "LayoutView",
       "align_content": null,
       "align_items": null,
       "align_self": null,
       "border": null,
       "bottom": null,
       "display": null,
       "flex": null,
       "flex_flow": null,
       "grid_area": null,
       "grid_auto_columns": null,
       "grid_auto_flow": null,
       "grid_auto_rows": null,
       "grid_column": null,
       "grid_gap": null,
       "grid_row": null,
       "grid_template_areas": null,
       "grid_template_columns": null,
       "grid_template_rows": null,
       "height": null,
       "justify_content": null,
       "justify_items": null,
       "left": null,
       "margin": null,
       "max_height": null,
       "max_width": null,
       "min_height": null,
       "min_width": null,
       "object_fit": null,
       "object_position": null,
       "order": null,
       "overflow": null,
       "overflow_x": null,
       "overflow_y": null,
       "padding": null,
       "right": null,
       "top": null,
       "visibility": null,
       "width": null
      }
     },
     "bf8fc64f9b2846d2b1cf10e4dbab7328": {
      "model_module": "@jupyter-widgets/base",
      "model_module_version": "1.2.0",
      "model_name": "LayoutModel",
      "state": {
       "_model_module": "@jupyter-widgets/base",
       "_model_module_version": "1.2.0",
       "_model_name": "LayoutModel",
       "_view_count": null,
       "_view_module": "@jupyter-widgets/base",
       "_view_module_version": "1.2.0",
       "_view_name": "LayoutView",
       "align_content": null,
       "align_items": null,
       "align_self": null,
       "border": null,
       "bottom": null,
       "display": null,
       "flex": null,
       "flex_flow": null,
       "grid_area": null,
       "grid_auto_columns": null,
       "grid_auto_flow": null,
       "grid_auto_rows": null,
       "grid_column": null,
       "grid_gap": null,
       "grid_row": null,
       "grid_template_areas": null,
       "grid_template_columns": null,
       "grid_template_rows": null,
       "height": null,
       "justify_content": null,
       "justify_items": null,
       "left": null,
       "margin": null,
       "max_height": null,
       "max_width": null,
       "min_height": null,
       "min_width": null,
       "object_fit": null,
       "object_position": null,
       "order": null,
       "overflow": null,
       "overflow_x": null,
       "overflow_y": null,
       "padding": null,
       "right": null,
       "top": null,
       "visibility": null,
       "width": null
      }
     },
     "d876901c54284c10a08fc0cdea56dd53": {
      "model_module": "@jupyter-widgets/controls",
      "model_module_version": "1.5.0",
      "model_name": "DescriptionStyleModel",
      "state": {
       "_model_module": "@jupyter-widgets/controls",
       "_model_module_version": "1.5.0",
       "_model_name": "DescriptionStyleModel",
       "_view_count": null,
       "_view_module": "@jupyter-widgets/base",
       "_view_module_version": "1.2.0",
       "_view_name": "StyleView",
       "description_width": ""
      }
     },
     "e0f5f8134ab640fe8e42e30f001e7249": {
      "model_module": "@jupyter-widgets/controls",
      "model_module_version": "1.5.0",
      "model_name": "DescriptionStyleModel",
      "state": {
       "_model_module": "@jupyter-widgets/controls",
       "_model_module_version": "1.5.0",
       "_model_name": "DescriptionStyleModel",
       "_view_count": null,
       "_view_module": "@jupyter-widgets/base",
       "_view_module_version": "1.2.0",
       "_view_name": "StyleView",
       "description_width": ""
      }
     }
    },
    "version_major": 2,
    "version_minor": 0
   }
  }
 },
 "nbformat": 4,
 "nbformat_minor": 5
}
