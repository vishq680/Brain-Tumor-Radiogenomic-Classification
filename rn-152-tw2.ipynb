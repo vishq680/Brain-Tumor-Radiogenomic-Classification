{
 "cells": [
  {
   "cell_type": "code",
   "execution_count": 1,
   "id": "cd0a2872",
   "metadata": {
    "_cell_guid": "b1076dfc-b9ad-4769-8c92-a6c4dae69d19",
    "_uuid": "8f2839f25d086af736a60e9eeb907d3b93b6e0e5",
    "execution": {
     "iopub.execute_input": "2021-09-01T17:30:28.723754Z",
     "iopub.status.busy": "2021-09-01T17:30:28.722958Z",
     "iopub.status.idle": "2021-09-01T17:30:32.117157Z",
     "shell.execute_reply": "2021-09-01T17:30:32.115853Z",
     "shell.execute_reply.started": "2021-08-30T05:00:27.810659Z"
    },
    "papermill": {
     "duration": 3.438532,
     "end_time": "2021-09-01T17:30:32.117353",
     "exception": false,
     "start_time": "2021-09-01T17:30:28.678821",
     "status": "completed"
    },
    "tags": []
   },
   "outputs": [],
   "source": [
    "import pytorch_lightning as pl\n",
    "import cv2 as cv\n",
    "import pydicom as dicom\n",
    "from pydicom.pixel_data_handlers import apply_voi_lut\n",
    "import pandas as pd\n",
    "import torch\n",
    "import os\n",
    "from collections import defaultdict\n",
    "from torch.utils.data import Dataset,DataLoader\n",
    "from torchvision import transforms, models\n",
    "import torch.nn as nn\n",
    "import torch.nn.functional as F\n",
    "import torch.optim as optim\n",
    "import copy\n",
    "import numpy as np\n",
    "from PIL import Image,ImageOps\n",
    "import matplotlib.pyplot as plt\n",
    "import sys\n",
    "from tqdm.notebook import tqdm, trange\n",
    "import time"
   ]
  },
  {
   "cell_type": "code",
   "execution_count": 2,
   "id": "7007a34d",
   "metadata": {
    "execution": {
     "iopub.execute_input": "2021-09-01T17:30:32.199304Z",
     "iopub.status.busy": "2021-09-01T17:30:32.198726Z",
     "iopub.status.idle": "2021-09-01T17:30:32.203178Z",
     "shell.execute_reply": "2021-09-01T17:30:32.202782Z",
     "shell.execute_reply.started": "2021-08-30T05:00:30.70551Z"
    },
    "papermill": {
     "duration": 0.066609,
     "end_time": "2021-09-01T17:30:32.203324",
     "exception": false,
     "start_time": "2021-09-01T17:30:32.136715",
     "status": "completed"
    },
    "tags": []
   },
   "outputs": [
    {
     "name": "stdout",
     "output_type": "stream",
     "text": [
      "cuda:0\n"
     ]
    }
   ],
   "source": [
    "device = torch.device(\"cuda:0\" if torch.cuda.is_available() else \"cpu\")\n",
    "# device = torch.device(\"cpu\")\n",
    "print(device)"
   ]
  },
  {
   "cell_type": "code",
   "execution_count": 3,
   "id": "49a00d8b",
   "metadata": {
    "execution": {
     "iopub.execute_input": "2021-09-01T17:30:32.245073Z",
     "iopub.status.busy": "2021-09-01T17:30:32.244564Z",
     "iopub.status.idle": "2021-09-01T17:30:32.248505Z",
     "shell.execute_reply": "2021-09-01T17:30:32.248043Z",
     "shell.execute_reply.started": "2021-08-30T05:00:33.559189Z"
    },
    "papermill": {
     "duration": 0.02627,
     "end_time": "2021-09-01T17:30:32.248617",
     "exception": false,
     "start_time": "2021-09-01T17:30:32.222347",
     "status": "completed"
    },
    "tags": []
   },
   "outputs": [],
   "source": [
    "train_dir = \"../input/rsna-miccai-brain-tumor-radiogenomic-classification/train\"\n",
    "train_labels_dir = \"../input/rsna-miccai-brain-tumor-radiogenomic-classification/train_labels.csv\"\n",
    "test_dir = \"../input/rsna-miccai-brain-tumor-radiogenomic-classification/test\"\n",
    "png_train = \"./png/train\"\n",
    "png_test = \"./png/test\"\n",
    "batch_size = 4"
   ]
  },
  {
   "cell_type": "code",
   "execution_count": 4,
   "id": "9c6d487d",
   "metadata": {
    "execution": {
     "iopub.execute_input": "2021-09-01T17:30:32.291162Z",
     "iopub.status.busy": "2021-09-01T17:30:32.289900Z",
     "iopub.status.idle": "2021-09-01T17:30:32.292235Z",
     "shell.execute_reply": "2021-09-01T17:30:32.292647Z",
     "shell.execute_reply.started": "2021-08-30T05:00:33.858765Z"
    },
    "papermill": {
     "duration": 0.025482,
     "end_time": "2021-09-01T17:30:32.292767",
     "exception": false,
     "start_time": "2021-09-01T17:30:32.267285",
     "status": "completed"
    },
    "tags": []
   },
   "outputs": [],
   "source": [
    "def ensure_dir(file_path):\n",
    "    directory = os.path.dirname(file_path)\n",
    "    if not os.path.exists(directory):\n",
    "        os.makedirs(directory)"
   ]
  },
  {
   "cell_type": "code",
   "execution_count": 5,
   "id": "b584476c",
   "metadata": {
    "execution": {
     "iopub.execute_input": "2021-09-01T17:30:32.341850Z",
     "iopub.status.busy": "2021-09-01T17:30:32.341155Z",
     "iopub.status.idle": "2021-09-01T17:30:32.344528Z",
     "shell.execute_reply": "2021-09-01T17:30:32.344092Z",
     "shell.execute_reply.started": "2021-08-30T05:00:34.427847Z"
    },
    "papermill": {
     "duration": 0.031393,
     "end_time": "2021-09-01T17:30:32.344636",
     "exception": false,
     "start_time": "2021-09-01T17:30:32.313243",
     "status": "completed"
    },
    "tags": []
   },
   "outputs": [],
   "source": [
    "def dicom2png(path,v):\n",
    "    dcm_file = dicom.read_file(path)\n",
    "#     print(np.mean(dcm_file.pixel_array)!=0)\n",
    "    data = apply_voi_lut(dcm_file.pixel_array, dcm_file)\n",
    "    if np.max(data) - np.min(data) != 0:\n",
    "        if dcm_file.PhotometricInterpretation == \"MONOCHROME1\":\n",
    "            data = np.amax(data) - data\n",
    "        data = data - np.min(data)\n",
    "        data = data / np.max(data)\n",
    "        data = (data * 255).astype(np.uint8)\n",
    "        im = Image.fromarray(data)\n",
    "        to_dir = os.path.abspath(png_train)\n",
    "        head,tail = os.path.split(path)\n",
    "        file_name = tail\n",
    "        ls = []\n",
    "        head,tail = os.path.split(head)\n",
    "        ls.append(tail)\n",
    "        head,tail = os.path.split(head)\n",
    "        ls.append(tail)\n",
    "#         print(tail)\n",
    "        ls.reverse()\n",
    "        for loc in ls:\n",
    "            to_dir = os.path.join(to_dir,loc)\n",
    "        to_dir = os.path.abspath(png_train)\n",
    "        to_dir = os.path.join(to_dir,v)\n",
    "        os.makedirs(to_dir, exist_ok = True)\n",
    "        file_name = os.path.splitext(file_name)[0]\n",
    "        file_name += '.png'\n",
    "        to_dir = os.path.join(to_dir,file_name)\n",
    "        im.save(to_dir)"
   ]
  },
  {
   "cell_type": "code",
   "execution_count": 6,
   "id": "c160f113",
   "metadata": {
    "execution": {
     "iopub.execute_input": "2021-09-01T17:30:32.388643Z",
     "iopub.status.busy": "2021-09-01T17:30:32.388099Z",
     "iopub.status.idle": "2021-09-01T17:30:32.420095Z",
     "shell.execute_reply": "2021-09-01T17:30:32.419501Z",
     "shell.execute_reply.started": "2021-08-30T05:00:34.987362Z"
    },
    "papermill": {
     "duration": 0.057023,
     "end_time": "2021-09-01T17:30:32.420253",
     "exception": false,
     "start_time": "2021-09-01T17:30:32.363230",
     "status": "completed"
    },
    "tags": []
   },
   "outputs": [
    {
     "name": "stdout",
     "output_type": "stream",
     "text": [
      "582\n",
      "-----------------------\n",
      "<class 'list'> <class 'list'>\n",
      "582 582\n"
     ]
    }
   ],
   "source": [
    "train_labels=pd.read_csv(train_labels_dir)\n",
    "train_labels['BraTS21ID'] = train_labels['BraTS21ID'].apply(lambda x: str(x).zfill(5))\n",
    "train_labels = train_labels.set_index('BraTS21ID')\n",
    "train_labels = train_labels.drop(index = '00109')\n",
    "train_labels = train_labels.drop(index = '00123')\n",
    "train_labels = train_labels.drop(index = '00709')\n",
    "train_patients = train_labels.index.values.tolist()\n",
    "test_patients = os.listdir(test_dir)\n",
    "print(len(train_labels))\n",
    "# print(train_labels)\n",
    "print('-----------------------')\n",
    "# lab = train_labels.to_numpy()\n",
    "# print(train_patients)\n",
    "lab = train_labels.values.tolist()\n",
    "print(type(lab),type(train_patients))\n",
    "print(len(lab),len(train_patients))\n",
    "# print(lab)\n",
    "# for x,y in train_patients:\n",
    "#     if(x == 00000):\n",
    "#         print(y)"
   ]
  },
  {
   "cell_type": "code",
   "execution_count": 7,
   "id": "0697ee48",
   "metadata": {
    "execution": {
     "iopub.execute_input": "2021-09-01T17:30:32.464069Z",
     "iopub.status.busy": "2021-09-01T17:30:32.463349Z",
     "iopub.status.idle": "2021-09-01T17:54:16.280613Z",
     "shell.execute_reply": "2021-09-01T17:54:16.281182Z",
     "shell.execute_reply.started": "2021-08-30T05:00:35.582819Z"
    },
    "papermill": {
     "duration": 1423.841736,
     "end_time": "2021-09-01T17:54:16.281403",
     "exception": false,
     "start_time": "2021-09-01T17:30:32.439667",
     "status": "completed"
    },
    "tags": []
   },
   "outputs": [
    {
     "data": {
      "application/vnd.jupyter.widget-view+json": {
       "model_id": "177d6b6b15154ab0b2cd7ed4b6711992",
       "version_major": 2,
       "version_minor": 0
      },
      "text/plain": [
       "  0%|          | 0/582 [00:00<?, ?it/s]"
      ]
     },
     "metadata": {},
     "output_type": "display_data"
    },
    {
     "name": "stdout",
     "output_type": "stream",
     "text": [
      "Over\n"
     ]
    }
   ],
   "source": [
    "for patient in tqdm(train_patients):\n",
    "    id = train_patients.index(patient)\n",
    "    v = lab[id]\n",
    "    m=str(v)\n",
    "#     print(v)\n",
    "    path = os.path.join(train_dir, patient,'T2w')\n",
    "#     print(path)\n",
    "    for dcm_file in os.listdir(path):\n",
    "        file_path = os.path.join(path,dcm_file)\n",
    "        dicom2png(file_path,m)\n",
    "print(\"Over\")"
   ]
  },
  {
   "cell_type": "code",
   "execution_count": 8,
   "id": "404bcb6c",
   "metadata": {
    "execution": {
     "iopub.execute_input": "2021-09-01T17:54:16.325297Z",
     "iopub.status.busy": "2021-09-01T17:54:16.324778Z",
     "iopub.status.idle": "2021-09-01T17:54:16.328370Z",
     "shell.execute_reply": "2021-09-01T17:54:16.327965Z",
     "shell.execute_reply.started": "2021-08-30T05:18:18.323124Z"
    },
    "papermill": {
     "duration": 0.026417,
     "end_time": "2021-09-01T17:54:16.328497",
     "exception": false,
     "start_time": "2021-09-01T17:54:16.302080",
     "status": "completed"
    },
    "tags": []
   },
   "outputs": [],
   "source": [
    "classes=['1','0']\n",
    "num_classes=2\n",
    "batch_size=4"
   ]
  },
  {
   "cell_type": "code",
   "execution_count": 9,
   "id": "8a2dc40d",
   "metadata": {
    "execution": {
     "iopub.execute_input": "2021-09-01T17:54:16.372686Z",
     "iopub.status.busy": "2021-09-01T17:54:16.371906Z",
     "iopub.status.idle": "2021-09-01T17:54:16.380233Z",
     "shell.execute_reply": "2021-09-01T17:54:16.379723Z",
     "shell.execute_reply.started": "2021-08-30T05:18:18.329497Z"
    },
    "papermill": {
     "duration": 0.032349,
     "end_time": "2021-09-01T17:54:16.380344",
     "exception": false,
     "start_time": "2021-09-01T17:54:16.347995",
     "status": "completed"
    },
    "tags": []
   },
   "outputs": [],
   "source": [
    "import torchvision\n",
    "from torchvision import transforms\n",
    "\n",
    "dataset = torchvision.datasets.ImageFolder(root=\"./png/train\",transform=transforms.Compose([\n",
    "                                                            transforms.ToTensor(),\n",
    "                                                            transforms.Resize([224,224]),\n",
    "                                                            ]))"
   ]
  },
  {
   "cell_type": "code",
   "execution_count": 10,
   "id": "402bfb35",
   "metadata": {
    "execution": {
     "iopub.execute_input": "2021-09-01T17:54:16.424067Z",
     "iopub.status.busy": "2021-09-01T17:54:16.423491Z",
     "iopub.status.idle": "2021-09-01T17:54:16.428916Z",
     "shell.execute_reply": "2021-09-01T17:54:16.428377Z",
     "shell.execute_reply.started": "2021-08-30T05:18:18.344691Z"
    },
    "papermill": {
     "duration": 0.028816,
     "end_time": "2021-09-01T17:54:16.429050",
     "exception": false,
     "start_time": "2021-09-01T17:54:16.400234",
     "status": "completed"
    },
    "tags": []
   },
   "outputs": [
    {
     "name": "stdout",
     "output_type": "stream",
     "text": [
      "921\n"
     ]
    }
   ],
   "source": [
    "print(len(dataset))\n",
    "trainloader=torch.utils.data.DataLoader(dataset,batch_size=batch_size,shuffle=True,generator=torch.Generator().manual_seed(42))"
   ]
  },
  {
   "cell_type": "code",
   "execution_count": 11,
   "id": "2b651cda",
   "metadata": {
    "execution": {
     "iopub.execute_input": "2021-09-01T17:54:16.474521Z",
     "iopub.status.busy": "2021-09-01T17:54:16.473932Z",
     "iopub.status.idle": "2021-09-01T17:54:16.564842Z",
     "shell.execute_reply": "2021-09-01T17:54:16.564415Z",
     "shell.execute_reply.started": "2021-08-30T05:18:18.352431Z"
    },
    "papermill": {
     "duration": 0.115849,
     "end_time": "2021-09-01T17:54:16.564959",
     "exception": false,
     "start_time": "2021-09-01T17:54:16.449110",
     "status": "completed"
    },
    "tags": []
   },
   "outputs": [],
   "source": [
    "dataiter=iter(trainloader)\n",
    "images,labels=dataiter.next()"
   ]
  },
  {
   "cell_type": "code",
   "execution_count": 12,
   "id": "df7222f7",
   "metadata": {
    "execution": {
     "iopub.execute_input": "2021-09-01T17:54:16.614209Z",
     "iopub.status.busy": "2021-09-01T17:54:16.613720Z",
     "iopub.status.idle": "2021-09-01T17:54:16.617018Z",
     "shell.execute_reply": "2021-09-01T17:54:16.617402Z",
     "shell.execute_reply.started": "2021-08-30T05:24:58.80425Z"
    },
    "papermill": {
     "duration": 0.032324,
     "end_time": "2021-09-01T17:54:16.617526",
     "exception": false,
     "start_time": "2021-09-01T17:54:16.585202",
     "status": "completed"
    },
    "tags": []
   },
   "outputs": [],
   "source": [
    "class RN(nn.Module):\n",
    "    def __init__(self,learning_rate=0.001):\n",
    "        super().__init__()\n",
    "        self.learning_rate = learning_rate\n",
    "        backbone = models.resnet152(pretrained=False)\n",
    "        result = backbone.load_state_dict(torch.load(\"../input/pytorch-pretrained-models/resnet152-b121ed2d.pth\"))\n",
    "        print(result)\n",
    "        num_ftrs=backbone.fc.in_features\n",
    "        layers = list(backbone.children())[:-1]\n",
    "        self.feature_extractor = nn.Sequential(*layers)\n",
    "        fc=[]\n",
    "        fc.extend([nn.Linear(in_features=num_ftrs,out_features=512),\n",
    "           nn.ReLU(),\n",
    "           nn.Dropout(),\n",
    "           nn.Linear(in_features=512,out_features=128),\n",
    "           nn.ReLU(),\n",
    "           nn.Dropout(),\n",
    "           nn.Linear(in_features=128,out_features=1)\n",
    "          ])\n",
    "        self.classifier=nn.Sequential(*fc)\n",
    "        for param in self.feature_extractor.parameters():\n",
    "            param.requires_grad=False\n",
    "    def forward(self, x):\n",
    "        with torch.no_grad():\n",
    "            representations = self.feature_extractor(x).flatten(1)\n",
    "        x=self.classifier(representations)\n",
    "        return x;"
   ]
  },
  {
   "cell_type": "code",
   "execution_count": 13,
   "id": "4d5a1018",
   "metadata": {
    "execution": {
     "iopub.execute_input": "2021-09-01T17:54:16.667012Z",
     "iopub.status.busy": "2021-09-01T17:54:16.666358Z",
     "iopub.status.idle": "2021-09-01T17:54:24.703204Z",
     "shell.execute_reply": "2021-09-01T17:54:24.702756Z",
     "shell.execute_reply.started": "2021-08-30T05:25:09.805185Z"
    },
    "papermill": {
     "duration": 8.065898,
     "end_time": "2021-09-01T17:54:24.703344",
     "exception": false,
     "start_time": "2021-09-01T17:54:16.637446",
     "status": "completed"
    },
    "tags": []
   },
   "outputs": [
    {
     "name": "stdout",
     "output_type": "stream",
     "text": [
      "<All keys matched successfully>\n"
     ]
    }
   ],
   "source": [
    "rn=RN().to(device)"
   ]
  },
  {
   "cell_type": "code",
   "execution_count": 14,
   "id": "bfec6c55",
   "metadata": {
    "execution": {
     "iopub.execute_input": "2021-09-01T17:54:24.753922Z",
     "iopub.status.busy": "2021-09-01T17:54:24.752695Z",
     "iopub.status.idle": "2021-09-01T17:54:24.754985Z",
     "shell.execute_reply": "2021-09-01T17:54:24.755402Z",
     "shell.execute_reply.started": "2021-08-30T05:25:23.152121Z"
    },
    "papermill": {
     "duration": 0.031721,
     "end_time": "2021-09-01T17:54:24.755521",
     "exception": false,
     "start_time": "2021-09-01T17:54:24.723800",
     "status": "completed"
    },
    "tags": []
   },
   "outputs": [],
   "source": [
    "def train(net,dataloader,epochs=15):\n",
    "    loss_fn=nn.BCEWithLogitsLoss().to(device)\n",
    "    running_loss = 0.0\n",
    "    opt=optim.Adam(params=net.parameters())\n",
    "    for epoch in range(epochs):\n",
    "        print(f'Running Epoch: {epoch+1}')\n",
    "        for i,data in enumerate(dataloader,0):\n",
    "            inputs,labels=data\n",
    "            inputs,labels=inputs.to(device),labels.to(device)\n",
    "            opt.zero_grad()\n",
    "            outputs=net(inputs)\n",
    "            labels=labels.unsqueeze(-1)\n",
    "            labels = labels.type_as(outputs)\n",
    "    #         print(outputs)\n",
    "            loss=loss_fn(outputs,labels)\n",
    "            loss.backward()\n",
    "            opt.step()\n",
    "            running_loss += loss.item()\n",
    "            if i % 200 == 199:    # print every 2000 mini-batches\n",
    "                print('[%d, %5d] loss: %.3f' %\n",
    "                    (epoch + 1, i + 1, running_loss / 200))\n",
    "                running_loss = 0.0\n",
    "            torch.cuda.empty_cache()\n",
    "            del inputs,labels,outputs\n",
    "    print('Finished Training')"
   ]
  },
  {
   "cell_type": "code",
   "execution_count": 15,
   "id": "cf8dd668",
   "metadata": {
    "execution": {
     "iopub.execute_input": "2021-09-01T17:54:24.803854Z",
     "iopub.status.busy": "2021-09-01T17:54:24.803168Z",
     "iopub.status.idle": "2021-09-01T17:54:24.808083Z",
     "shell.execute_reply": "2021-09-01T17:54:24.807511Z",
     "shell.execute_reply.started": "2021-08-30T05:25:31.108381Z"
    },
    "papermill": {
     "duration": 0.032579,
     "end_time": "2021-09-01T17:54:24.808250",
     "exception": false,
     "start_time": "2021-09-01T17:54:24.775671",
     "status": "completed"
    },
    "tags": []
   },
   "outputs": [
    {
     "name": "stdout",
     "output_type": "stream",
     "text": [
      "torch.Size([512, 2048])\n",
      "torch.Size([512])\n",
      "torch.Size([128, 512])\n",
      "torch.Size([128])\n",
      "torch.Size([1, 128])\n",
      "torch.Size([1])\n"
     ]
    }
   ],
   "source": [
    "for param in rn.parameters():\n",
    "    if param.requires_grad:\n",
    "        print(param.shape)"
   ]
  },
  {
   "cell_type": "code",
   "execution_count": 16,
   "id": "1eb5fd2e",
   "metadata": {
    "execution": {
     "iopub.execute_input": "2021-09-01T17:54:24.859848Z",
     "iopub.status.busy": "2021-09-01T17:54:24.859087Z",
     "iopub.status.idle": "2021-09-01T18:00:31.836154Z",
     "shell.execute_reply": "2021-09-01T18:00:31.835412Z",
     "shell.execute_reply.started": "2021-08-30T05:25:40.45304Z"
    },
    "papermill": {
     "duration": 367.007202,
     "end_time": "2021-09-01T18:00:31.836306",
     "exception": false,
     "start_time": "2021-09-01T17:54:24.829104",
     "status": "completed"
    },
    "tags": []
   },
   "outputs": [
    {
     "name": "stdout",
     "output_type": "stream",
     "text": [
      "Running Epoch: 1\n",
      "[1,   200] loss: 0.754\n",
      "Running Epoch: 2\n",
      "[2,   200] loss: 0.788\n",
      "Running Epoch: 3\n",
      "[3,   200] loss: 0.767\n",
      "Running Epoch: 4\n",
      "[4,   200] loss: 0.761\n",
      "Running Epoch: 5\n",
      "[5,   200] loss: 0.728\n",
      "Running Epoch: 6\n",
      "[6,   200] loss: 0.688\n",
      "Running Epoch: 7\n",
      "[7,   200] loss: 0.741\n",
      "Running Epoch: 8\n",
      "[8,   200] loss: 0.695\n",
      "Running Epoch: 9\n",
      "[9,   200] loss: 0.711\n",
      "Running Epoch: 10\n",
      "[10,   200] loss: 0.655\n",
      "Running Epoch: 11\n",
      "[11,   200] loss: 0.666\n",
      "Running Epoch: 12\n",
      "[12,   200] loss: 0.635\n",
      "Running Epoch: 13\n",
      "[13,   200] loss: 0.644\n",
      "Running Epoch: 14\n",
      "[14,   200] loss: 0.676\n",
      "Running Epoch: 15\n",
      "[15,   200] loss: 0.630\n",
      "Running Epoch: 16\n",
      "[16,   200] loss: 0.606\n",
      "Running Epoch: 17\n",
      "[17,   200] loss: 0.632\n",
      "Running Epoch: 18\n",
      "[18,   200] loss: 0.635\n",
      "Running Epoch: 19\n",
      "[19,   200] loss: 0.636\n",
      "Running Epoch: 20\n",
      "[20,   200] loss: 0.624\n",
      "Finished Training\n"
     ]
    }
   ],
   "source": [
    "train(rn,trainloader,20)"
   ]
  },
  {
   "cell_type": "code",
   "execution_count": 17,
   "id": "afdeb0af",
   "metadata": {
    "execution": {
     "iopub.execute_input": "2021-09-01T18:00:31.911802Z",
     "iopub.status.busy": "2021-09-01T18:00:31.909963Z",
     "iopub.status.idle": "2021-09-01T18:00:31.912729Z",
     "shell.execute_reply": "2021-09-01T18:00:31.913163Z",
     "shell.execute_reply.started": "2021-08-30T05:32:22.0413Z"
    },
    "papermill": {
     "duration": 0.044602,
     "end_time": "2021-09-01T18:00:31.913310",
     "exception": false,
     "start_time": "2021-09-01T18:00:31.868708",
     "status": "completed"
    },
    "tags": []
   },
   "outputs": [],
   "source": [
    "def dicom2pngt(path,directory = png_train):\n",
    "    dcm_file = dicom.read_file(path)\n",
    "#     print(np.mean(dcm_file.pixel_array)!=0)\n",
    "    if np.max(dcm_file.pixel_array) - np.min(dcm_file.pixel_array) != 0:\n",
    "        data = apply_voi_lut(dcm_file.pixel_array, dcm_file)\n",
    "        if dcm_file.PhotometricInterpretation == \"MONOCHROME1\":\n",
    "            data = np.amax(data) - data\n",
    "        data = data - np.min(data)\n",
    "        data = data / (np.max(data) - np.min(data))\n",
    "        data = (data * 255).astype(np.uint8)\n",
    "        im = Image.fromarray(data)\n",
    "        to_dir = os.path.abspath(directory)\n",
    "        head,tail = os.path.split(path)\n",
    "        file_name = tail\n",
    "        ls = []\n",
    "        head,tail = os.path.split(head)\n",
    "        ls.append(tail)\n",
    "        head,tail = os.path.split(head)\n",
    "        ls.append(tail)\n",
    "        ls.reverse()\n",
    "        for loc in ls:\n",
    "            to_dir = os.path.join(to_dir,loc)\n",
    "        os.makedirs(to_dir, exist_ok = True)\n",
    "        file_name = os.path.splitext(file_name)[0]\n",
    "        file_name += '.png'\n",
    "        to_dir = os.path.join(to_dir,file_name)\n",
    "        im.save(to_dir)"
   ]
  },
  {
   "cell_type": "code",
   "execution_count": 18,
   "id": "0ce05f92",
   "metadata": {
    "execution": {
     "iopub.execute_input": "2021-09-01T18:00:31.983964Z",
     "iopub.status.busy": "2021-09-01T18:00:31.982763Z",
     "iopub.status.idle": "2021-09-01T18:00:31.985400Z",
     "shell.execute_reply": "2021-09-01T18:00:31.984992Z",
     "shell.execute_reply.started": "2021-08-30T05:32:22.052738Z"
    },
    "papermill": {
     "duration": 0.039975,
     "end_time": "2021-09-01T18:00:31.985508",
     "exception": false,
     "start_time": "2021-09-01T18:00:31.945533",
     "status": "completed"
    },
    "tags": []
   },
   "outputs": [],
   "source": [
    "def predict(dataloader,model):\n",
    "    y = []\n",
    "    model.eval()\n",
    "    for data in dataloader:\n",
    "        inputs,labels=data\n",
    "        inputs,labels=inputs.to(device),labels.to(device)\n",
    "        outputs=model(inputs)\n",
    "        m = nn.Sigmoid()\n",
    "        outputs=m(outputs)\n",
    "        outputs = outputs.flatten()\n",
    "        for o in outputs:\n",
    "            y.append(o.item())\n",
    "    model.train()\n",
    "    print(len(y))\n",
    "    y_pred = sum(y)/len(y)\n",
    "#     print(y_pred)\n",
    "    return y_pred"
   ]
  },
  {
   "cell_type": "code",
   "execution_count": 19,
   "id": "32582eba",
   "metadata": {
    "execution": {
     "iopub.execute_input": "2021-09-01T18:00:32.073998Z",
     "iopub.status.busy": "2021-09-01T18:00:32.073099Z",
     "iopub.status.idle": "2021-09-01T18:03:44.321968Z",
     "shell.execute_reply": "2021-09-01T18:03:44.321099Z",
     "shell.execute_reply.started": "2021-08-30T05:32:22.066232Z"
    },
    "papermill": {
     "duration": 192.305815,
     "end_time": "2021-09-01T18:03:44.322102",
     "exception": false,
     "start_time": "2021-09-01T18:00:32.016287",
     "status": "completed"
    },
    "tags": []
   },
   "outputs": [
    {
     "data": {
      "application/vnd.jupyter.widget-view+json": {
       "model_id": "b54576d71f944422944d87edeac9b410",
       "version_major": 2,
       "version_minor": 0
      },
      "text/plain": [
       "  0%|          | 0/87 [00:00<?, ?it/s]"
      ]
     },
     "metadata": {},
     "output_type": "display_data"
    }
   ],
   "source": [
    "for patient in tqdm(test_patients):\n",
    "#     print(f'patient: {patient}')\n",
    "    path = os.path.join(test_dir, patient,'T2w')\n",
    "    for dcm_file in os.listdir(path):\n",
    "        file_path = os.path.join(path,dcm_file)\n",
    "        dicom2pngt(file_path, directory = png_test)"
   ]
  },
  {
   "cell_type": "code",
   "execution_count": 20,
   "id": "cdaa5ec9",
   "metadata": {
    "execution": {
     "iopub.execute_input": "2021-09-01T18:03:44.395989Z",
     "iopub.status.busy": "2021-09-01T18:03:44.395202Z",
     "iopub.status.idle": "2021-09-01T18:06:25.001131Z",
     "shell.execute_reply": "2021-09-01T18:06:25.001563Z",
     "shell.execute_reply.started": "2021-08-30T05:35:14.250441Z"
    },
    "papermill": {
     "duration": 160.642745,
     "end_time": "2021-09-01T18:06:25.001745",
     "exception": false,
     "start_time": "2021-09-01T18:03:44.359000",
     "status": "completed"
    },
    "tags": []
   },
   "outputs": [
    {
     "name": "stdout",
     "output_type": "stream",
     "text": [
      "19\n",
      "295\n",
      "25\n",
      "279\n",
      "265\n",
      "123\n",
      "29\n",
      "268\n",
      "49\n",
      "45\n",
      "47\n",
      "47\n",
      "20\n",
      "28\n",
      "263\n",
      "275\n",
      "46\n",
      "48\n",
      "45\n",
      "273\n",
      "48\n",
      "29\n",
      "82\n",
      "280\n",
      "47\n",
      "26\n",
      "47\n",
      "286\n",
      "67\n",
      "118\n",
      "73\n",
      "128\n",
      "297\n",
      "287\n",
      "46\n",
      "49\n",
      "29\n",
      "24\n",
      "69\n",
      "151\n",
      "276\n",
      "275\n",
      "67\n",
      "23\n",
      "269\n",
      "266\n",
      "276\n",
      "71\n",
      "32\n",
      "252\n",
      "69\n",
      "48\n",
      "48\n",
      "127\n",
      "21\n",
      "48\n",
      "68\n",
      "84\n",
      "50\n",
      "26\n",
      "47\n",
      "28\n",
      "283\n",
      "75\n",
      "261\n",
      "21\n",
      "127\n",
      "25\n",
      "46\n",
      "283\n",
      "30\n",
      "50\n",
      "286\n",
      "48\n",
      "24\n",
      "162\n",
      "70\n",
      "271\n",
      "47\n",
      "48\n",
      "50\n",
      "24\n",
      "121\n",
      "49\n",
      "23\n",
      "268\n",
      "29\n"
     ]
    }
   ],
   "source": [
    "y_pred = defaultdict(dict)\n",
    "for patient in test_patients:\n",
    "    path = os.path.join(png_test, patient)\n",
    "#     print(path)\n",
    "    dataset = torchvision.datasets.ImageFolder(root=path,transform=transforms.Compose([transforms.ToTensor(),transforms.Resize([224,224]),]))\n",
    "    testloader=torch.utils.data.DataLoader(dataset,batch_size=batch_size,shuffle=False)\n",
    "\n",
    "    y_pred[patient] = predict(testloader,rn)\n",
    "    \n"
   ]
  },
  {
   "cell_type": "code",
   "execution_count": 21,
   "id": "090c4d6d",
   "metadata": {
    "execution": {
     "iopub.execute_input": "2021-09-01T18:06:25.118938Z",
     "iopub.status.busy": "2021-09-01T18:06:25.118050Z",
     "iopub.status.idle": "2021-09-01T18:06:25.126848Z",
     "shell.execute_reply": "2021-09-01T18:06:25.126388Z",
     "shell.execute_reply.started": "2021-08-30T05:37:22.794087Z"
    },
    "papermill": {
     "duration": 0.071519,
     "end_time": "2021-09-01T18:06:25.126964",
     "exception": false,
     "start_time": "2021-09-01T18:06:25.055445",
     "status": "completed"
    },
    "tags": []
   },
   "outputs": [],
   "source": [
    "submission = pd.DataFrame({\"BraTS21ID\":y_pred.keys(),\"MGMT_value\":y_pred.values()})\n",
    "submission.to_csv('submission.csv', index=False)"
   ]
  },
  {
   "cell_type": "code",
   "execution_count": 22,
   "id": "6d765d04",
   "metadata": {
    "execution": {
     "iopub.execute_input": "2021-09-01T18:06:25.240540Z",
     "iopub.status.busy": "2021-09-01T18:06:25.239876Z",
     "iopub.status.idle": "2021-09-01T18:06:25.243007Z",
     "shell.execute_reply": "2021-09-01T18:06:25.243433Z",
     "shell.execute_reply.started": "2021-08-30T05:37:22.806536Z"
    },
    "papermill": {
     "duration": 0.063318,
     "end_time": "2021-09-01T18:06:25.243570",
     "exception": false,
     "start_time": "2021-09-01T18:06:25.180252",
     "status": "completed"
    },
    "tags": []
   },
   "outputs": [
    {
     "name": "stdout",
     "output_type": "stream",
     "text": [
      "defaultdict(<class 'dict'>, {'00114': 0.6623851311834235, '00013': 0.4362183936571671, '00821': 0.5403999698162079, '00644': 0.5518885862656392, '00699': 0.4426711251994349, '00125': 0.5238539806710996, '00833': 0.5223010881193753, '00762': 0.47022822749481274, '00393': 0.7003012129238674, '00287': 0.6004435704814063, '00434': 0.604365441710391, '00337': 0.6359957513657022, '00145': 0.7380508154630661, '00307': 0.6595600258026805, '00489': 0.47046301683885516, '00749': 0.49304012740200215, '00163': 0.6420379433295001, '00384': 0.5987941678613424, '00438': 0.7773723800977071, '00047': 0.35654458747460294, '00323': 0.5248368446094295, '00428': 0.7077952088980839, '00462': 0.39944439186010416, '00560': 0.5096649721264839, '00422': 0.6917218255235794, '00825': 0.6327748287182587, '00335': 0.6747061001493576, '00082': 0.4212561526524645, '00458': 0.665764837567486, '01006': 0.7294832217996403, '00573': 0.6337181446078706, '00647': 0.39689819794148207, '00603': 0.5197710485169382, '00712': 0.5752639325549793, '00181': 0.6156944337746372, '00200': 0.582082928747547, '00129': 0.7551725907572384, '00829': 0.7041392338772615, '00535': 0.41718852941108786, '00721': 0.48417831533002537, '00037': 0.32206265720120375, '00015': 0.4183669178052382, '00463': 0.40142995775190754, '00447': 0.5934890884420146, '00662': 0.5214355784610302, '00492': 0.5213385124067614, '00702': 0.4278158514449994, '00027': 0.44907785952091217, '00381': 0.5714753153733909, '00681': 0.3347916291908376, '00592': 0.567644568025202, '00208': 0.639470785856247, '00213': 0.7812699067095915, '00521': 0.3317759993273442, '00585': 0.6854865494228545, '00355': 0.522375020198524, '00001': 0.37536162017461133, '00091': 0.3829797177265088, '00190': 0.7490611225366592, '00826': 0.7742302394830264, '00229': 0.5210676259816961, '00135': 0.6392433366605214, '00719': 0.31520654409860555, '00553': 0.434561344285806, '00769': 0.5400010172092138, '00460': 0.5593844027746291, '00503': 0.34608105998339617, '00822': 0.5798294180631638, '00372': 0.6556308502736299, '00779': 0.587768855554055, '00997': 0.6729682311415672, '00333': 0.6323410651087761, '00079': 0.4234080489698824, '00256': 0.6519577574605743, '00450': 0.7117108752330145, '00467': 0.44523899579121745, '00595': 0.6677335594381605, '00671': 0.4086423518198003, '00252': 0.5705077017241336, '00153': 0.6019751351947585, '00161': 0.5970695620775223, '00264': 0.6016372988621393, '00474': 0.3334976415003627, '00174': 0.6282258632839942, '00119': 0.6284042441326639, '00080': 0.34258853072828765, '00182': 0.5670229502279183})\n"
     ]
    }
   ],
   "source": [
    "print(y_pred)"
   ]
  },
  {
   "cell_type": "code",
   "execution_count": 23,
   "id": "76907853",
   "metadata": {
    "execution": {
     "iopub.execute_input": "2021-09-01T18:06:25.360352Z",
     "iopub.status.busy": "2021-09-01T18:06:25.359614Z",
     "iopub.status.idle": "2021-09-01T18:06:25.374133Z",
     "shell.execute_reply": "2021-09-01T18:06:25.374613Z",
     "shell.execute_reply.started": "2021-08-30T05:37:44.336625Z"
    },
    "papermill": {
     "duration": 0.077842,
     "end_time": "2021-09-01T18:06:25.374766",
     "exception": false,
     "start_time": "2021-09-01T18:06:25.296924",
     "status": "completed"
    },
    "tags": []
   },
   "outputs": [
    {
     "data": {
      "text/html": [
       "<div>\n",
       "<style scoped>\n",
       "    .dataframe tbody tr th:only-of-type {\n",
       "        vertical-align: middle;\n",
       "    }\n",
       "\n",
       "    .dataframe tbody tr th {\n",
       "        vertical-align: top;\n",
       "    }\n",
       "\n",
       "    .dataframe thead th {\n",
       "        text-align: right;\n",
       "    }\n",
       "</style>\n",
       "<table border=\"1\" class=\"dataframe\">\n",
       "  <thead>\n",
       "    <tr style=\"text-align: right;\">\n",
       "      <th></th>\n",
       "      <th>BraTS21ID</th>\n",
       "      <th>MGMT_value</th>\n",
       "    </tr>\n",
       "  </thead>\n",
       "  <tbody>\n",
       "    <tr>\n",
       "      <th>0</th>\n",
       "      <td>00114</td>\n",
       "      <td>0.662385</td>\n",
       "    </tr>\n",
       "    <tr>\n",
       "      <th>1</th>\n",
       "      <td>00013</td>\n",
       "      <td>0.436218</td>\n",
       "    </tr>\n",
       "    <tr>\n",
       "      <th>2</th>\n",
       "      <td>00821</td>\n",
       "      <td>0.540400</td>\n",
       "    </tr>\n",
       "    <tr>\n",
       "      <th>3</th>\n",
       "      <td>00644</td>\n",
       "      <td>0.551889</td>\n",
       "    </tr>\n",
       "    <tr>\n",
       "      <th>4</th>\n",
       "      <td>00699</td>\n",
       "      <td>0.442671</td>\n",
       "    </tr>\n",
       "    <tr>\n",
       "      <th>...</th>\n",
       "      <td>...</td>\n",
       "      <td>...</td>\n",
       "    </tr>\n",
       "    <tr>\n",
       "      <th>82</th>\n",
       "      <td>00474</td>\n",
       "      <td>0.333498</td>\n",
       "    </tr>\n",
       "    <tr>\n",
       "      <th>83</th>\n",
       "      <td>00174</td>\n",
       "      <td>0.628226</td>\n",
       "    </tr>\n",
       "    <tr>\n",
       "      <th>84</th>\n",
       "      <td>00119</td>\n",
       "      <td>0.628404</td>\n",
       "    </tr>\n",
       "    <tr>\n",
       "      <th>85</th>\n",
       "      <td>00080</td>\n",
       "      <td>0.342589</td>\n",
       "    </tr>\n",
       "    <tr>\n",
       "      <th>86</th>\n",
       "      <td>00182</td>\n",
       "      <td>0.567023</td>\n",
       "    </tr>\n",
       "  </tbody>\n",
       "</table>\n",
       "<p>87 rows × 2 columns</p>\n",
       "</div>"
      ],
      "text/plain": [
       "   BraTS21ID  MGMT_value\n",
       "0      00114    0.662385\n",
       "1      00013    0.436218\n",
       "2      00821    0.540400\n",
       "3      00644    0.551889\n",
       "4      00699    0.442671\n",
       "..       ...         ...\n",
       "82     00474    0.333498\n",
       "83     00174    0.628226\n",
       "84     00119    0.628404\n",
       "85     00080    0.342589\n",
       "86     00182    0.567023\n",
       "\n",
       "[87 rows x 2 columns]"
      ]
     },
     "execution_count": 23,
     "metadata": {},
     "output_type": "execute_result"
    }
   ],
   "source": [
    "submission"
   ]
  },
  {
   "cell_type": "code",
   "execution_count": 24,
   "id": "e547d890",
   "metadata": {
    "execution": {
     "iopub.execute_input": "2021-09-01T18:06:25.490191Z",
     "iopub.status.busy": "2021-09-01T18:06:25.489478Z",
     "iopub.status.idle": "2021-09-01T18:06:25.491875Z",
     "shell.execute_reply": "2021-09-01T18:06:25.492288Z",
     "shell.execute_reply.started": "2021-08-30T05:37:52.905543Z"
    },
    "papermill": {
     "duration": 0.061873,
     "end_time": "2021-09-01T18:06:25.492423",
     "exception": false,
     "start_time": "2021-09-01T18:06:25.430550",
     "status": "completed"
    },
    "tags": []
   },
   "outputs": [],
   "source": [
    "import csv\n",
    "with open(\"submission.csv\", \"w\") as outfile:\n",
    "    writer = csv.writer(outfile)\n",
    "    writer.writerow([\"BraTS21ID\",\"MGMT_value\"])\n",
    "    for key, value in y_pred.items():\n",
    "        writer.writerow([key, value])"
   ]
  },
  {
   "cell_type": "code",
   "execution_count": 25,
   "id": "0d30b2d6",
   "metadata": {
    "execution": {
     "iopub.execute_input": "2021-09-01T18:06:25.604825Z",
     "iopub.status.busy": "2021-09-01T18:06:25.604323Z",
     "iopub.status.idle": "2021-09-01T18:06:26.644645Z",
     "shell.execute_reply": "2021-09-01T18:06:26.643473Z",
     "shell.execute_reply.started": "2021-08-30T05:37:58.98861Z"
    },
    "papermill": {
     "duration": 1.097716,
     "end_time": "2021-09-01T18:06:26.644831",
     "exception": false,
     "start_time": "2021-09-01T18:06:25.547115",
     "status": "completed"
    },
    "tags": []
   },
   "outputs": [],
   "source": [
    "!rm -rf ./png"
   ]
  },
  {
   "cell_type": "code",
   "execution_count": 26,
   "id": "df9d9cff",
   "metadata": {
    "execution": {
     "iopub.execute_input": "2021-09-01T18:06:26.833560Z",
     "iopub.status.busy": "2021-09-01T18:06:26.816929Z",
     "iopub.status.idle": "2021-09-01T18:06:27.488386Z",
     "shell.execute_reply": "2021-09-01T18:06:27.487898Z",
     "shell.execute_reply.started": "2021-08-30T05:38:06.581344Z"
    },
    "papermill": {
     "duration": 0.747184,
     "end_time": "2021-09-01T18:06:27.488524",
     "exception": false,
     "start_time": "2021-09-01T18:06:26.741340",
     "status": "completed"
    },
    "tags": []
   },
   "outputs": [
    {
     "name": "stdout",
     "output_type": "stream",
     "text": [
      "__notebook__.ipynb  submission.csv\r\n"
     ]
    }
   ],
   "source": [
    "!ls"
   ]
  },
  {
   "cell_type": "code",
   "execution_count": null,
   "id": "6b8c1c12",
   "metadata": {
    "papermill": {
     "duration": 0.054075,
     "end_time": "2021-09-01T18:06:27.597030",
     "exception": false,
     "start_time": "2021-09-01T18:06:27.542955",
     "status": "completed"
    },
    "tags": []
   },
   "outputs": [],
   "source": []
  }
 ],
 "metadata": {
  "kernelspec": {
   "display_name": "Python 3",
   "language": "python",
   "name": "python3"
  },
  "language_info": {
   "codemirror_mode": {
    "name": "ipython",
    "version": 3
   },
   "file_extension": ".py",
   "mimetype": "text/x-python",
   "name": "python",
   "nbconvert_exporter": "python",
   "pygments_lexer": "ipython3",
   "version": "3.7.10"
  },
  "papermill": {
   "default_parameters": {},
   "duration": 2168.222914,
   "end_time": "2021-09-01T18:06:29.598152",
   "environment_variables": {},
   "exception": null,
   "input_path": "__notebook__.ipynb",
   "output_path": "__notebook__.ipynb",
   "parameters": {},
   "start_time": "2021-09-01T17:30:21.375238",
   "version": "2.3.3"
  },
  "widgets": {
   "application/vnd.jupyter.widget-state+json": {
    "state": {
     "0de7aac50e304ee7bf22ff2b74de0b35": {
      "model_module": "@jupyter-widgets/base",
      "model_module_version": "1.2.0",
      "model_name": "LayoutModel",
      "state": {
       "_model_module": "@jupyter-widgets/base",
       "_model_module_version": "1.2.0",
       "_model_name": "LayoutModel",
       "_view_count": null,
       "_view_module": "@jupyter-widgets/base",
       "_view_module_version": "1.2.0",
       "_view_name": "LayoutView",
       "align_content": null,
       "align_items": null,
       "align_self": null,
       "border": null,
       "bottom": null,
       "display": null,
       "flex": null,
       "flex_flow": null,
       "grid_area": null,
       "grid_auto_columns": null,
       "grid_auto_flow": null,
       "grid_auto_rows": null,
       "grid_column": null,
       "grid_gap": null,
       "grid_row": null,
       "grid_template_areas": null,
       "grid_template_columns": null,
       "grid_template_rows": null,
       "height": null,
       "justify_content": null,
       "justify_items": null,
       "left": null,
       "margin": null,
       "max_height": null,
       "max_width": null,
       "min_height": null,
       "min_width": null,
       "object_fit": null,
       "object_position": null,
       "order": null,
       "overflow": null,
       "overflow_x": null,
       "overflow_y": null,
       "padding": null,
       "right": null,
       "top": null,
       "visibility": null,
       "width": null
      }
     },
     "0e9d73b39d014c4aa23e0302311c17a0": {
      "model_module": "@jupyter-widgets/controls",
      "model_module_version": "1.5.0",
      "model_name": "FloatProgressModel",
      "state": {
       "_dom_classes": [],
       "_model_module": "@jupyter-widgets/controls",
       "_model_module_version": "1.5.0",
       "_model_name": "FloatProgressModel",
       "_view_count": null,
       "_view_module": "@jupyter-widgets/controls",
       "_view_module_version": "1.5.0",
       "_view_name": "ProgressView",
       "bar_style": "success",
       "description": "",
       "description_tooltip": null,
       "layout": "IPY_MODEL_3ff87ce1ff4947d9b2c138220b49de57",
       "max": 582.0,
       "min": 0.0,
       "orientation": "horizontal",
       "style": "IPY_MODEL_6d8131c345ba44b88a243f9abdefac12",
       "value": 582.0
      }
     },
     "177d6b6b15154ab0b2cd7ed4b6711992": {
      "model_module": "@jupyter-widgets/controls",
      "model_module_version": "1.5.0",
      "model_name": "HBoxModel",
      "state": {
       "_dom_classes": [],
       "_model_module": "@jupyter-widgets/controls",
       "_model_module_version": "1.5.0",
       "_model_name": "HBoxModel",
       "_view_count": null,
       "_view_module": "@jupyter-widgets/controls",
       "_view_module_version": "1.5.0",
       "_view_name": "HBoxView",
       "box_style": "",
       "children": [
        "IPY_MODEL_c287ee07599548bab583d0288db3d561",
        "IPY_MODEL_0e9d73b39d014c4aa23e0302311c17a0",
        "IPY_MODEL_70b9f2f290414263a0ad436c2b059ced"
       ],
       "layout": "IPY_MODEL_382e81dd618b480a88cde0f2761c7cd5"
      }
     },
     "1783efc6f3d34f63b3b8ef820fd75d15": {
      "model_module": "@jupyter-widgets/controls",
      "model_module_version": "1.5.0",
      "model_name": "HTMLModel",
      "state": {
       "_dom_classes": [],
       "_model_module": "@jupyter-widgets/controls",
       "_model_module_version": "1.5.0",
       "_model_name": "HTMLModel",
       "_view_count": null,
       "_view_module": "@jupyter-widgets/controls",
       "_view_module_version": "1.5.0",
       "_view_name": "HTMLView",
       "description": "",
       "description_tooltip": null,
       "layout": "IPY_MODEL_1a6ca956ace04d058b9cbff9003bb017",
       "placeholder": "​",
       "style": "IPY_MODEL_a6139da434634758b3cb09d7c29441ec",
       "value": "100%"
      }
     },
     "1a6ca956ace04d058b9cbff9003bb017": {
      "model_module": "@jupyter-widgets/base",
      "model_module_version": "1.2.0",
      "model_name": "LayoutModel",
      "state": {
       "_model_module": "@jupyter-widgets/base",
       "_model_module_version": "1.2.0",
       "_model_name": "LayoutModel",
       "_view_count": null,
       "_view_module": "@jupyter-widgets/base",
       "_view_module_version": "1.2.0",
       "_view_name": "LayoutView",
       "align_content": null,
       "align_items": null,
       "align_self": null,
       "border": null,
       "bottom": null,
       "display": null,
       "flex": null,
       "flex_flow": null,
       "grid_area": null,
       "grid_auto_columns": null,
       "grid_auto_flow": null,
       "grid_auto_rows": null,
       "grid_column": null,
       "grid_gap": null,
       "grid_row": null,
       "grid_template_areas": null,
       "grid_template_columns": null,
       "grid_template_rows": null,
       "height": null,
       "justify_content": null,
       "justify_items": null,
       "left": null,
       "margin": null,
       "max_height": null,
       "max_width": null,
       "min_height": null,
       "min_width": null,
       "object_fit": null,
       "object_position": null,
       "order": null,
       "overflow": null,
       "overflow_x": null,
       "overflow_y": null,
       "padding": null,
       "right": null,
       "top": null,
       "visibility": null,
       "width": null
      }
     },
     "377978e5dd3f4010a631d7ce8fe44ae0": {
      "model_module": "@jupyter-widgets/base",
      "model_module_version": "1.2.0",
      "model_name": "LayoutModel",
      "state": {
       "_model_module": "@jupyter-widgets/base",
       "_model_module_version": "1.2.0",
       "_model_name": "LayoutModel",
       "_view_count": null,
       "_view_module": "@jupyter-widgets/base",
       "_view_module_version": "1.2.0",
       "_view_name": "LayoutView",
       "align_content": null,
       "align_items": null,
       "align_self": null,
       "border": null,
       "bottom": null,
       "display": null,
       "flex": null,
       "flex_flow": null,
       "grid_area": null,
       "grid_auto_columns": null,
       "grid_auto_flow": null,
       "grid_auto_rows": null,
       "grid_column": null,
       "grid_gap": null,
       "grid_row": null,
       "grid_template_areas": null,
       "grid_template_columns": null,
       "grid_template_rows": null,
       "height": null,
       "justify_content": null,
       "justify_items": null,
       "left": null,
       "margin": null,
       "max_height": null,
       "max_width": null,
       "min_height": null,
       "min_width": null,
       "object_fit": null,
       "object_position": null,
       "order": null,
       "overflow": null,
       "overflow_x": null,
       "overflow_y": null,
       "padding": null,
       "right": null,
       "top": null,
       "visibility": null,
       "width": null
      }
     },
     "382e81dd618b480a88cde0f2761c7cd5": {
      "model_module": "@jupyter-widgets/base",
      "model_module_version": "1.2.0",
      "model_name": "LayoutModel",
      "state": {
       "_model_module": "@jupyter-widgets/base",
       "_model_module_version": "1.2.0",
       "_model_name": "LayoutModel",
       "_view_count": null,
       "_view_module": "@jupyter-widgets/base",
       "_view_module_version": "1.2.0",
       "_view_name": "LayoutView",
       "align_content": null,
       "align_items": null,
       "align_self": null,
       "border": null,
       "bottom": null,
       "display": null,
       "flex": null,
       "flex_flow": null,
       "grid_area": null,
       "grid_auto_columns": null,
       "grid_auto_flow": null,
       "grid_auto_rows": null,
       "grid_column": null,
       "grid_gap": null,
       "grid_row": null,
       "grid_template_areas": null,
       "grid_template_columns": null,
       "grid_template_rows": null,
       "height": null,
       "justify_content": null,
       "justify_items": null,
       "left": null,
       "margin": null,
       "max_height": null,
       "max_width": null,
       "min_height": null,
       "min_width": null,
       "object_fit": null,
       "object_position": null,
       "order": null,
       "overflow": null,
       "overflow_x": null,
       "overflow_y": null,
       "padding": null,
       "right": null,
       "top": null,
       "visibility": null,
       "width": null
      }
     },
     "384dd68d81494877b02a995adb2c849e": {
      "model_module": "@jupyter-widgets/base",
      "model_module_version": "1.2.0",
      "model_name": "LayoutModel",
      "state": {
       "_model_module": "@jupyter-widgets/base",
       "_model_module_version": "1.2.0",
       "_model_name": "LayoutModel",
       "_view_count": null,
       "_view_module": "@jupyter-widgets/base",
       "_view_module_version": "1.2.0",
       "_view_name": "LayoutView",
       "align_content": null,
       "align_items": null,
       "align_self": null,
       "border": null,
       "bottom": null,
       "display": null,
       "flex": null,
       "flex_flow": null,
       "grid_area": null,
       "grid_auto_columns": null,
       "grid_auto_flow": null,
       "grid_auto_rows": null,
       "grid_column": null,
       "grid_gap": null,
       "grid_row": null,
       "grid_template_areas": null,
       "grid_template_columns": null,
       "grid_template_rows": null,
       "height": null,
       "justify_content": null,
       "justify_items": null,
       "left": null,
       "margin": null,
       "max_height": null,
       "max_width": null,
       "min_height": null,
       "min_width": null,
       "object_fit": null,
       "object_position": null,
       "order": null,
       "overflow": null,
       "overflow_x": null,
       "overflow_y": null,
       "padding": null,
       "right": null,
       "top": null,
       "visibility": null,
       "width": null
      }
     },
     "3ff87ce1ff4947d9b2c138220b49de57": {
      "model_module": "@jupyter-widgets/base",
      "model_module_version": "1.2.0",
      "model_name": "LayoutModel",
      "state": {
       "_model_module": "@jupyter-widgets/base",
       "_model_module_version": "1.2.0",
       "_model_name": "LayoutModel",
       "_view_count": null,
       "_view_module": "@jupyter-widgets/base",
       "_view_module_version": "1.2.0",
       "_view_name": "LayoutView",
       "align_content": null,
       "align_items": null,
       "align_self": null,
       "border": null,
       "bottom": null,
       "display": null,
       "flex": null,
       "flex_flow": null,
       "grid_area": null,
       "grid_auto_columns": null,
       "grid_auto_flow": null,
       "grid_auto_rows": null,
       "grid_column": null,
       "grid_gap": null,
       "grid_row": null,
       "grid_template_areas": null,
       "grid_template_columns": null,
       "grid_template_rows": null,
       "height": null,
       "justify_content": null,
       "justify_items": null,
       "left": null,
       "margin": null,
       "max_height": null,
       "max_width": null,
       "min_height": null,
       "min_width": null,
       "object_fit": null,
       "object_position": null,
       "order": null,
       "overflow": null,
       "overflow_x": null,
       "overflow_y": null,
       "padding": null,
       "right": null,
       "top": null,
       "visibility": null,
       "width": null
      }
     },
     "6d8131c345ba44b88a243f9abdefac12": {
      "model_module": "@jupyter-widgets/controls",
      "model_module_version": "1.5.0",
      "model_name": "ProgressStyleModel",
      "state": {
       "_model_module": "@jupyter-widgets/controls",
       "_model_module_version": "1.5.0",
       "_model_name": "ProgressStyleModel",
       "_view_count": null,
       "_view_module": "@jupyter-widgets/base",
       "_view_module_version": "1.2.0",
       "_view_name": "StyleView",
       "bar_color": null,
       "description_width": ""
      }
     },
     "70b9f2f290414263a0ad436c2b059ced": {
      "model_module": "@jupyter-widgets/controls",
      "model_module_version": "1.5.0",
      "model_name": "HTMLModel",
      "state": {
       "_dom_classes": [],
       "_model_module": "@jupyter-widgets/controls",
       "_model_module_version": "1.5.0",
       "_model_name": "HTMLModel",
       "_view_count": null,
       "_view_module": "@jupyter-widgets/controls",
       "_view_module_version": "1.5.0",
       "_view_name": "HTMLView",
       "description": "",
       "description_tooltip": null,
       "layout": "IPY_MODEL_aaf07fc1ee524d79a8c1630c1312a8b6",
       "placeholder": "​",
       "style": "IPY_MODEL_d77f12a49c854531b8bb926813440666",
       "value": " 582/582 [23:43&lt;00:00,  2.33it/s]"
      }
     },
     "81159ff47ea2455c97e3207054cab781": {
      "model_module": "@jupyter-widgets/controls",
      "model_module_version": "1.5.0",
      "model_name": "DescriptionStyleModel",
      "state": {
       "_model_module": "@jupyter-widgets/controls",
       "_model_module_version": "1.5.0",
       "_model_name": "DescriptionStyleModel",
       "_view_count": null,
       "_view_module": "@jupyter-widgets/base",
       "_view_module_version": "1.2.0",
       "_view_name": "StyleView",
       "description_width": ""
      }
     },
     "a6139da434634758b3cb09d7c29441ec": {
      "model_module": "@jupyter-widgets/controls",
      "model_module_version": "1.5.0",
      "model_name": "DescriptionStyleModel",
      "state": {
       "_model_module": "@jupyter-widgets/controls",
       "_model_module_version": "1.5.0",
       "_model_name": "DescriptionStyleModel",
       "_view_count": null,
       "_view_module": "@jupyter-widgets/base",
       "_view_module_version": "1.2.0",
       "_view_name": "StyleView",
       "description_width": ""
      }
     },
     "a797448b88ab44b1ae530eb720acff52": {
      "model_module": "@jupyter-widgets/base",
      "model_module_version": "1.2.0",
      "model_name": "LayoutModel",
      "state": {
       "_model_module": "@jupyter-widgets/base",
       "_model_module_version": "1.2.0",
       "_model_name": "LayoutModel",
       "_view_count": null,
       "_view_module": "@jupyter-widgets/base",
       "_view_module_version": "1.2.0",
       "_view_name": "LayoutView",
       "align_content": null,
       "align_items": null,
       "align_self": null,
       "border": null,
       "bottom": null,
       "display": null,
       "flex": null,
       "flex_flow": null,
       "grid_area": null,
       "grid_auto_columns": null,
       "grid_auto_flow": null,
       "grid_auto_rows": null,
       "grid_column": null,
       "grid_gap": null,
       "grid_row": null,
       "grid_template_areas": null,
       "grid_template_columns": null,
       "grid_template_rows": null,
       "height": null,
       "justify_content": null,
       "justify_items": null,
       "left": null,
       "margin": null,
       "max_height": null,
       "max_width": null,
       "min_height": null,
       "min_width": null,
       "object_fit": null,
       "object_position": null,
       "order": null,
       "overflow": null,
       "overflow_x": null,
       "overflow_y": null,
       "padding": null,
       "right": null,
       "top": null,
       "visibility": null,
       "width": null
      }
     },
     "aaf07fc1ee524d79a8c1630c1312a8b6": {
      "model_module": "@jupyter-widgets/base",
      "model_module_version": "1.2.0",
      "model_name": "LayoutModel",
      "state": {
       "_model_module": "@jupyter-widgets/base",
       "_model_module_version": "1.2.0",
       "_model_name": "LayoutModel",
       "_view_count": null,
       "_view_module": "@jupyter-widgets/base",
       "_view_module_version": "1.2.0",
       "_view_name": "LayoutView",
       "align_content": null,
       "align_items": null,
       "align_self": null,
       "border": null,
       "bottom": null,
       "display": null,
       "flex": null,
       "flex_flow": null,
       "grid_area": null,
       "grid_auto_columns": null,
       "grid_auto_flow": null,
       "grid_auto_rows": null,
       "grid_column": null,
       "grid_gap": null,
       "grid_row": null,
       "grid_template_areas": null,
       "grid_template_columns": null,
       "grid_template_rows": null,
       "height": null,
       "justify_content": null,
       "justify_items": null,
       "left": null,
       "margin": null,
       "max_height": null,
       "max_width": null,
       "min_height": null,
       "min_width": null,
       "object_fit": null,
       "object_position": null,
       "order": null,
       "overflow": null,
       "overflow_x": null,
       "overflow_y": null,
       "padding": null,
       "right": null,
       "top": null,
       "visibility": null,
       "width": null
      }
     },
     "b54576d71f944422944d87edeac9b410": {
      "model_module": "@jupyter-widgets/controls",
      "model_module_version": "1.5.0",
      "model_name": "HBoxModel",
      "state": {
       "_dom_classes": [],
       "_model_module": "@jupyter-widgets/controls",
       "_model_module_version": "1.5.0",
       "_model_name": "HBoxModel",
       "_view_count": null,
       "_view_module": "@jupyter-widgets/controls",
       "_view_module_version": "1.5.0",
       "_view_name": "HBoxView",
       "box_style": "",
       "children": [
        "IPY_MODEL_1783efc6f3d34f63b3b8ef820fd75d15",
        "IPY_MODEL_fbbf52e823744564bb3077369f5bf622",
        "IPY_MODEL_b64711befe4e48d0ab84d080f858f31b"
       ],
       "layout": "IPY_MODEL_377978e5dd3f4010a631d7ce8fe44ae0"
      }
     },
     "b64711befe4e48d0ab84d080f858f31b": {
      "model_module": "@jupyter-widgets/controls",
      "model_module_version": "1.5.0",
      "model_name": "HTMLModel",
      "state": {
       "_dom_classes": [],
       "_model_module": "@jupyter-widgets/controls",
       "_model_module_version": "1.5.0",
       "_model_name": "HTMLModel",
       "_view_count": null,
       "_view_module": "@jupyter-widgets/controls",
       "_view_module_version": "1.5.0",
       "_view_name": "HTMLView",
       "description": "",
       "description_tooltip": null,
       "layout": "IPY_MODEL_384dd68d81494877b02a995adb2c849e",
       "placeholder": "​",
       "style": "IPY_MODEL_edb9d0ba56cb457c94a4f906df49259f",
       "value": " 87/87 [03:12&lt;00:00,  2.06s/it]"
      }
     },
     "c287ee07599548bab583d0288db3d561": {
      "model_module": "@jupyter-widgets/controls",
      "model_module_version": "1.5.0",
      "model_name": "HTMLModel",
      "state": {
       "_dom_classes": [],
       "_model_module": "@jupyter-widgets/controls",
       "_model_module_version": "1.5.0",
       "_model_name": "HTMLModel",
       "_view_count": null,
       "_view_module": "@jupyter-widgets/controls",
       "_view_module_version": "1.5.0",
       "_view_name": "HTMLView",
       "description": "",
       "description_tooltip": null,
       "layout": "IPY_MODEL_a797448b88ab44b1ae530eb720acff52",
       "placeholder": "​",
       "style": "IPY_MODEL_81159ff47ea2455c97e3207054cab781",
       "value": "100%"
      }
     },
     "d698f487c611455f9f610459da2f194d": {
      "model_module": "@jupyter-widgets/controls",
      "model_module_version": "1.5.0",
      "model_name": "ProgressStyleModel",
      "state": {
       "_model_module": "@jupyter-widgets/controls",
       "_model_module_version": "1.5.0",
       "_model_name": "ProgressStyleModel",
       "_view_count": null,
       "_view_module": "@jupyter-widgets/base",
       "_view_module_version": "1.2.0",
       "_view_name": "StyleView",
       "bar_color": null,
       "description_width": ""
      }
     },
     "d77f12a49c854531b8bb926813440666": {
      "model_module": "@jupyter-widgets/controls",
      "model_module_version": "1.5.0",
      "model_name": "DescriptionStyleModel",
      "state": {
       "_model_module": "@jupyter-widgets/controls",
       "_model_module_version": "1.5.0",
       "_model_name": "DescriptionStyleModel",
       "_view_count": null,
       "_view_module": "@jupyter-widgets/base",
       "_view_module_version": "1.2.0",
       "_view_name": "StyleView",
       "description_width": ""
      }
     },
     "edb9d0ba56cb457c94a4f906df49259f": {
      "model_module": "@jupyter-widgets/controls",
      "model_module_version": "1.5.0",
      "model_name": "DescriptionStyleModel",
      "state": {
       "_model_module": "@jupyter-widgets/controls",
       "_model_module_version": "1.5.0",
       "_model_name": "DescriptionStyleModel",
       "_view_count": null,
       "_view_module": "@jupyter-widgets/base",
       "_view_module_version": "1.2.0",
       "_view_name": "StyleView",
       "description_width": ""
      }
     },
     "fbbf52e823744564bb3077369f5bf622": {
      "model_module": "@jupyter-widgets/controls",
      "model_module_version": "1.5.0",
      "model_name": "FloatProgressModel",
      "state": {
       "_dom_classes": [],
       "_model_module": "@jupyter-widgets/controls",
       "_model_module_version": "1.5.0",
       "_model_name": "FloatProgressModel",
       "_view_count": null,
       "_view_module": "@jupyter-widgets/controls",
       "_view_module_version": "1.5.0",
       "_view_name": "ProgressView",
       "bar_style": "success",
       "description": "",
       "description_tooltip": null,
       "layout": "IPY_MODEL_0de7aac50e304ee7bf22ff2b74de0b35",
       "max": 87.0,
       "min": 0.0,
       "orientation": "horizontal",
       "style": "IPY_MODEL_d698f487c611455f9f610459da2f194d",
       "value": 87.0
      }
     }
    },
    "version_major": 2,
    "version_minor": 0
   }
  }
 },
 "nbformat": 4,
 "nbformat_minor": 5
}
