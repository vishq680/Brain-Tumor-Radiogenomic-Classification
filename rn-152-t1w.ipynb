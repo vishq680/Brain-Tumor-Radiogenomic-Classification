{
 "cells": [
  {
   "cell_type": "code",
   "execution_count": 1,
   "id": "215ac200",
   "metadata": {
    "_cell_guid": "b1076dfc-b9ad-4769-8c92-a6c4dae69d19",
    "_uuid": "8f2839f25d086af736a60e9eeb907d3b93b6e0e5",
    "execution": {
     "iopub.execute_input": "2021-09-01T16:27:21.985867Z",
     "iopub.status.busy": "2021-09-01T16:27:21.985227Z",
     "iopub.status.idle": "2021-09-01T16:27:24.966652Z",
     "shell.execute_reply": "2021-09-01T16:27:24.966045Z",
     "shell.execute_reply.started": "2021-08-30T05:00:27.810659Z"
    },
    "papermill": {
     "duration": 3.014259,
     "end_time": "2021-09-01T16:27:24.966837",
     "exception": false,
     "start_time": "2021-09-01T16:27:21.952578",
     "status": "completed"
    },
    "tags": []
   },
   "outputs": [],
   "source": [
    "import pytorch_lightning as pl\n",
    "import cv2 as cv\n",
    "import pydicom as dicom\n",
    "from pydicom.pixel_data_handlers import apply_voi_lut\n",
    "import pandas as pd\n",
    "import torch\n",
    "import os\n",
    "from collections import defaultdict\n",
    "from torch.utils.data import Dataset,DataLoader\n",
    "from torchvision import transforms, models\n",
    "import torch.nn as nn\n",
    "import torch.nn.functional as F\n",
    "import torch.optim as optim\n",
    "import copy\n",
    "import numpy as np\n",
    "from PIL import Image,ImageOps\n",
    "import matplotlib.pyplot as plt\n",
    "import sys\n",
    "from tqdm.notebook import tqdm, trange\n",
    "import time"
   ]
  },
  {
   "cell_type": "code",
   "execution_count": 2,
   "id": "bbf5bd6e",
   "metadata": {
    "execution": {
     "iopub.execute_input": "2021-09-01T16:27:25.075279Z",
     "iopub.status.busy": "2021-09-01T16:27:25.074384Z",
     "iopub.status.idle": "2021-09-01T16:27:25.080291Z",
     "shell.execute_reply": "2021-09-01T16:27:25.081005Z",
     "shell.execute_reply.started": "2021-08-30T05:00:30.70551Z"
    },
    "papermill": {
     "duration": 0.084383,
     "end_time": "2021-09-01T16:27:25.081279",
     "exception": false,
     "start_time": "2021-09-01T16:27:24.996896",
     "status": "completed"
    },
    "tags": []
   },
   "outputs": [
    {
     "name": "stdout",
     "output_type": "stream",
     "text": [
      "cuda:0\n"
     ]
    }
   ],
   "source": [
    "device = torch.device(\"cuda:0\" if torch.cuda.is_available() else \"cpu\")\n",
    "# device = torch.device(\"cpu\")\n",
    "print(device)"
   ]
  },
  {
   "cell_type": "code",
   "execution_count": 3,
   "id": "26ed16c1",
   "metadata": {
    "execution": {
     "iopub.execute_input": "2021-09-01T16:27:25.157599Z",
     "iopub.status.busy": "2021-09-01T16:27:25.155905Z",
     "iopub.status.idle": "2021-09-01T16:27:25.158467Z",
     "shell.execute_reply": "2021-09-01T16:27:25.159081Z",
     "shell.execute_reply.started": "2021-08-30T05:00:33.559189Z"
    },
    "papermill": {
     "duration": 0.042434,
     "end_time": "2021-09-01T16:27:25.159377",
     "exception": false,
     "start_time": "2021-09-01T16:27:25.116943",
     "status": "completed"
    },
    "tags": []
   },
   "outputs": [],
   "source": [
    "train_dir = \"../input/rsna-miccai-brain-tumor-radiogenomic-classification/train\"\n",
    "train_labels_dir = \"../input/rsna-miccai-brain-tumor-radiogenomic-classification/train_labels.csv\"\n",
    "test_dir = \"../input/rsna-miccai-brain-tumor-radiogenomic-classification/test\"\n",
    "png_train = \"./png/train\"\n",
    "png_test = \"./png/test\"\n",
    "batch_size = 4"
   ]
  },
  {
   "cell_type": "code",
   "execution_count": 4,
   "id": "b69d25aa",
   "metadata": {
    "execution": {
     "iopub.execute_input": "2021-09-01T16:27:25.234482Z",
     "iopub.status.busy": "2021-09-01T16:27:25.233435Z",
     "iopub.status.idle": "2021-09-01T16:27:25.235901Z",
     "shell.execute_reply": "2021-09-01T16:27:25.235242Z",
     "shell.execute_reply.started": "2021-08-30T05:00:33.858765Z"
    },
    "papermill": {
     "duration": 0.043373,
     "end_time": "2021-09-01T16:27:25.236051",
     "exception": false,
     "start_time": "2021-09-01T16:27:25.192678",
     "status": "completed"
    },
    "tags": []
   },
   "outputs": [],
   "source": [
    "def ensure_dir(file_path):\n",
    "    directory = os.path.dirname(file_path)\n",
    "    if not os.path.exists(directory):\n",
    "        os.makedirs(directory)"
   ]
  },
  {
   "cell_type": "code",
   "execution_count": 5,
   "id": "43641b53",
   "metadata": {
    "execution": {
     "iopub.execute_input": "2021-09-01T16:27:25.313939Z",
     "iopub.status.busy": "2021-09-01T16:27:25.313144Z",
     "iopub.status.idle": "2021-09-01T16:27:25.318637Z",
     "shell.execute_reply": "2021-09-01T16:27:25.319612Z",
     "shell.execute_reply.started": "2021-08-30T05:00:34.427847Z"
    },
    "papermill": {
     "duration": 0.051066,
     "end_time": "2021-09-01T16:27:25.319793",
     "exception": false,
     "start_time": "2021-09-01T16:27:25.268727",
     "status": "completed"
    },
    "tags": []
   },
   "outputs": [],
   "source": [
    "def dicom2png(path,v):\n",
    "    dcm_file = dicom.read_file(path)\n",
    "#     print(np.mean(dcm_file.pixel_array)!=0)\n",
    "    data = apply_voi_lut(dcm_file.pixel_array, dcm_file)\n",
    "    if np.max(data) - np.min(data) != 0:\n",
    "        if dcm_file.PhotometricInterpretation == \"MONOCHROME1\":\n",
    "            data = np.amax(data) - data\n",
    "        data = data - np.min(data)\n",
    "        data = data / np.max(data)\n",
    "        data = (data * 255).astype(np.uint8)\n",
    "        im = Image.fromarray(data)\n",
    "        to_dir = os.path.abspath(png_train)\n",
    "        head,tail = os.path.split(path)\n",
    "        file_name = tail\n",
    "        ls = []\n",
    "        head,tail = os.path.split(head)\n",
    "        ls.append(tail)\n",
    "        head,tail = os.path.split(head)\n",
    "        ls.append(tail)\n",
    "#         print(tail)\n",
    "        ls.reverse()\n",
    "        for loc in ls:\n",
    "            to_dir = os.path.join(to_dir,loc)\n",
    "        to_dir = os.path.abspath(png_train)\n",
    "        to_dir = os.path.join(to_dir,v)\n",
    "        os.makedirs(to_dir, exist_ok = True)\n",
    "        file_name = os.path.splitext(file_name)[0]\n",
    "        file_name += '.png'\n",
    "        to_dir = os.path.join(to_dir,file_name)\n",
    "        im.save(to_dir)"
   ]
  },
  {
   "cell_type": "code",
   "execution_count": 6,
   "id": "0d4eb0bf",
   "metadata": {
    "execution": {
     "iopub.execute_input": "2021-09-01T16:27:25.399170Z",
     "iopub.status.busy": "2021-09-01T16:27:25.398347Z",
     "iopub.status.idle": "2021-09-01T16:27:25.429084Z",
     "shell.execute_reply": "2021-09-01T16:27:25.428356Z",
     "shell.execute_reply.started": "2021-08-30T05:00:34.987362Z"
    },
    "papermill": {
     "duration": 0.07711,
     "end_time": "2021-09-01T16:27:25.429202",
     "exception": false,
     "start_time": "2021-09-01T16:27:25.352092",
     "status": "completed"
    },
    "tags": []
   },
   "outputs": [
    {
     "name": "stdout",
     "output_type": "stream",
     "text": [
      "582\n",
      "-----------------------\n",
      "<class 'list'> <class 'list'>\n",
      "582 582\n"
     ]
    }
   ],
   "source": [
    "train_labels=pd.read_csv(train_labels_dir)\n",
    "train_labels['BraTS21ID'] = train_labels['BraTS21ID'].apply(lambda x: str(x).zfill(5))\n",
    "train_labels = train_labels.set_index('BraTS21ID')\n",
    "train_labels = train_labels.drop(index = '00109')\n",
    "train_labels = train_labels.drop(index = '00123')\n",
    "train_labels = train_labels.drop(index = '00709')\n",
    "train_patients = train_labels.index.values.tolist()\n",
    "test_patients = os.listdir(test_dir)\n",
    "print(len(train_labels))\n",
    "# print(train_labels)\n",
    "print('-----------------------')\n",
    "# lab = train_labels.to_numpy()\n",
    "# print(train_patients)\n",
    "lab = train_labels.values.tolist()\n",
    "print(type(lab),type(train_patients))\n",
    "print(len(lab),len(train_patients))\n",
    "# print(lab)\n",
    "# for x,y in train_patients:\n",
    "#     if(x == 00000):\n",
    "#         print(y)"
   ]
  },
  {
   "cell_type": "code",
   "execution_count": 7,
   "id": "026463c4",
   "metadata": {
    "execution": {
     "iopub.execute_input": "2021-09-01T16:27:25.474251Z",
     "iopub.status.busy": "2021-09-01T16:27:25.473494Z",
     "iopub.status.idle": "2021-09-01T16:39:21.717963Z",
     "shell.execute_reply": "2021-09-01T16:39:21.718522Z",
     "shell.execute_reply.started": "2021-08-30T05:00:35.582819Z"
    },
    "papermill": {
     "duration": 716.269065,
     "end_time": "2021-09-01T16:39:21.718739",
     "exception": false,
     "start_time": "2021-09-01T16:27:25.449674",
     "status": "completed"
    },
    "tags": []
   },
   "outputs": [
    {
     "data": {
      "application/vnd.jupyter.widget-view+json": {
       "model_id": "5abc0d66ca2246a1a6157a8e0f0b2eda",
       "version_major": 2,
       "version_minor": 0
      },
      "text/plain": [
       "  0%|          | 0/582 [00:00<?, ?it/s]"
      ]
     },
     "metadata": {},
     "output_type": "display_data"
    },
    {
     "name": "stdout",
     "output_type": "stream",
     "text": [
      "Over\n"
     ]
    }
   ],
   "source": [
    "for patient in tqdm(train_patients):\n",
    "    id = train_patients.index(patient)\n",
    "    v = lab[id]\n",
    "    m=str(v)\n",
    "#     print(v)\n",
    "    path = os.path.join(train_dir, patient,'T1w')\n",
    "#     print(path)\n",
    "    for dcm_file in os.listdir(path):\n",
    "        file_path = os.path.join(path,dcm_file)\n",
    "        dicom2png(file_path,m)\n",
    "print(\"Over\")"
   ]
  },
  {
   "cell_type": "code",
   "execution_count": 8,
   "id": "88d6dffb",
   "metadata": {
    "execution": {
     "iopub.execute_input": "2021-09-01T16:39:21.763335Z",
     "iopub.status.busy": "2021-09-01T16:39:21.762823Z",
     "iopub.status.idle": "2021-09-01T16:39:21.766295Z",
     "shell.execute_reply": "2021-09-01T16:39:21.766891Z",
     "shell.execute_reply.started": "2021-08-30T05:18:18.323124Z"
    },
    "papermill": {
     "duration": 0.027612,
     "end_time": "2021-09-01T16:39:21.767032",
     "exception": false,
     "start_time": "2021-09-01T16:39:21.739420",
     "status": "completed"
    },
    "tags": []
   },
   "outputs": [],
   "source": [
    "classes=['1','0']\n",
    "num_classes=2\n",
    "batch_size=4"
   ]
  },
  {
   "cell_type": "code",
   "execution_count": 9,
   "id": "a4fee2a3",
   "metadata": {
    "execution": {
     "iopub.execute_input": "2021-09-01T16:39:21.812097Z",
     "iopub.status.busy": "2021-09-01T16:39:21.811318Z",
     "iopub.status.idle": "2021-09-01T16:39:21.818459Z",
     "shell.execute_reply": "2021-09-01T16:39:21.817999Z",
     "shell.execute_reply.started": "2021-08-30T05:18:18.329497Z"
    },
    "papermill": {
     "duration": 0.031249,
     "end_time": "2021-09-01T16:39:21.818581",
     "exception": false,
     "start_time": "2021-09-01T16:39:21.787332",
     "status": "completed"
    },
    "tags": []
   },
   "outputs": [],
   "source": [
    "import torchvision\n",
    "from torchvision import transforms\n",
    "\n",
    "dataset = torchvision.datasets.ImageFolder(root=\"./png/train\",transform=transforms.Compose([\n",
    "                                                            transforms.ToTensor(),\n",
    "                                                            transforms.Resize([224,224]),\n",
    "                                                            ]))"
   ]
  },
  {
   "cell_type": "code",
   "execution_count": 10,
   "id": "c887493f",
   "metadata": {
    "execution": {
     "iopub.execute_input": "2021-09-01T16:39:21.864634Z",
     "iopub.status.busy": "2021-09-01T16:39:21.864010Z",
     "iopub.status.idle": "2021-09-01T16:39:21.868458Z",
     "shell.execute_reply": "2021-09-01T16:39:21.868001Z",
     "shell.execute_reply.started": "2021-08-30T05:18:18.344691Z"
    },
    "papermill": {
     "duration": 0.029635,
     "end_time": "2021-09-01T16:39:21.868591",
     "exception": false,
     "start_time": "2021-09-01T16:39:21.838956",
     "status": "completed"
    },
    "tags": []
   },
   "outputs": [
    {
     "name": "stdout",
     "output_type": "stream",
     "text": [
      "698\n"
     ]
    }
   ],
   "source": [
    "print(len(dataset))\n",
    "trainloader=torch.utils.data.DataLoader(dataset,batch_size=batch_size,shuffle=True,generator=torch.Generator().manual_seed(42))"
   ]
  },
  {
   "cell_type": "code",
   "execution_count": 11,
   "id": "09cc998b",
   "metadata": {
    "execution": {
     "iopub.execute_input": "2021-09-01T16:39:21.915339Z",
     "iopub.status.busy": "2021-09-01T16:39:21.914797Z",
     "iopub.status.idle": "2021-09-01T16:39:21.992605Z",
     "shell.execute_reply": "2021-09-01T16:39:21.992082Z",
     "shell.execute_reply.started": "2021-08-30T05:18:18.352431Z"
    },
    "papermill": {
     "duration": 0.1036,
     "end_time": "2021-09-01T16:39:21.992742",
     "exception": false,
     "start_time": "2021-09-01T16:39:21.889142",
     "status": "completed"
    },
    "tags": []
   },
   "outputs": [],
   "source": [
    "dataiter=iter(trainloader)\n",
    "images,labels=dataiter.next()"
   ]
  },
  {
   "cell_type": "code",
   "execution_count": 12,
   "id": "dc25a5a2",
   "metadata": {
    "execution": {
     "iopub.execute_input": "2021-09-01T16:39:22.044474Z",
     "iopub.status.busy": "2021-09-01T16:39:22.043202Z",
     "iopub.status.idle": "2021-09-01T16:39:22.045558Z",
     "shell.execute_reply": "2021-09-01T16:39:22.046072Z",
     "shell.execute_reply.started": "2021-08-30T05:24:58.80425Z"
    },
    "papermill": {
     "duration": 0.033226,
     "end_time": "2021-09-01T16:39:22.046212",
     "exception": false,
     "start_time": "2021-09-01T16:39:22.012986",
     "status": "completed"
    },
    "tags": []
   },
   "outputs": [],
   "source": [
    "class RN(nn.Module):\n",
    "    def __init__(self,learning_rate=0.001):\n",
    "        super().__init__()\n",
    "        self.learning_rate = learning_rate\n",
    "        backbone = models.resnet152(pretrained=False)\n",
    "        result = backbone.load_state_dict(torch.load(\"../input/pytorch-pretrained-models/resnet152-b121ed2d.pth\"))\n",
    "        print(result)\n",
    "        num_ftrs=backbone.fc.in_features\n",
    "        layers = list(backbone.children())[:-1]\n",
    "        self.feature_extractor = nn.Sequential(*layers)\n",
    "        fc=[]\n",
    "        fc.extend([nn.Linear(in_features=num_ftrs,out_features=512),\n",
    "           nn.ReLU(),\n",
    "           nn.Dropout(),\n",
    "           nn.Linear(in_features=512,out_features=128),\n",
    "           nn.ReLU(),\n",
    "           nn.Dropout(),\n",
    "           nn.Linear(in_features=128,out_features=1)\n",
    "          ])\n",
    "        self.classifier=nn.Sequential(*fc)\n",
    "        for param in self.feature_extractor.parameters():\n",
    "            param.requires_grad=False\n",
    "    def forward(self, x):\n",
    "        with torch.no_grad():\n",
    "            representations = self.feature_extractor(x).flatten(1)\n",
    "        x=self.classifier(representations)\n",
    "        return x;"
   ]
  },
  {
   "cell_type": "code",
   "execution_count": 13,
   "id": "3db17f5c",
   "metadata": {
    "execution": {
     "iopub.execute_input": "2021-09-01T16:39:22.093901Z",
     "iopub.status.busy": "2021-09-01T16:39:22.093249Z",
     "iopub.status.idle": "2021-09-01T16:39:31.015172Z",
     "shell.execute_reply": "2021-09-01T16:39:31.016284Z",
     "shell.execute_reply.started": "2021-08-30T05:25:09.805185Z"
    },
    "papermill": {
     "duration": 8.950208,
     "end_time": "2021-09-01T16:39:31.016512",
     "exception": false,
     "start_time": "2021-09-01T16:39:22.066304",
     "status": "completed"
    },
    "tags": []
   },
   "outputs": [
    {
     "name": "stdout",
     "output_type": "stream",
     "text": [
      "<All keys matched successfully>\n"
     ]
    }
   ],
   "source": [
    "rn=RN().to(device)"
   ]
  },
  {
   "cell_type": "code",
   "execution_count": 14,
   "id": "dc0a1ad4",
   "metadata": {
    "execution": {
     "iopub.execute_input": "2021-09-01T16:39:31.111714Z",
     "iopub.status.busy": "2021-09-01T16:39:31.110891Z",
     "iopub.status.idle": "2021-09-01T16:39:31.117662Z",
     "shell.execute_reply": "2021-09-01T16:39:31.118620Z",
     "shell.execute_reply.started": "2021-08-30T05:25:23.152121Z"
    },
    "papermill": {
     "duration": 0.059189,
     "end_time": "2021-09-01T16:39:31.118909",
     "exception": false,
     "start_time": "2021-09-01T16:39:31.059720",
     "status": "completed"
    },
    "tags": []
   },
   "outputs": [],
   "source": [
    "def train(net,dataloader,epochs=15):\n",
    "    loss_fn=nn.BCEWithLogitsLoss().to(device)\n",
    "    running_loss = 0.0\n",
    "    opt=optim.Adam(params=net.parameters())\n",
    "    for epoch in range(epochs):\n",
    "        print(f'Running Epoch: {epoch+1}')\n",
    "        for i,data in enumerate(dataloader,0):\n",
    "            inputs,labels=data\n",
    "            inputs,labels=inputs.to(device),labels.to(device)\n",
    "            opt.zero_grad()\n",
    "            outputs=net(inputs)\n",
    "            labels=labels.unsqueeze(-1)\n",
    "            labels = labels.type_as(outputs)\n",
    "    #         print(outputs)\n",
    "            loss=loss_fn(outputs,labels)\n",
    "            loss.backward()\n",
    "            opt.step()\n",
    "            running_loss += loss.item()\n",
    "            if i % 200 == 199:    # print every 2000 mini-batches\n",
    "                print('[%d, %5d] loss: %.3f' %\n",
    "                    (epoch + 1, i + 1, running_loss / 200))\n",
    "                running_loss = 0.0\n",
    "            torch.cuda.empty_cache()\n",
    "            del inputs,labels,outputs\n",
    "    print('Finished Training')"
   ]
  },
  {
   "cell_type": "code",
   "execution_count": 15,
   "id": "840443e0",
   "metadata": {
    "execution": {
     "iopub.execute_input": "2021-09-01T16:39:31.207613Z",
     "iopub.status.busy": "2021-09-01T16:39:31.206829Z",
     "iopub.status.idle": "2021-09-01T16:39:31.215858Z",
     "shell.execute_reply": "2021-09-01T16:39:31.217257Z",
     "shell.execute_reply.started": "2021-08-30T05:25:31.108381Z"
    },
    "papermill": {
     "duration": 0.060262,
     "end_time": "2021-09-01T16:39:31.217441",
     "exception": false,
     "start_time": "2021-09-01T16:39:31.157179",
     "status": "completed"
    },
    "tags": []
   },
   "outputs": [
    {
     "name": "stdout",
     "output_type": "stream",
     "text": [
      "torch.Size([512, 2048])\n",
      "torch.Size([512])\n",
      "torch.Size([128, 512])\n",
      "torch.Size([128])\n",
      "torch.Size([1, 128])\n",
      "torch.Size([1])\n"
     ]
    }
   ],
   "source": [
    "for param in rn.parameters():\n",
    "    if param.requires_grad:\n",
    "        print(param.shape)"
   ]
  },
  {
   "cell_type": "code",
   "execution_count": 16,
   "id": "d8f1132d",
   "metadata": {
    "execution": {
     "iopub.execute_input": "2021-09-01T16:39:31.301552Z",
     "iopub.status.busy": "2021-09-01T16:39:31.300658Z",
     "iopub.status.idle": "2021-09-01T16:43:48.972106Z",
     "shell.execute_reply": "2021-09-01T16:43:48.972687Z",
     "shell.execute_reply.started": "2021-08-30T05:25:40.45304Z"
    },
    "papermill": {
     "duration": 257.718914,
     "end_time": "2021-09-01T16:43:48.972896",
     "exception": false,
     "start_time": "2021-09-01T16:39:31.253982",
     "status": "completed"
    },
    "tags": []
   },
   "outputs": [
    {
     "name": "stdout",
     "output_type": "stream",
     "text": [
      "Running Epoch: 1\n",
      "Running Epoch: 2\n",
      "Running Epoch: 3\n",
      "Running Epoch: 4\n",
      "Running Epoch: 5\n",
      "Running Epoch: 6\n",
      "Running Epoch: 7\n",
      "Running Epoch: 8\n",
      "Running Epoch: 9\n",
      "Running Epoch: 10\n",
      "Running Epoch: 11\n",
      "Running Epoch: 12\n",
      "Running Epoch: 13\n",
      "Running Epoch: 14\n",
      "Running Epoch: 15\n",
      "Running Epoch: 16\n",
      "Running Epoch: 17\n",
      "Running Epoch: 18\n",
      "Running Epoch: 19\n",
      "Running Epoch: 20\n",
      "Finished Training\n"
     ]
    }
   ],
   "source": [
    "train(rn,trainloader,20)"
   ]
  },
  {
   "cell_type": "code",
   "execution_count": 17,
   "id": "76949ab4",
   "metadata": {
    "execution": {
     "iopub.execute_input": "2021-09-01T16:43:49.035169Z",
     "iopub.status.busy": "2021-09-01T16:43:49.033828Z",
     "iopub.status.idle": "2021-09-01T16:43:49.036174Z",
     "shell.execute_reply": "2021-09-01T16:43:49.036601Z",
     "shell.execute_reply.started": "2021-08-30T05:32:22.0413Z"
    },
    "papermill": {
     "duration": 0.037073,
     "end_time": "2021-09-01T16:43:49.036731",
     "exception": false,
     "start_time": "2021-09-01T16:43:48.999658",
     "status": "completed"
    },
    "tags": []
   },
   "outputs": [],
   "source": [
    "def dicom2pngt(path,directory = png_train):\n",
    "    dcm_file = dicom.read_file(path)\n",
    "#     print(np.mean(dcm_file.pixel_array)!=0)\n",
    "    if np.max(dcm_file.pixel_array) - np.min(dcm_file.pixel_array) != 0:\n",
    "        data = apply_voi_lut(dcm_file.pixel_array, dcm_file)\n",
    "        if dcm_file.PhotometricInterpretation == \"MONOCHROME1\":\n",
    "            data = np.amax(data) - data\n",
    "        data = data - np.min(data)\n",
    "        data = data / (np.max(data) - np.min(data))\n",
    "        data = (data * 255).astype(np.uint8)\n",
    "        im = Image.fromarray(data)\n",
    "        to_dir = os.path.abspath(directory)\n",
    "        head,tail = os.path.split(path)\n",
    "        file_name = tail\n",
    "        ls = []\n",
    "        head,tail = os.path.split(head)\n",
    "        ls.append(tail)\n",
    "        head,tail = os.path.split(head)\n",
    "        ls.append(tail)\n",
    "        ls.reverse()\n",
    "        for loc in ls:\n",
    "            to_dir = os.path.join(to_dir,loc)\n",
    "        os.makedirs(to_dir, exist_ok = True)\n",
    "        file_name = os.path.splitext(file_name)[0]\n",
    "        file_name += '.png'\n",
    "        to_dir = os.path.join(to_dir,file_name)\n",
    "        im.save(to_dir)"
   ]
  },
  {
   "cell_type": "code",
   "execution_count": 18,
   "id": "a66d476c",
   "metadata": {
    "execution": {
     "iopub.execute_input": "2021-09-01T16:43:49.095088Z",
     "iopub.status.busy": "2021-09-01T16:43:49.093830Z",
     "iopub.status.idle": "2021-09-01T16:43:49.096622Z",
     "shell.execute_reply": "2021-09-01T16:43:49.096205Z",
     "shell.execute_reply.started": "2021-08-30T05:32:22.052738Z"
    },
    "papermill": {
     "duration": 0.034132,
     "end_time": "2021-09-01T16:43:49.096730",
     "exception": false,
     "start_time": "2021-09-01T16:43:49.062598",
     "status": "completed"
    },
    "tags": []
   },
   "outputs": [],
   "source": [
    "def predict(dataloader,model):\n",
    "    y = []\n",
    "    model.eval()\n",
    "    for data in dataloader:\n",
    "        inputs,labels=data\n",
    "        inputs,labels=inputs.to(device),labels.to(device)\n",
    "        outputs=model(inputs)\n",
    "        m = nn.Sigmoid()\n",
    "        outputs=m(outputs)\n",
    "        outputs = outputs.flatten()\n",
    "        for o in outputs:\n",
    "            y.append(o.item())\n",
    "    model.train()\n",
    "    print(len(y))\n",
    "    y_pred = sum(y)/len(y)\n",
    "#     print(y_pred)\n",
    "    return y_pred"
   ]
  },
  {
   "cell_type": "code",
   "execution_count": 19,
   "id": "a9020a50",
   "metadata": {
    "execution": {
     "iopub.execute_input": "2021-09-01T16:43:49.173924Z",
     "iopub.status.busy": "2021-09-01T16:43:49.173098Z",
     "iopub.status.idle": "2021-09-01T16:45:50.415477Z",
     "shell.execute_reply": "2021-09-01T16:45:50.415891Z",
     "shell.execute_reply.started": "2021-08-30T05:32:22.066232Z"
    },
    "papermill": {
     "duration": 121.293774,
     "end_time": "2021-09-01T16:45:50.416063",
     "exception": false,
     "start_time": "2021-09-01T16:43:49.122289",
     "status": "completed"
    },
    "tags": []
   },
   "outputs": [
    {
     "data": {
      "application/vnd.jupyter.widget-view+json": {
       "model_id": "66db785e57f44cf59894b3c26cfe5cfb",
       "version_major": 2,
       "version_minor": 0
      },
      "text/plain": [
       "  0%|          | 0/87 [00:00<?, ?it/s]"
      ]
     },
     "metadata": {},
     "output_type": "display_data"
    },
    {
     "name": "stderr",
     "output_type": "stream",
     "text": [
      "/opt/conda/lib/python3.7/site-packages/ipykernel_launcher.py:9: RuntimeWarning: invalid value encountered in true_divide\n",
      "  if __name__ == '__main__':\n"
     ]
    }
   ],
   "source": [
    "for patient in tqdm(test_patients):\n",
    "#     print(f'patient: {patient}')\n",
    "    path = os.path.join(test_dir, patient,'T1w')\n",
    "    for dcm_file in os.listdir(path):\n",
    "        file_path = os.path.join(path,dcm_file)\n",
    "        dicom2pngt(file_path, directory = png_test)"
   ]
  },
  {
   "cell_type": "code",
   "execution_count": 20,
   "id": "df261624",
   "metadata": {
    "execution": {
     "iopub.execute_input": "2021-09-01T16:45:50.476036Z",
     "iopub.status.busy": "2021-09-01T16:45:50.475469Z",
     "iopub.status.idle": "2021-09-01T16:48:06.933627Z",
     "shell.execute_reply": "2021-09-01T16:48:06.934003Z",
     "shell.execute_reply.started": "2021-08-30T05:35:14.250441Z"
    },
    "papermill": {
     "duration": 136.490566,
     "end_time": "2021-09-01T16:48:06.934166",
     "exception": false,
     "start_time": "2021-09-01T16:45:50.443600",
     "status": "completed"
    },
    "tags": []
   },
   "outputs": [
    {
     "name": "stdout",
     "output_type": "stream",
     "text": [
      "18\n",
      "26\n",
      "25\n",
      "142\n",
      "70\n",
      "21\n",
      "146\n",
      "136\n",
      "149\n",
      "134\n",
      "141\n",
      "136\n",
      "21\n",
      "27\n",
      "147\n",
      "143\n",
      "140\n",
      "142\n",
      "135\n",
      "29\n",
      "142\n",
      "29\n",
      "237\n",
      "128\n",
      "141\n",
      "25\n",
      "139\n",
      "28\n",
      "135\n",
      "118\n",
      "21\n",
      "234\n",
      "142\n",
      "142\n",
      "137\n",
      "144\n",
      "29\n",
      "25\n",
      "28\n",
      "135\n",
      "27\n",
      "29\n",
      "26\n",
      "139\n",
      "147\n",
      "131\n",
      "133\n",
      "27\n",
      "153\n",
      "26\n",
      "91\n",
      "142\n",
      "146\n",
      "231\n",
      "21\n",
      "142\n",
      "27\n",
      "29\n",
      "149\n",
      "72\n",
      "142\n",
      "28\n",
      "227\n",
      "29\n",
      "138\n",
      "21\n",
      "234\n",
      "25\n",
      "147\n",
      "145\n",
      "30\n",
      "150\n",
      "29\n",
      "148\n",
      "25\n",
      "138\n",
      "95\n",
      "144\n",
      "141\n",
      "157\n",
      "155\n",
      "24\n",
      "217\n",
      "150\n",
      "23\n",
      "28\n",
      "28\n"
     ]
    }
   ],
   "source": [
    "y_pred = defaultdict(dict)\n",
    "for patient in test_patients:\n",
    "    path = os.path.join(png_test, patient)\n",
    "#     print(path)\n",
    "    dataset = torchvision.datasets.ImageFolder(root=path,transform=transforms.Compose([transforms.ToTensor(),transforms.Resize([224,224]),]))\n",
    "    testloader=torch.utils.data.DataLoader(dataset,batch_size=batch_size,shuffle=False)\n",
    "\n",
    "    y_pred[patient] = predict(testloader,rn)\n",
    "    \n"
   ]
  },
  {
   "cell_type": "code",
   "execution_count": 21,
   "id": "ff76d935",
   "metadata": {
    "execution": {
     "iopub.execute_input": "2021-09-01T16:48:07.036460Z",
     "iopub.status.busy": "2021-09-01T16:48:07.035869Z",
     "iopub.status.idle": "2021-09-01T16:48:07.042381Z",
     "shell.execute_reply": "2021-09-01T16:48:07.041981Z",
     "shell.execute_reply.started": "2021-08-30T05:37:22.794087Z"
    },
    "papermill": {
     "duration": 0.060085,
     "end_time": "2021-09-01T16:48:07.042522",
     "exception": false,
     "start_time": "2021-09-01T16:48:06.982437",
     "status": "completed"
    },
    "tags": []
   },
   "outputs": [],
   "source": [
    "submission = pd.DataFrame({\"BraTS21ID\":y_pred.keys(),\"MGMT_value\":y_pred.values()})\n",
    "submission.to_csv('submission.csv', index=False)"
   ]
  },
  {
   "cell_type": "code",
   "execution_count": 22,
   "id": "64756288",
   "metadata": {
    "execution": {
     "iopub.execute_input": "2021-09-01T16:48:07.142799Z",
     "iopub.status.busy": "2021-09-01T16:48:07.142171Z",
     "iopub.status.idle": "2021-09-01T16:48:07.145372Z",
     "shell.execute_reply": "2021-09-01T16:48:07.145788Z",
     "shell.execute_reply.started": "2021-08-30T05:37:22.806536Z"
    },
    "papermill": {
     "duration": 0.055853,
     "end_time": "2021-09-01T16:48:07.145914",
     "exception": false,
     "start_time": "2021-09-01T16:48:07.090061",
     "status": "completed"
    },
    "tags": []
   },
   "outputs": [
    {
     "name": "stdout",
     "output_type": "stream",
     "text": [
      "defaultdict(<class 'dict'>, {'00114': 0.4114222808016671, '00013': 0.42583419153323543, '00821': 0.44425392866134644, '00644': 0.4786258497288529, '00699': 0.39224206656217575, '00125': 0.3442735430740175, '00833': 0.36440694250472605, '00762': 0.4765360542737386, '00393': 0.36563289235502283, '00287': 0.39961624128827405, '00434': 0.3507134711488764, '00337': 0.40123964298297377, '00145': 0.474266753310249, '00307': 0.40177158349090153, '00489': 0.3710115211350577, '00749': 0.479589782811545, '00163': 0.3099247641861439, '00384': 0.36604798480238715, '00438': 0.37277957487989355, '00047': 0.4549985486885597, '00323': 0.3336049134147839, '00428': 0.390136629856866, '00462': 0.457082265288518, '00560': 0.47515384294092655, '00422': 0.3933832401290853, '00825': 0.4089160346984863, '00335': 0.3974806901147897, '00082': 0.38900810160807203, '00458': 0.4505740053123898, '01006': 0.4933397297636937, '00573': 0.4038552081301099, '00647': 0.4490379890442913, '00603': 0.47336736741200297, '00712': 0.4134000839901642, '00181': 0.3242616561533761, '00200': 0.34644009752406013, '00129': 0.4680343537495054, '00829': 0.44459140181541446, '00535': 0.4074917111013617, '00721': 0.4526515786294584, '00037': 0.41412329066682746, '00015': 0.4049440360274808, '00463': 0.4075872760552626, '00447': 0.441898695106129, '00662': 0.4160795320256227, '00492': 0.4834014698294283, '00702': 0.5029368225793193, '00027': 0.42615869806872475, '00381': 0.2382798010812086, '00681': 0.4502555040212778, '00592': 0.492701265510622, '00208': 0.38602460469578354, '00213': 0.3305614559005385, '00521': 0.44728910587566756, '00585': 0.47238479980400633, '00355': 0.31707821072826925, '00001': 0.41987501471130934, '00091': 0.4240905683616112, '00190': 0.43840677956206686, '00826': 0.45297764241695404, '00229': 0.3118017793331348, '00135': 0.4400242902338505, '00719': 0.4393681080987275, '00553': 0.39994728102766236, '00769': 0.4562277806841809, '00460': 0.4558600641432263, '00503': 0.4549544715346434, '00822': 0.4488857269287109, '00372': 0.3773978607995169, '00779': 0.46040106426025257, '00997': 0.3970787008603414, '00333': 0.3552550738056501, '00079': 0.443213644726523, '00256': 0.37304733804351575, '00450': 0.49905140161514283, '00467': 0.3811666979521945, '00595': 0.46488866523692485, '00671': 0.4628990835820635, '00252': 0.33142564112835743, '00153': 0.4358122820497318, '00161': 0.31932862468304174, '00264': 0.38436261874934036, '00474': 0.4539364465782719, '00174': 0.3017502524455388, '00119': 0.3047073143331901, '00080': 0.4513246901333332, '00182': 0.3550335557333061})\n"
     ]
    }
   ],
   "source": [
    "print(y_pred)"
   ]
  },
  {
   "cell_type": "code",
   "execution_count": 23,
   "id": "627b8cd3",
   "metadata": {
    "execution": {
     "iopub.execute_input": "2021-09-01T16:48:07.249853Z",
     "iopub.status.busy": "2021-09-01T16:48:07.249151Z",
     "iopub.status.idle": "2021-09-01T16:48:07.262934Z",
     "shell.execute_reply": "2021-09-01T16:48:07.262515Z",
     "shell.execute_reply.started": "2021-08-30T05:37:44.336625Z"
    },
    "papermill": {
     "duration": 0.068958,
     "end_time": "2021-09-01T16:48:07.263049",
     "exception": false,
     "start_time": "2021-09-01T16:48:07.194091",
     "status": "completed"
    },
    "tags": []
   },
   "outputs": [
    {
     "data": {
      "text/html": [
       "<div>\n",
       "<style scoped>\n",
       "    .dataframe tbody tr th:only-of-type {\n",
       "        vertical-align: middle;\n",
       "    }\n",
       "\n",
       "    .dataframe tbody tr th {\n",
       "        vertical-align: top;\n",
       "    }\n",
       "\n",
       "    .dataframe thead th {\n",
       "        text-align: right;\n",
       "    }\n",
       "</style>\n",
       "<table border=\"1\" class=\"dataframe\">\n",
       "  <thead>\n",
       "    <tr style=\"text-align: right;\">\n",
       "      <th></th>\n",
       "      <th>BraTS21ID</th>\n",
       "      <th>MGMT_value</th>\n",
       "    </tr>\n",
       "  </thead>\n",
       "  <tbody>\n",
       "    <tr>\n",
       "      <th>0</th>\n",
       "      <td>00114</td>\n",
       "      <td>0.411422</td>\n",
       "    </tr>\n",
       "    <tr>\n",
       "      <th>1</th>\n",
       "      <td>00013</td>\n",
       "      <td>0.425834</td>\n",
       "    </tr>\n",
       "    <tr>\n",
       "      <th>2</th>\n",
       "      <td>00821</td>\n",
       "      <td>0.444254</td>\n",
       "    </tr>\n",
       "    <tr>\n",
       "      <th>3</th>\n",
       "      <td>00644</td>\n",
       "      <td>0.478626</td>\n",
       "    </tr>\n",
       "    <tr>\n",
       "      <th>4</th>\n",
       "      <td>00699</td>\n",
       "      <td>0.392242</td>\n",
       "    </tr>\n",
       "    <tr>\n",
       "      <th>...</th>\n",
       "      <td>...</td>\n",
       "      <td>...</td>\n",
       "    </tr>\n",
       "    <tr>\n",
       "      <th>82</th>\n",
       "      <td>00474</td>\n",
       "      <td>0.453936</td>\n",
       "    </tr>\n",
       "    <tr>\n",
       "      <th>83</th>\n",
       "      <td>00174</td>\n",
       "      <td>0.301750</td>\n",
       "    </tr>\n",
       "    <tr>\n",
       "      <th>84</th>\n",
       "      <td>00119</td>\n",
       "      <td>0.304707</td>\n",
       "    </tr>\n",
       "    <tr>\n",
       "      <th>85</th>\n",
       "      <td>00080</td>\n",
       "      <td>0.451325</td>\n",
       "    </tr>\n",
       "    <tr>\n",
       "      <th>86</th>\n",
       "      <td>00182</td>\n",
       "      <td>0.355034</td>\n",
       "    </tr>\n",
       "  </tbody>\n",
       "</table>\n",
       "<p>87 rows × 2 columns</p>\n",
       "</div>"
      ],
      "text/plain": [
       "   BraTS21ID  MGMT_value\n",
       "0      00114    0.411422\n",
       "1      00013    0.425834\n",
       "2      00821    0.444254\n",
       "3      00644    0.478626\n",
       "4      00699    0.392242\n",
       "..       ...         ...\n",
       "82     00474    0.453936\n",
       "83     00174    0.301750\n",
       "84     00119    0.304707\n",
       "85     00080    0.451325\n",
       "86     00182    0.355034\n",
       "\n",
       "[87 rows x 2 columns]"
      ]
     },
     "execution_count": 23,
     "metadata": {},
     "output_type": "execute_result"
    }
   ],
   "source": [
    "submission"
   ]
  },
  {
   "cell_type": "code",
   "execution_count": 24,
   "id": "6fe5d2b7",
   "metadata": {
    "execution": {
     "iopub.execute_input": "2021-09-01T16:48:07.368542Z",
     "iopub.status.busy": "2021-09-01T16:48:07.367826Z",
     "iopub.status.idle": "2021-09-01T16:48:07.371275Z",
     "shell.execute_reply": "2021-09-01T16:48:07.370875Z",
     "shell.execute_reply.started": "2021-08-30T05:37:52.905543Z"
    },
    "papermill": {
     "duration": 0.05681,
     "end_time": "2021-09-01T16:48:07.371386",
     "exception": false,
     "start_time": "2021-09-01T16:48:07.314576",
     "status": "completed"
    },
    "tags": []
   },
   "outputs": [],
   "source": [
    "import csv\n",
    "with open(\"submission.csv\", \"w\") as outfile:\n",
    "    writer = csv.writer(outfile)\n",
    "    writer.writerow([\"BraTS21ID\",\"MGMT_value\"])\n",
    "    for key, value in y_pred.items():\n",
    "        writer.writerow([key, value])"
   ]
  },
  {
   "cell_type": "code",
   "execution_count": 25,
   "id": "6e391753",
   "metadata": {
    "execution": {
     "iopub.execute_input": "2021-09-01T16:48:07.473576Z",
     "iopub.status.busy": "2021-09-01T16:48:07.473036Z",
     "iopub.status.idle": "2021-09-01T16:48:08.553816Z",
     "shell.execute_reply": "2021-09-01T16:48:08.553161Z",
     "shell.execute_reply.started": "2021-08-30T05:37:58.98861Z"
    },
    "papermill": {
     "duration": 1.133182,
     "end_time": "2021-09-01T16:48:08.553946",
     "exception": false,
     "start_time": "2021-09-01T16:48:07.420764",
     "status": "completed"
    },
    "tags": []
   },
   "outputs": [],
   "source": [
    "!rm -rf ./png"
   ]
  },
  {
   "cell_type": "code",
   "execution_count": 26,
   "id": "199df8cc",
   "metadata": {
    "execution": {
     "iopub.execute_input": "2021-09-01T16:48:08.681333Z",
     "iopub.status.busy": "2021-09-01T16:48:08.680455Z",
     "iopub.status.idle": "2021-09-01T16:48:09.337133Z",
     "shell.execute_reply": "2021-09-01T16:48:09.336636Z",
     "shell.execute_reply.started": "2021-08-30T05:38:06.581344Z"
    },
    "papermill": {
     "duration": 0.729093,
     "end_time": "2021-09-01T16:48:09.337254",
     "exception": false,
     "start_time": "2021-09-01T16:48:08.608161",
     "status": "completed"
    },
    "tags": []
   },
   "outputs": [
    {
     "name": "stdout",
     "output_type": "stream",
     "text": [
      "__notebook__.ipynb  submission.csv\r\n"
     ]
    }
   ],
   "source": [
    "!ls"
   ]
  },
  {
   "cell_type": "code",
   "execution_count": null,
   "id": "e8cab068",
   "metadata": {
    "papermill": {
     "duration": 0.050327,
     "end_time": "2021-09-01T16:48:09.441001",
     "exception": false,
     "start_time": "2021-09-01T16:48:09.390674",
     "status": "completed"
    },
    "tags": []
   },
   "outputs": [],
   "source": []
  }
 ],
 "metadata": {
  "kernelspec": {
   "display_name": "Python 3",
   "language": "python",
   "name": "python3"
  },
  "language_info": {
   "codemirror_mode": {
    "name": "ipython",
    "version": 3
   },
   "file_extension": ".py",
   "mimetype": "text/x-python",
   "name": "python",
   "nbconvert_exporter": "python",
   "pygments_lexer": "ipython3",
   "version": "3.7.10"
  },
  "papermill": {
   "default_parameters": {},
   "duration": 1255.979742,
   "end_time": "2021-09-01T16:48:11.412258",
   "environment_variables": {},
   "exception": null,
   "input_path": "__notebook__.ipynb",
   "output_path": "__notebook__.ipynb",
   "parameters": {},
   "start_time": "2021-09-01T16:27:15.432516",
   "version": "2.3.3"
  },
  "widgets": {
   "application/vnd.jupyter.widget-state+json": {
    "state": {
     "1b1e649f7a934074a35cbc5e8a9aa9bf": {
      "model_module": "@jupyter-widgets/base",
      "model_module_version": "1.2.0",
      "model_name": "LayoutModel",
      "state": {
       "_model_module": "@jupyter-widgets/base",
       "_model_module_version": "1.2.0",
       "_model_name": "LayoutModel",
       "_view_count": null,
       "_view_module": "@jupyter-widgets/base",
       "_view_module_version": "1.2.0",
       "_view_name": "LayoutView",
       "align_content": null,
       "align_items": null,
       "align_self": null,
       "border": null,
       "bottom": null,
       "display": null,
       "flex": null,
       "flex_flow": null,
       "grid_area": null,
       "grid_auto_columns": null,
       "grid_auto_flow": null,
       "grid_auto_rows": null,
       "grid_column": null,
       "grid_gap": null,
       "grid_row": null,
       "grid_template_areas": null,
       "grid_template_columns": null,
       "grid_template_rows": null,
       "height": null,
       "justify_content": null,
       "justify_items": null,
       "left": null,
       "margin": null,
       "max_height": null,
       "max_width": null,
       "min_height": null,
       "min_width": null,
       "object_fit": null,
       "object_position": null,
       "order": null,
       "overflow": null,
       "overflow_x": null,
       "overflow_y": null,
       "padding": null,
       "right": null,
       "top": null,
       "visibility": null,
       "width": null
      }
     },
     "2146bb4353b5415d8d1b95eb1e71ef14": {
      "model_module": "@jupyter-widgets/base",
      "model_module_version": "1.2.0",
      "model_name": "LayoutModel",
      "state": {
       "_model_module": "@jupyter-widgets/base",
       "_model_module_version": "1.2.0",
       "_model_name": "LayoutModel",
       "_view_count": null,
       "_view_module": "@jupyter-widgets/base",
       "_view_module_version": "1.2.0",
       "_view_name": "LayoutView",
       "align_content": null,
       "align_items": null,
       "align_self": null,
       "border": null,
       "bottom": null,
       "display": null,
       "flex": null,
       "flex_flow": null,
       "grid_area": null,
       "grid_auto_columns": null,
       "grid_auto_flow": null,
       "grid_auto_rows": null,
       "grid_column": null,
       "grid_gap": null,
       "grid_row": null,
       "grid_template_areas": null,
       "grid_template_columns": null,
       "grid_template_rows": null,
       "height": null,
       "justify_content": null,
       "justify_items": null,
       "left": null,
       "margin": null,
       "max_height": null,
       "max_width": null,
       "min_height": null,
       "min_width": null,
       "object_fit": null,
       "object_position": null,
       "order": null,
       "overflow": null,
       "overflow_x": null,
       "overflow_y": null,
       "padding": null,
       "right": null,
       "top": null,
       "visibility": null,
       "width": null
      }
     },
     "41e169fbe2af48f89b381a3a98a524c5": {
      "model_module": "@jupyter-widgets/controls",
      "model_module_version": "1.5.0",
      "model_name": "FloatProgressModel",
      "state": {
       "_dom_classes": [],
       "_model_module": "@jupyter-widgets/controls",
       "_model_module_version": "1.5.0",
       "_model_name": "FloatProgressModel",
       "_view_count": null,
       "_view_module": "@jupyter-widgets/controls",
       "_view_module_version": "1.5.0",
       "_view_name": "ProgressView",
       "bar_style": "success",
       "description": "",
       "description_tooltip": null,
       "layout": "IPY_MODEL_6f0c5331cae94352be4ea5786b515b3c",
       "max": 87.0,
       "min": 0.0,
       "orientation": "horizontal",
       "style": "IPY_MODEL_f41160b05e4849ad8916ac8850138de1",
       "value": 87.0
      }
     },
     "454751b348934429a9813a97428e95b7": {
      "model_module": "@jupyter-widgets/controls",
      "model_module_version": "1.5.0",
      "model_name": "DescriptionStyleModel",
      "state": {
       "_model_module": "@jupyter-widgets/controls",
       "_model_module_version": "1.5.0",
       "_model_name": "DescriptionStyleModel",
       "_view_count": null,
       "_view_module": "@jupyter-widgets/base",
       "_view_module_version": "1.2.0",
       "_view_name": "StyleView",
       "description_width": ""
      }
     },
     "4ba890d8a3144f478cdcc6c74b669b10": {
      "model_module": "@jupyter-widgets/controls",
      "model_module_version": "1.5.0",
      "model_name": "DescriptionStyleModel",
      "state": {
       "_model_module": "@jupyter-widgets/controls",
       "_model_module_version": "1.5.0",
       "_model_name": "DescriptionStyleModel",
       "_view_count": null,
       "_view_module": "@jupyter-widgets/base",
       "_view_module_version": "1.2.0",
       "_view_name": "StyleView",
       "description_width": ""
      }
     },
     "56faa7c9cf0d49aa98feadd261ac6bda": {
      "model_module": "@jupyter-widgets/base",
      "model_module_version": "1.2.0",
      "model_name": "LayoutModel",
      "state": {
       "_model_module": "@jupyter-widgets/base",
       "_model_module_version": "1.2.0",
       "_model_name": "LayoutModel",
       "_view_count": null,
       "_view_module": "@jupyter-widgets/base",
       "_view_module_version": "1.2.0",
       "_view_name": "LayoutView",
       "align_content": null,
       "align_items": null,
       "align_self": null,
       "border": null,
       "bottom": null,
       "display": null,
       "flex": null,
       "flex_flow": null,
       "grid_area": null,
       "grid_auto_columns": null,
       "grid_auto_flow": null,
       "grid_auto_rows": null,
       "grid_column": null,
       "grid_gap": null,
       "grid_row": null,
       "grid_template_areas": null,
       "grid_template_columns": null,
       "grid_template_rows": null,
       "height": null,
       "justify_content": null,
       "justify_items": null,
       "left": null,
       "margin": null,
       "max_height": null,
       "max_width": null,
       "min_height": null,
       "min_width": null,
       "object_fit": null,
       "object_position": null,
       "order": null,
       "overflow": null,
       "overflow_x": null,
       "overflow_y": null,
       "padding": null,
       "right": null,
       "top": null,
       "visibility": null,
       "width": null
      }
     },
     "5abc0d66ca2246a1a6157a8e0f0b2eda": {
      "model_module": "@jupyter-widgets/controls",
      "model_module_version": "1.5.0",
      "model_name": "HBoxModel",
      "state": {
       "_dom_classes": [],
       "_model_module": "@jupyter-widgets/controls",
       "_model_module_version": "1.5.0",
       "_model_name": "HBoxModel",
       "_view_count": null,
       "_view_module": "@jupyter-widgets/controls",
       "_view_module_version": "1.5.0",
       "_view_name": "HBoxView",
       "box_style": "",
       "children": [
        "IPY_MODEL_f189baea1d444fb4b0a21bd20546f478",
        "IPY_MODEL_7a2af3a58983488da5f9c3c11c8fc3cc",
        "IPY_MODEL_f6eecc75f63140bdb8f309a2ac8c696a"
       ],
       "layout": "IPY_MODEL_d55466a726f74da2b775dee328217e6e"
      }
     },
     "60616a080d1744da85e23f1293e8c86f": {
      "model_module": "@jupyter-widgets/controls",
      "model_module_version": "1.5.0",
      "model_name": "HTMLModel",
      "state": {
       "_dom_classes": [],
       "_model_module": "@jupyter-widgets/controls",
       "_model_module_version": "1.5.0",
       "_model_name": "HTMLModel",
       "_view_count": null,
       "_view_module": "@jupyter-widgets/controls",
       "_view_module_version": "1.5.0",
       "_view_name": "HTMLView",
       "description": "",
       "description_tooltip": null,
       "layout": "IPY_MODEL_e41dab0169d84c1c8cda78a5d0901ed5",
       "placeholder": "​",
       "style": "IPY_MODEL_e4bc1690290a43d4a8600b558e754dd7",
       "value": " 87/87 [02:01&lt;00:00,  1.11it/s]"
      }
     },
     "66db785e57f44cf59894b3c26cfe5cfb": {
      "model_module": "@jupyter-widgets/controls",
      "model_module_version": "1.5.0",
      "model_name": "HBoxModel",
      "state": {
       "_dom_classes": [],
       "_model_module": "@jupyter-widgets/controls",
       "_model_module_version": "1.5.0",
       "_model_name": "HBoxModel",
       "_view_count": null,
       "_view_module": "@jupyter-widgets/controls",
       "_view_module_version": "1.5.0",
       "_view_name": "HBoxView",
       "box_style": "",
       "children": [
        "IPY_MODEL_f54a788ce6fa4bc1baf92813b59decf2",
        "IPY_MODEL_41e169fbe2af48f89b381a3a98a524c5",
        "IPY_MODEL_60616a080d1744da85e23f1293e8c86f"
       ],
       "layout": "IPY_MODEL_56faa7c9cf0d49aa98feadd261ac6bda"
      }
     },
     "6f0c5331cae94352be4ea5786b515b3c": {
      "model_module": "@jupyter-widgets/base",
      "model_module_version": "1.2.0",
      "model_name": "LayoutModel",
      "state": {
       "_model_module": "@jupyter-widgets/base",
       "_model_module_version": "1.2.0",
       "_model_name": "LayoutModel",
       "_view_count": null,
       "_view_module": "@jupyter-widgets/base",
       "_view_module_version": "1.2.0",
       "_view_name": "LayoutView",
       "align_content": null,
       "align_items": null,
       "align_self": null,
       "border": null,
       "bottom": null,
       "display": null,
       "flex": null,
       "flex_flow": null,
       "grid_area": null,
       "grid_auto_columns": null,
       "grid_auto_flow": null,
       "grid_auto_rows": null,
       "grid_column": null,
       "grid_gap": null,
       "grid_row": null,
       "grid_template_areas": null,
       "grid_template_columns": null,
       "grid_template_rows": null,
       "height": null,
       "justify_content": null,
       "justify_items": null,
       "left": null,
       "margin": null,
       "max_height": null,
       "max_width": null,
       "min_height": null,
       "min_width": null,
       "object_fit": null,
       "object_position": null,
       "order": null,
       "overflow": null,
       "overflow_x": null,
       "overflow_y": null,
       "padding": null,
       "right": null,
       "top": null,
       "visibility": null,
       "width": null
      }
     },
     "7267a97361d74073bb50c846b22e7d35": {
      "model_module": "@jupyter-widgets/controls",
      "model_module_version": "1.5.0",
      "model_name": "ProgressStyleModel",
      "state": {
       "_model_module": "@jupyter-widgets/controls",
       "_model_module_version": "1.5.0",
       "_model_name": "ProgressStyleModel",
       "_view_count": null,
       "_view_module": "@jupyter-widgets/base",
       "_view_module_version": "1.2.0",
       "_view_name": "StyleView",
       "bar_color": null,
       "description_width": ""
      }
     },
     "7a2af3a58983488da5f9c3c11c8fc3cc": {
      "model_module": "@jupyter-widgets/controls",
      "model_module_version": "1.5.0",
      "model_name": "FloatProgressModel",
      "state": {
       "_dom_classes": [],
       "_model_module": "@jupyter-widgets/controls",
       "_model_module_version": "1.5.0",
       "_model_name": "FloatProgressModel",
       "_view_count": null,
       "_view_module": "@jupyter-widgets/controls",
       "_view_module_version": "1.5.0",
       "_view_name": "ProgressView",
       "bar_style": "success",
       "description": "",
       "description_tooltip": null,
       "layout": "IPY_MODEL_e9a6f6d4679c4f0496a9070b53a71378",
       "max": 582.0,
       "min": 0.0,
       "orientation": "horizontal",
       "style": "IPY_MODEL_7267a97361d74073bb50c846b22e7d35",
       "value": 582.0
      }
     },
     "ad564e73ffc04523bb8599275a0e9246": {
      "model_module": "@jupyter-widgets/controls",
      "model_module_version": "1.5.0",
      "model_name": "DescriptionStyleModel",
      "state": {
       "_model_module": "@jupyter-widgets/controls",
       "_model_module_version": "1.5.0",
       "_model_name": "DescriptionStyleModel",
       "_view_count": null,
       "_view_module": "@jupyter-widgets/base",
       "_view_module_version": "1.2.0",
       "_view_name": "StyleView",
       "description_width": ""
      }
     },
     "af2edfdc0f0542209afbc0fb08090ea8": {
      "model_module": "@jupyter-widgets/base",
      "model_module_version": "1.2.0",
      "model_name": "LayoutModel",
      "state": {
       "_model_module": "@jupyter-widgets/base",
       "_model_module_version": "1.2.0",
       "_model_name": "LayoutModel",
       "_view_count": null,
       "_view_module": "@jupyter-widgets/base",
       "_view_module_version": "1.2.0",
       "_view_name": "LayoutView",
       "align_content": null,
       "align_items": null,
       "align_self": null,
       "border": null,
       "bottom": null,
       "display": null,
       "flex": null,
       "flex_flow": null,
       "grid_area": null,
       "grid_auto_columns": null,
       "grid_auto_flow": null,
       "grid_auto_rows": null,
       "grid_column": null,
       "grid_gap": null,
       "grid_row": null,
       "grid_template_areas": null,
       "grid_template_columns": null,
       "grid_template_rows": null,
       "height": null,
       "justify_content": null,
       "justify_items": null,
       "left": null,
       "margin": null,
       "max_height": null,
       "max_width": null,
       "min_height": null,
       "min_width": null,
       "object_fit": null,
       "object_position": null,
       "order": null,
       "overflow": null,
       "overflow_x": null,
       "overflow_y": null,
       "padding": null,
       "right": null,
       "top": null,
       "visibility": null,
       "width": null
      }
     },
     "d55466a726f74da2b775dee328217e6e": {
      "model_module": "@jupyter-widgets/base",
      "model_module_version": "1.2.0",
      "model_name": "LayoutModel",
      "state": {
       "_model_module": "@jupyter-widgets/base",
       "_model_module_version": "1.2.0",
       "_model_name": "LayoutModel",
       "_view_count": null,
       "_view_module": "@jupyter-widgets/base",
       "_view_module_version": "1.2.0",
       "_view_name": "LayoutView",
       "align_content": null,
       "align_items": null,
       "align_self": null,
       "border": null,
       "bottom": null,
       "display": null,
       "flex": null,
       "flex_flow": null,
       "grid_area": null,
       "grid_auto_columns": null,
       "grid_auto_flow": null,
       "grid_auto_rows": null,
       "grid_column": null,
       "grid_gap": null,
       "grid_row": null,
       "grid_template_areas": null,
       "grid_template_columns": null,
       "grid_template_rows": null,
       "height": null,
       "justify_content": null,
       "justify_items": null,
       "left": null,
       "margin": null,
       "max_height": null,
       "max_width": null,
       "min_height": null,
       "min_width": null,
       "object_fit": null,
       "object_position": null,
       "order": null,
       "overflow": null,
       "overflow_x": null,
       "overflow_y": null,
       "padding": null,
       "right": null,
       "top": null,
       "visibility": null,
       "width": null
      }
     },
     "e41dab0169d84c1c8cda78a5d0901ed5": {
      "model_module": "@jupyter-widgets/base",
      "model_module_version": "1.2.0",
      "model_name": "LayoutModel",
      "state": {
       "_model_module": "@jupyter-widgets/base",
       "_model_module_version": "1.2.0",
       "_model_name": "LayoutModel",
       "_view_count": null,
       "_view_module": "@jupyter-widgets/base",
       "_view_module_version": "1.2.0",
       "_view_name": "LayoutView",
       "align_content": null,
       "align_items": null,
       "align_self": null,
       "border": null,
       "bottom": null,
       "display": null,
       "flex": null,
       "flex_flow": null,
       "grid_area": null,
       "grid_auto_columns": null,
       "grid_auto_flow": null,
       "grid_auto_rows": null,
       "grid_column": null,
       "grid_gap": null,
       "grid_row": null,
       "grid_template_areas": null,
       "grid_template_columns": null,
       "grid_template_rows": null,
       "height": null,
       "justify_content": null,
       "justify_items": null,
       "left": null,
       "margin": null,
       "max_height": null,
       "max_width": null,
       "min_height": null,
       "min_width": null,
       "object_fit": null,
       "object_position": null,
       "order": null,
       "overflow": null,
       "overflow_x": null,
       "overflow_y": null,
       "padding": null,
       "right": null,
       "top": null,
       "visibility": null,
       "width": null
      }
     },
     "e4bc1690290a43d4a8600b558e754dd7": {
      "model_module": "@jupyter-widgets/controls",
      "model_module_version": "1.5.0",
      "model_name": "DescriptionStyleModel",
      "state": {
       "_model_module": "@jupyter-widgets/controls",
       "_model_module_version": "1.5.0",
       "_model_name": "DescriptionStyleModel",
       "_view_count": null,
       "_view_module": "@jupyter-widgets/base",
       "_view_module_version": "1.2.0",
       "_view_name": "StyleView",
       "description_width": ""
      }
     },
     "e9a6f6d4679c4f0496a9070b53a71378": {
      "model_module": "@jupyter-widgets/base",
      "model_module_version": "1.2.0",
      "model_name": "LayoutModel",
      "state": {
       "_model_module": "@jupyter-widgets/base",
       "_model_module_version": "1.2.0",
       "_model_name": "LayoutModel",
       "_view_count": null,
       "_view_module": "@jupyter-widgets/base",
       "_view_module_version": "1.2.0",
       "_view_name": "LayoutView",
       "align_content": null,
       "align_items": null,
       "align_self": null,
       "border": null,
       "bottom": null,
       "display": null,
       "flex": null,
       "flex_flow": null,
       "grid_area": null,
       "grid_auto_columns": null,
       "grid_auto_flow": null,
       "grid_auto_rows": null,
       "grid_column": null,
       "grid_gap": null,
       "grid_row": null,
       "grid_template_areas": null,
       "grid_template_columns": null,
       "grid_template_rows": null,
       "height": null,
       "justify_content": null,
       "justify_items": null,
       "left": null,
       "margin": null,
       "max_height": null,
       "max_width": null,
       "min_height": null,
       "min_width": null,
       "object_fit": null,
       "object_position": null,
       "order": null,
       "overflow": null,
       "overflow_x": null,
       "overflow_y": null,
       "padding": null,
       "right": null,
       "top": null,
       "visibility": null,
       "width": null
      }
     },
     "f189baea1d444fb4b0a21bd20546f478": {
      "model_module": "@jupyter-widgets/controls",
      "model_module_version": "1.5.0",
      "model_name": "HTMLModel",
      "state": {
       "_dom_classes": [],
       "_model_module": "@jupyter-widgets/controls",
       "_model_module_version": "1.5.0",
       "_model_name": "HTMLModel",
       "_view_count": null,
       "_view_module": "@jupyter-widgets/controls",
       "_view_module_version": "1.5.0",
       "_view_name": "HTMLView",
       "description": "",
       "description_tooltip": null,
       "layout": "IPY_MODEL_1b1e649f7a934074a35cbc5e8a9aa9bf",
       "placeholder": "​",
       "style": "IPY_MODEL_ad564e73ffc04523bb8599275a0e9246",
       "value": "100%"
      }
     },
     "f41160b05e4849ad8916ac8850138de1": {
      "model_module": "@jupyter-widgets/controls",
      "model_module_version": "1.5.0",
      "model_name": "ProgressStyleModel",
      "state": {
       "_model_module": "@jupyter-widgets/controls",
       "_model_module_version": "1.5.0",
       "_model_name": "ProgressStyleModel",
       "_view_count": null,
       "_view_module": "@jupyter-widgets/base",
       "_view_module_version": "1.2.0",
       "_view_name": "StyleView",
       "bar_color": null,
       "description_width": ""
      }
     },
     "f54a788ce6fa4bc1baf92813b59decf2": {
      "model_module": "@jupyter-widgets/controls",
      "model_module_version": "1.5.0",
      "model_name": "HTMLModel",
      "state": {
       "_dom_classes": [],
       "_model_module": "@jupyter-widgets/controls",
       "_model_module_version": "1.5.0",
       "_model_name": "HTMLModel",
       "_view_count": null,
       "_view_module": "@jupyter-widgets/controls",
       "_view_module_version": "1.5.0",
       "_view_name": "HTMLView",
       "description": "",
       "description_tooltip": null,
       "layout": "IPY_MODEL_2146bb4353b5415d8d1b95eb1e71ef14",
       "placeholder": "​",
       "style": "IPY_MODEL_4ba890d8a3144f478cdcc6c74b669b10",
       "value": "100%"
      }
     },
     "f6eecc75f63140bdb8f309a2ac8c696a": {
      "model_module": "@jupyter-widgets/controls",
      "model_module_version": "1.5.0",
      "model_name": "HTMLModel",
      "state": {
       "_dom_classes": [],
       "_model_module": "@jupyter-widgets/controls",
       "_model_module_version": "1.5.0",
       "_model_name": "HTMLModel",
       "_view_count": null,
       "_view_module": "@jupyter-widgets/controls",
       "_view_module_version": "1.5.0",
       "_view_name": "HTMLView",
       "description": "",
       "description_tooltip": null,
       "layout": "IPY_MODEL_af2edfdc0f0542209afbc0fb08090ea8",
       "placeholder": "​",
       "style": "IPY_MODEL_454751b348934429a9813a97428e95b7",
       "value": " 582/582 [11:56&lt;00:00,  1.14it/s]"
      }
     }
    },
    "version_major": 2,
    "version_minor": 0
   }
  }
 },
 "nbformat": 4,
 "nbformat_minor": 5
}
